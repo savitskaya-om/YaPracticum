{
 "cells": [
  {
   "cell_type": "markdown",
   "metadata": {},
   "source": [
    "# Принятие решений на основе данных"
   ]
  },
  {
   "cell_type": "markdown",
   "metadata": {},
   "source": [
    "Анализируем гипотезы для увеличения выручки крупного интернет-магазина совместно с отделом маркетинга: сперва приоритизируем гипотезы, затем запуститм A/B-тест и проанализируем результаты. "
   ]
  },
  {
   "cell_type": "markdown",
   "metadata": {},
   "source": [
    "## Часть 1. Приоритизация гипотез."
   ]
  },
  {
   "cell_type": "markdown",
   "metadata": {},
   "source": [
    "В файле /datasets/hypothesis.csv 9 гипотез по увеличению выручки интернет-магазина с указанными параметрами Reach, Impact, Confidence, Effort."
   ]
  },
  {
   "cell_type": "code",
   "execution_count": 1,
   "metadata": {},
   "outputs": [],
   "source": [
    "import pandas as pd\n",
    "import numpy as np\n",
    "import datetime as dt\n",
    "import matplotlib.pyplot as plt\n",
    "import scipy.stats as stats"
   ]
  },
  {
   "cell_type": "code",
   "execution_count": 2,
   "metadata": {},
   "outputs": [
    {
     "data": {
      "text/html": [
       "<div>\n",
       "<style scoped>\n",
       "    .dataframe tbody tr th:only-of-type {\n",
       "        vertical-align: middle;\n",
       "    }\n",
       "\n",
       "    .dataframe tbody tr th {\n",
       "        vertical-align: top;\n",
       "    }\n",
       "\n",
       "    .dataframe thead th {\n",
       "        text-align: right;\n",
       "    }\n",
       "</style>\n",
       "<table border=\"1\" class=\"dataframe\">\n",
       "  <thead>\n",
       "    <tr style=\"text-align: right;\">\n",
       "      <th></th>\n",
       "      <th>Hypothesis</th>\n",
       "      <th>Reach</th>\n",
       "      <th>Impact</th>\n",
       "      <th>Confidence</th>\n",
       "      <th>Efforts</th>\n",
       "    </tr>\n",
       "  </thead>\n",
       "  <tbody>\n",
       "    <tr>\n",
       "      <th>0</th>\n",
       "      <td>Добавить два новых канала привлечения трафика,...</td>\n",
       "      <td>3</td>\n",
       "      <td>10</td>\n",
       "      <td>8</td>\n",
       "      <td>6</td>\n",
       "    </tr>\n",
       "    <tr>\n",
       "      <th>1</th>\n",
       "      <td>Запустить собственную службу доставки, что сок...</td>\n",
       "      <td>2</td>\n",
       "      <td>5</td>\n",
       "      <td>4</td>\n",
       "      <td>10</td>\n",
       "    </tr>\n",
       "    <tr>\n",
       "      <th>2</th>\n",
       "      <td>Добавить блоки рекомендаций товаров на сайт ин...</td>\n",
       "      <td>8</td>\n",
       "      <td>3</td>\n",
       "      <td>7</td>\n",
       "      <td>3</td>\n",
       "    </tr>\n",
       "    <tr>\n",
       "      <th>3</th>\n",
       "      <td>Изменить структура категорий, что увеличит кон...</td>\n",
       "      <td>8</td>\n",
       "      <td>3</td>\n",
       "      <td>3</td>\n",
       "      <td>8</td>\n",
       "    </tr>\n",
       "    <tr>\n",
       "      <th>4</th>\n",
       "      <td>Изменить цвет фона главной страницы, чтобы уве...</td>\n",
       "      <td>3</td>\n",
       "      <td>1</td>\n",
       "      <td>1</td>\n",
       "      <td>1</td>\n",
       "    </tr>\n",
       "  </tbody>\n",
       "</table>\n",
       "</div>"
      ],
      "text/plain": [
       "                                          Hypothesis  Reach  Impact  \\\n",
       "0  Добавить два новых канала привлечения трафика,...      3      10   \n",
       "1  Запустить собственную службу доставки, что сок...      2       5   \n",
       "2  Добавить блоки рекомендаций товаров на сайт ин...      8       3   \n",
       "3  Изменить структура категорий, что увеличит кон...      8       3   \n",
       "4  Изменить цвет фона главной страницы, чтобы уве...      3       1   \n",
       "\n",
       "   Confidence  Efforts  \n",
       "0           8        6  \n",
       "1           4       10  \n",
       "2           7        3  \n",
       "3           3        8  \n",
       "4           1        1  "
      ]
     },
     "execution_count": 2,
     "metadata": {},
     "output_type": "execute_result"
    }
   ],
   "source": [
    "hypothesis = pd.read_csv('/datasets/hypothesis.csv')\n",
    "hypothesis.head(5)"
   ]
  },
  {
   "cell_type": "code",
   "execution_count": 3,
   "metadata": {},
   "outputs": [],
   "source": [
    "hypothesis.columns = hypothesis.columns.str.lower()"
   ]
  },
  {
   "cell_type": "markdown",
   "metadata": {},
   "source": [
    "*Reach — скольких пользователей затронет изменение, которое вы хотите внести;*\n",
    "\n",
    "*Impact — насколько сильно изменение повлияет на пользователей, их опыт и удовлетворение от продукта;*\n",
    "\n",
    "*Confidence — насколько вы уверены, что это изменение повлияет на пользователей именно так;*\n",
    "\n",
    "*Efforts — сколько стоит протестировать эту гипотезу.* "
   ]
  },
  {
   "cell_type": "markdown",
   "metadata": {},
   "source": [
    "### Примените фреймворк ICE для приоритизации гипотез. \n",
    "Отсортируйте их по убыванию приоритета."
   ]
  },
  {
   "cell_type": "code",
   "execution_count": 4,
   "metadata": {},
   "outputs": [
    {
     "name": "stdout",
     "output_type": "stream",
     "text": [
      "                                          hypothesis        ICE\n",
      "8  Запустить акцию, дающую скидку на товар в день...  16.200000\n",
      "0  Добавить два новых канала привлечения трафика,...  13.333333\n",
      "7  Добавить форму подписки на все основные страни...  11.200000\n",
      "6  Показать на главной странице баннеры с актуаль...   8.000000\n",
      "2  Добавить блоки рекомендаций товаров на сайт ин...   7.000000\n",
      "1  Запустить собственную службу доставки, что сок...   2.000000\n",
      "5  Добавить страницу отзывов клиентов о магазине,...   1.333333\n",
      "3  Изменить структура категорий, что увеличит кон...   1.125000\n",
      "4  Изменить цвет фона главной страницы, чтобы уве...   1.000000\n"
     ]
    }
   ],
   "source": [
    "hypothesis['ICE'] = hypothesis['impact'] * hypothesis['confidence'] / hypothesis['efforts']\n",
    "print(hypothesis[['hypothesis','ICE']].sort_values(by = 'ICE', ascending = False))"
   ]
  },
  {
   "cell_type": "markdown",
   "metadata": {},
   "source": [
    "Наиболее перспективные гипотезы по ICE - гипотезы 8, 0, 7, 6 и 2."
   ]
  },
  {
   "cell_type": "markdown",
   "metadata": {},
   "source": [
    "### Примените фреймворк RICE для приоритизации гипотез. \n",
    "Отсортируйте их по убыванию приоритета."
   ]
  },
  {
   "cell_type": "code",
   "execution_count": 5,
   "metadata": {},
   "outputs": [
    {
     "name": "stdout",
     "output_type": "stream",
     "text": [
      "                                          hypothesis   RICE\n",
      "7  Добавить форму подписки на все основные страни...  112.0\n",
      "2  Добавить блоки рекомендаций товаров на сайт ин...   56.0\n",
      "0  Добавить два новых канала привлечения трафика,...   40.0\n",
      "6  Показать на главной странице баннеры с актуаль...   40.0\n",
      "8  Запустить акцию, дающую скидку на товар в день...   16.2\n",
      "3  Изменить структура категорий, что увеличит кон...    9.0\n",
      "1  Запустить собственную службу доставки, что сок...    4.0\n",
      "5  Добавить страницу отзывов клиентов о магазине,...    4.0\n",
      "4  Изменить цвет фона главной страницы, чтобы уве...    3.0\n"
     ]
    }
   ],
   "source": [
    "hypothesis['RICE'] = hypothesis['reach'] * hypothesis['impact'] * hypothesis['confidence'] / hypothesis['efforts']\n",
    "print(hypothesis[['hypothesis','RICE']].sort_values(by = 'RICE', ascending = False))"
   ]
  },
  {
   "cell_type": "markdown",
   "metadata": {},
   "source": [
    "По RICE список наиболее перспективных гипотез не изменился, однако изменился порядок приоритизации гипотез: 7, 2, 0, 6, 8."
   ]
  },
  {
   "cell_type": "markdown",
   "metadata": {},
   "source": [
    "### Укажите, как изменилась приоритизация гипотез при применении RICE вместо ICE. Объясните, почему так произошло."
   ]
  },
  {
   "cell_type": "code",
   "execution_count": 6,
   "metadata": {},
   "outputs": [
    {
     "data": {
      "text/html": [
       "<div>\n",
       "<style scoped>\n",
       "    .dataframe tbody tr th:only-of-type {\n",
       "        vertical-align: middle;\n",
       "    }\n",
       "\n",
       "    .dataframe tbody tr th {\n",
       "        vertical-align: top;\n",
       "    }\n",
       "\n",
       "    .dataframe thead th {\n",
       "        text-align: right;\n",
       "    }\n",
       "</style>\n",
       "<table border=\"1\" class=\"dataframe\">\n",
       "  <thead>\n",
       "    <tr style=\"text-align: right;\">\n",
       "      <th></th>\n",
       "      <th>hypothesis</th>\n",
       "      <th>reach</th>\n",
       "      <th>impact</th>\n",
       "      <th>confidence</th>\n",
       "      <th>efforts</th>\n",
       "      <th>ICE</th>\n",
       "      <th>RICE</th>\n",
       "    </tr>\n",
       "  </thead>\n",
       "  <tbody>\n",
       "    <tr>\n",
       "      <th>7</th>\n",
       "      <td>Добавить форму подписки на все основные страни...</td>\n",
       "      <td>10</td>\n",
       "      <td>7</td>\n",
       "      <td>8</td>\n",
       "      <td>5</td>\n",
       "      <td>11.200000</td>\n",
       "      <td>112.0</td>\n",
       "    </tr>\n",
       "    <tr>\n",
       "      <th>2</th>\n",
       "      <td>Добавить блоки рекомендаций товаров на сайт ин...</td>\n",
       "      <td>8</td>\n",
       "      <td>3</td>\n",
       "      <td>7</td>\n",
       "      <td>3</td>\n",
       "      <td>7.000000</td>\n",
       "      <td>56.0</td>\n",
       "    </tr>\n",
       "    <tr>\n",
       "      <th>0</th>\n",
       "      <td>Добавить два новых канала привлечения трафика,...</td>\n",
       "      <td>3</td>\n",
       "      <td>10</td>\n",
       "      <td>8</td>\n",
       "      <td>6</td>\n",
       "      <td>13.333333</td>\n",
       "      <td>40.0</td>\n",
       "    </tr>\n",
       "    <tr>\n",
       "      <th>6</th>\n",
       "      <td>Показать на главной странице баннеры с актуаль...</td>\n",
       "      <td>5</td>\n",
       "      <td>3</td>\n",
       "      <td>8</td>\n",
       "      <td>3</td>\n",
       "      <td>8.000000</td>\n",
       "      <td>40.0</td>\n",
       "    </tr>\n",
       "    <tr>\n",
       "      <th>8</th>\n",
       "      <td>Запустить акцию, дающую скидку на товар в день...</td>\n",
       "      <td>1</td>\n",
       "      <td>9</td>\n",
       "      <td>9</td>\n",
       "      <td>5</td>\n",
       "      <td>16.200000</td>\n",
       "      <td>16.2</td>\n",
       "    </tr>\n",
       "  </tbody>\n",
       "</table>\n",
       "</div>"
      ],
      "text/plain": [
       "                                          hypothesis  reach  impact  \\\n",
       "7  Добавить форму подписки на все основные страни...     10       7   \n",
       "2  Добавить блоки рекомендаций товаров на сайт ин...      8       3   \n",
       "0  Добавить два новых канала привлечения трафика,...      3      10   \n",
       "6  Показать на главной странице баннеры с актуаль...      5       3   \n",
       "8  Запустить акцию, дающую скидку на товар в день...      1       9   \n",
       "\n",
       "   confidence  efforts        ICE   RICE  \n",
       "7           8        5  11.200000  112.0  \n",
       "2           7        3   7.000000   56.0  \n",
       "0           8        6  13.333333   40.0  \n",
       "6           8        3   8.000000   40.0  \n",
       "8           9        5  16.200000   16.2  "
      ]
     },
     "execution_count": 6,
     "metadata": {},
     "output_type": "execute_result"
    }
   ],
   "source": [
    "hypothesis.iloc[[7, 2, 0, 6, 8]]"
   ]
  },
  {
   "cell_type": "markdown",
   "metadata": {},
   "source": [
    "Метод RICE отличается от метода ICE тем, что учитывает, как много пользователей затронет гипотеза (параметр Reach). Изменение в порядке приоритизации гипотез при применении фреймворков ICE и RICE обусловлено тем, что у гипотез 7 и 2 очень высокий параметр reach, а у гипотезы 8, наоборот, очень низкий.\n"
   ]
  },
  {
   "cell_type": "markdown",
   "metadata": {},
   "source": [
    "## Часть 2. Анализ A/B-теста"
   ]
  },
  {
   "cell_type": "markdown",
   "metadata": {},
   "source": [
    "Вы провели A/B-тест и получили результаты, которые описаны в файлах /datasets/orders.csv и /datasets/visitors.csv."
   ]
  },
  {
   "cell_type": "code",
   "execution_count": 7,
   "metadata": {},
   "outputs": [
    {
     "data": {
      "text/html": [
       "<div>\n",
       "<style scoped>\n",
       "    .dataframe tbody tr th:only-of-type {\n",
       "        vertical-align: middle;\n",
       "    }\n",
       "\n",
       "    .dataframe tbody tr th {\n",
       "        vertical-align: top;\n",
       "    }\n",
       "\n",
       "    .dataframe thead th {\n",
       "        text-align: right;\n",
       "    }\n",
       "</style>\n",
       "<table border=\"1\" class=\"dataframe\">\n",
       "  <thead>\n",
       "    <tr style=\"text-align: right;\">\n",
       "      <th></th>\n",
       "      <th>transactionId</th>\n",
       "      <th>visitorId</th>\n",
       "      <th>date</th>\n",
       "      <th>revenue</th>\n",
       "      <th>group</th>\n",
       "    </tr>\n",
       "  </thead>\n",
       "  <tbody>\n",
       "    <tr>\n",
       "      <th>0</th>\n",
       "      <td>3667963787</td>\n",
       "      <td>3312258926</td>\n",
       "      <td>2019-08-15</td>\n",
       "      <td>1650</td>\n",
       "      <td>B</td>\n",
       "    </tr>\n",
       "    <tr>\n",
       "      <th>1</th>\n",
       "      <td>2804400009</td>\n",
       "      <td>3642806036</td>\n",
       "      <td>2019-08-15</td>\n",
       "      <td>730</td>\n",
       "      <td>B</td>\n",
       "    </tr>\n",
       "    <tr>\n",
       "      <th>2</th>\n",
       "      <td>2961555356</td>\n",
       "      <td>4069496402</td>\n",
       "      <td>2019-08-15</td>\n",
       "      <td>400</td>\n",
       "      <td>A</td>\n",
       "    </tr>\n",
       "    <tr>\n",
       "      <th>3</th>\n",
       "      <td>3797467345</td>\n",
       "      <td>1196621759</td>\n",
       "      <td>2019-08-15</td>\n",
       "      <td>9759</td>\n",
       "      <td>B</td>\n",
       "    </tr>\n",
       "    <tr>\n",
       "      <th>4</th>\n",
       "      <td>2282983706</td>\n",
       "      <td>2322279887</td>\n",
       "      <td>2019-08-15</td>\n",
       "      <td>2308</td>\n",
       "      <td>B</td>\n",
       "    </tr>\n",
       "  </tbody>\n",
       "</table>\n",
       "</div>"
      ],
      "text/plain": [
       "   transactionId   visitorId        date  revenue group\n",
       "0     3667963787  3312258926  2019-08-15     1650     B\n",
       "1     2804400009  3642806036  2019-08-15      730     B\n",
       "2     2961555356  4069496402  2019-08-15      400     A\n",
       "3     3797467345  1196621759  2019-08-15     9759     B\n",
       "4     2282983706  2322279887  2019-08-15     2308     B"
      ]
     },
     "metadata": {},
     "output_type": "display_data"
    },
    {
     "data": {
      "text/html": [
       "<div>\n",
       "<style scoped>\n",
       "    .dataframe tbody tr th:only-of-type {\n",
       "        vertical-align: middle;\n",
       "    }\n",
       "\n",
       "    .dataframe tbody tr th {\n",
       "        vertical-align: top;\n",
       "    }\n",
       "\n",
       "    .dataframe thead th {\n",
       "        text-align: right;\n",
       "    }\n",
       "</style>\n",
       "<table border=\"1\" class=\"dataframe\">\n",
       "  <thead>\n",
       "    <tr style=\"text-align: right;\">\n",
       "      <th></th>\n",
       "      <th>date</th>\n",
       "      <th>group</th>\n",
       "      <th>visitors</th>\n",
       "    </tr>\n",
       "  </thead>\n",
       "  <tbody>\n",
       "    <tr>\n",
       "      <th>0</th>\n",
       "      <td>2019-08-01</td>\n",
       "      <td>A</td>\n",
       "      <td>719</td>\n",
       "    </tr>\n",
       "    <tr>\n",
       "      <th>1</th>\n",
       "      <td>2019-08-02</td>\n",
       "      <td>A</td>\n",
       "      <td>619</td>\n",
       "    </tr>\n",
       "    <tr>\n",
       "      <th>2</th>\n",
       "      <td>2019-08-03</td>\n",
       "      <td>A</td>\n",
       "      <td>507</td>\n",
       "    </tr>\n",
       "    <tr>\n",
       "      <th>3</th>\n",
       "      <td>2019-08-04</td>\n",
       "      <td>A</td>\n",
       "      <td>717</td>\n",
       "    </tr>\n",
       "    <tr>\n",
       "      <th>4</th>\n",
       "      <td>2019-08-05</td>\n",
       "      <td>A</td>\n",
       "      <td>756</td>\n",
       "    </tr>\n",
       "  </tbody>\n",
       "</table>\n",
       "</div>"
      ],
      "text/plain": [
       "         date group  visitors\n",
       "0  2019-08-01     A       719\n",
       "1  2019-08-02     A       619\n",
       "2  2019-08-03     A       507\n",
       "3  2019-08-04     A       717\n",
       "4  2019-08-05     A       756"
      ]
     },
     "metadata": {},
     "output_type": "display_data"
    }
   ],
   "source": [
    "orders = pd.read_csv('/datasets/orders.csv')\n",
    "visitors = pd.read_csv('/datasets/visitors.csv')\n",
    "display(orders.head(5))\n",
    "display(visitors.head(5))"
   ]
  },
  {
   "cell_type": "code",
   "execution_count": 8,
   "metadata": {},
   "outputs": [
    {
     "name": "stdout",
     "output_type": "stream",
     "text": [
      "<class 'pandas.core.frame.DataFrame'>\n",
      "RangeIndex: 1197 entries, 0 to 1196\n",
      "Data columns (total 5 columns):\n",
      " #   Column         Non-Null Count  Dtype \n",
      "---  ------         --------------  ----- \n",
      " 0   transactionId  1197 non-null   int64 \n",
      " 1   visitorId      1197 non-null   int64 \n",
      " 2   date           1197 non-null   object\n",
      " 3   revenue        1197 non-null   int64 \n",
      " 4   group          1197 non-null   object\n",
      "dtypes: int64(3), object(2)\n",
      "memory usage: 46.9+ KB\n"
     ]
    }
   ],
   "source": [
    "orders.info()"
   ]
  },
  {
   "cell_type": "code",
   "execution_count": 9,
   "metadata": {},
   "outputs": [
    {
     "name": "stdout",
     "output_type": "stream",
     "text": [
      "<class 'pandas.core.frame.DataFrame'>\n",
      "RangeIndex: 62 entries, 0 to 61\n",
      "Data columns (total 3 columns):\n",
      " #   Column    Non-Null Count  Dtype \n",
      "---  ------    --------------  ----- \n",
      " 0   date      62 non-null     object\n",
      " 1   group     62 non-null     object\n",
      " 2   visitors  62 non-null     int64 \n",
      "dtypes: int64(1), object(2)\n",
      "memory usage: 1.6+ KB\n"
     ]
    }
   ],
   "source": [
    "visitors.info()"
   ]
  },
  {
   "cell_type": "code",
   "execution_count": 10,
   "metadata": {},
   "outputs": [
    {
     "data": {
      "text/plain": [
       "0"
      ]
     },
     "metadata": {},
     "output_type": "display_data"
    },
    {
     "data": {
      "text/plain": [
       "0"
      ]
     },
     "metadata": {},
     "output_type": "display_data"
    }
   ],
   "source": [
    "display(orders.duplicated().sum())\n",
    "display(visitors.duplicated().sum())"
   ]
  },
  {
   "cell_type": "markdown",
   "metadata": {},
   "source": [
    "Пропусков в данных нет, явных дубликтов нет. Приведем колонки с датами к соответствующему формату."
   ]
  },
  {
   "cell_type": "code",
   "execution_count": 11,
   "metadata": {},
   "outputs": [],
   "source": [
    "orders['date'] = orders['date'].map(lambda x: dt.datetime.strptime(x, '%Y-%m-%d'))\n",
    "visitors['date'] = visitors['date'].map(lambda x: dt.datetime.strptime(x, '%Y-%m-%d'))"
   ]
  },
  {
   "cell_type": "markdown",
   "metadata": {},
   "source": [
    "### Анализ A/B-теста"
   ]
  },
  {
   "cell_type": "markdown",
   "metadata": {},
   "source": [
    "Создадим переменные, необходимые для дальнейшего анализа."
   ]
  },
  {
   "cell_type": "code",
   "execution_count": 12,
   "metadata": {},
   "outputs": [],
   "source": [
    "# Создаем датафрейм datesGroups с уникальными парами значений 'date' и 'group' из таблицы orders. \n",
    "datesGroups = orders[['date','group']].drop_duplicates()\n",
    "# Объявляем переменную ordersAggregated, содержащую данные с датой, группой A/B-теста, числом уникальных заказов (кумулятивным), числом уникальных пользователей (кумулятивным), совершивших хотя бы 1 заказ, кумулятивную сумму выручки\n",
    "ordersAggregated = (datesGroups\n",
    "                    .apply(lambda x: orders[np.logical_and(orders['date']<= x['date'], orders['group'] == x['group'])]\n",
    "                           .agg({'date':'max', 'group':'max', 'transactionId':'nunique', 'visitorId':'nunique', 'revenue':'sum'}),axis = 1)\n",
    "                    .sort_values(by=['date','group']))\n",
    "\n",
    "# Объявляем переменную visitorsAggregated, содержащую дату, группу A/B-теста, количество уникальных посетителей (кумулятивное)\n",
    "visitorsAggregated = (datesGroups\n",
    "                      .apply(lambda x: visitors[np.logical_and(visitors['date']<= x['date'], visitors['group'] == x['group'])]\n",
    "                             .agg({'date':'max', 'group':'max', 'visitors':'sum'}), axis = 1)\n",
    "                      .sort_values(by=['date','group']))\n",
    "# Определяем переменную cumulativeData - объединение ordersAggregated и visitorsAggregated по колонкам 'date', 'group'\n",
    "cumulativeData =  ordersAggregated.merge(visitorsAggregated , left_on = ['date', 'group'], right_on=['date', 'group'])\n",
    "cumulativeData.columns = ['date', 'group', 'orders', 'buyers', 'revenue', 'visitors']\n"
   ]
  },
  {
   "cell_type": "markdown",
   "metadata": {},
   "source": [
    "#### Построим график кумулятивной выручки по группам. \n",
    "Сделайте выводы и предположения."
   ]
  },
  {
   "cell_type": "code",
   "execution_count": 13,
   "metadata": {},
   "outputs": [
    {
     "data": {
      "image/png": "[encoded data removed]",
      "text/plain": [
       "<Figure size 1080x432 with 1 Axes>"
      ]
     },
     "metadata": {
      "needs_background": "light"
     },
     "output_type": "display_data"
    }
   ],
   "source": [
    "cumulativeRevenueA = cumulativeData[cumulativeData['group']=='A'][['date','revenue', 'orders']]\n",
    "cumulativeRevenueB = cumulativeData[cumulativeData['group']=='B'][['date','revenue', 'orders']]\n",
    "\n",
    "plt.subplots(figsize = (15,6))\n",
    "plt.plot(cumulativeRevenueA['date'], cumulativeRevenueA['revenue'], label='A')\n",
    "plt.plot(cumulativeRevenueB['date'], cumulativeRevenueB['revenue'], label='B')\n",
    "plt.xlabel(\"дата\")\n",
    "plt.ylabel(\"кумулятивная выручка\")\n",
    "plt.legend() \n",
    "plt.title('график кумулятивной выручки по группам')\n",
    "plt.show();"
   ]
  },
  {
   "cell_type": "markdown",
   "metadata": {},
   "source": [
    "Выручка почти равномерно увеличивается в течение всего теста. \n",
    "У группыы В график выручки имеет резкий скачок в районе 18 или 19 сентября. Это может сигнализировать о всплесках числа заказов, либо о появлении очень дорогих заказов в выборке. Такие выбросы проанализируем ниже."
   ]
  },
  {
   "cell_type": "markdown",
   "metadata": {},
   "source": [
    "#### Построим график кумулятивного среднего чека по группам. \n"
   ]
  },
  {
   "cell_type": "code",
   "execution_count": 14,
   "metadata": {},
   "outputs": [
    {
     "data": {
      "image/png": "[encoded data removed]",
      "text/plain": [
       "<Figure size 1080x432 with 1 Axes>"
      ]
     },
     "metadata": {
      "needs_background": "light"
     },
     "output_type": "display_data"
    }
   ],
   "source": [
    "plt.subplots(figsize = (15,6))\n",
    "plt.plot(cumulativeRevenueA['date'], cumulativeRevenueA['revenue']/cumulativeRevenueA['orders'], label='A')\n",
    "plt.plot(cumulativeRevenueB['date'], cumulativeRevenueB['revenue']/cumulativeRevenueB['orders'], label='B')\n",
    "plt.xlabel(\"дата\")\n",
    "plt.ylabel(\"кумулятивная средний чек\")\n",
    "plt.legend() \n",
    "plt.title('график кумулятивного среднего чека по группам') ;"
   ]
  },
  {
   "cell_type": "markdown",
   "metadata": {},
   "source": [
    "Средний чек стабилизировался во воторой половине теста и к концу теста для группы A установился , а для группы B продолжает падать. Возможно, в группу B в первой половине теста попали крупные заказы (резкий всплеск на графике). Тогда ей нужно больше данных, чтобы прийти к реальному среднему чеку и установиться на его уровне."
   ]
  },
  {
   "cell_type": "markdown",
   "metadata": {},
   "source": [
    "#### Построим график относительного изменения кумулятивного среднего чека группы B к группе A. \n"
   ]
  },
  {
   "cell_type": "code",
   "execution_count": 15,
   "metadata": {},
   "outputs": [
    {
     "data": {
      "image/png": "[encoded data removed]",
      "text/plain": [
       "<Figure size 1080x432 with 1 Axes>"
      ]
     },
     "metadata": {
      "needs_background": "light"
     },
     "output_type": "display_data"
    }
   ],
   "source": [
    "plt.subplots(figsize = (15,6))\n",
    "# собираем данные в одном датафрейме\n",
    "mergedCumulativeRevenue = cumulativeRevenueA.merge(cumulativeRevenueB, left_on='date', right_on='date', how='left', suffixes=['A', 'B'])\n",
    "\n",
    "# cтроим отношение средних чеков\n",
    "plt.plot(mergedCumulativeRevenue['date'], (mergedCumulativeRevenue['revenueB']/mergedCumulativeRevenue['ordersB'])/(mergedCumulativeRevenue['revenueA']/mergedCumulativeRevenue['ordersA'])-1)\n",
    "\n",
    "# добавляем ось X\n",
    "plt.axhline(y=0, color='black', linestyle='--') \n",
    "\n",
    "plt.xlabel(\"дата\")\n",
    "plt.ylabel(\"относительное изменение\")\n",
    "plt.title('График относительного изменения кумулятивного среднего чека группы B к группе A');"
   ]
  },
  {
   "cell_type": "markdown",
   "metadata": {},
   "source": [
    "График различия между сегментами имеет резкие скачки: результаты теста сильно менялись в некоторые дни. Возможно, в эти дни были совершены аномальные заказы, проанализируем аномалии ниже"
   ]
  },
  {
   "cell_type": "markdown",
   "metadata": {},
   "source": [
    "#### Построим график кумулятивного среднего количества заказов на посетителя по группам. \n"
   ]
  },
  {
   "cell_type": "code",
   "execution_count": 16,
   "metadata": {},
   "outputs": [
    {
     "data": {
      "image/png": "[encoded data removed]",
      "text/plain": [
       "<Figure size 1080x432 with 1 Axes>"
      ]
     },
     "metadata": {
      "needs_background": "light"
     },
     "output_type": "display_data"
    }
   ],
   "source": [
    "# считаем среднее количество заказов на посетителя\n",
    "cumulativeData['conversion'] = cumulativeData['orders']/cumulativeData['visitors']\n",
    "\n",
    "# отделяем данные по группе A\n",
    "cumulativeDataA = cumulativeData[cumulativeData['group']=='A']\n",
    "\n",
    "# отделяем данные по группе B\n",
    "cumulativeDataB = cumulativeData[cumulativeData['group']=='B']\n",
    "\n",
    "# строим графики\n",
    "plt.subplots(figsize = (15,6))\n",
    "plt.plot(cumulativeDataA['date'], cumulativeDataA['conversion'], label='A')\n",
    "plt.plot(cumulativeDataB['date'], cumulativeDataB['conversion'], label='B')\n",
    "\n",
    "plt.legend()\n",
    "plt.xlabel(\"дата\")\n",
    "plt.ylabel(\"кумулятивное среднее количество заказов\")\n",
    "plt.title('график кумулятивного среднего количества заказов на посетителя по группам')\n",
    "\n",
    "# задаем масштаб осей\n",
    "plt.axis([dt.datetime(2019, 8, 1), dt.datetime(2019, 8, 31), 0.02, 0.04]) ;"
   ]
  },
  {
   "cell_type": "markdown",
   "metadata": {},
   "source": [
    "В начале теста группа В имела меньшее среднее количество заказов на одного пользователя, но к концу первой недели теста среднее количество заказов у группы В превысило группу А и к концу теста стабилизировалось около одного значения (большего, чем у группы А). "
   ]
  },
  {
   "cell_type": "markdown",
   "metadata": {},
   "source": [
    "#### Построим график относительного изменения кумулятивного среднего количества заказов на посетителя группы B к группе A. "
   ]
  },
  {
   "cell_type": "code",
   "execution_count": 17,
   "metadata": {},
   "outputs": [
    {
     "data": {
      "image/png": "[encoded data removed]",
      "text/plain": [
       "<Figure size 1080x432 with 1 Axes>"
      ]
     },
     "metadata": {
      "needs_background": "light"
     },
     "output_type": "display_data"
    }
   ],
   "source": [
    "mergedCumulativeConversions = cumulativeDataA[['date','conversion']].merge(cumulativeDataB[['date','conversion']], left_on='date', right_on='date', how='left', suffixes=['A', 'B'])\n",
    "\n",
    "plt.subplots(figsize = (15,6))\n",
    "plt.plot(mergedCumulativeConversions['date'], mergedCumulativeConversions['conversionB']/mergedCumulativeConversions['conversionA']-1, label=\"Относительный прирост кумулятивного среднего количества заказов на посетителя группы B относительно группы A\")\n",
    "\n",
    "plt.xlabel(\"дата\")\n",
    "plt.ylabel(\"относительное изменение\")\n",
    "plt.title('график относительного изменения кумулятивного среднего количества заказов на посетителя группы B к группе A')\n",
    "\n",
    "plt.axhline(y=0, color='black', linestyle='--')\n",
    "plt.axhline(y=0.15, color='grey', linestyle='--')\n",
    "plt.axis([dt.datetime(2019, 8, 1), dt.datetime(2019, 8, 31), -0.12, 0.22]) ;"
   ]
  },
  {
   "cell_type": "markdown",
   "metadata": {},
   "source": [
    "В начале теста группа B значительно проигрывала группе A, затем вырвалась вперёд. \n",
    "В целом отношение среднего количества заказов на посетителя установилось около прироста в 10% отновистельно группы А"
   ]
  },
  {
   "cell_type": "markdown",
   "metadata": {},
   "source": [
    "#### Построим точечный график количества заказов по пользователям. \n"
   ]
  },
  {
   "cell_type": "code",
   "execution_count": 18,
   "metadata": {},
   "outputs": [
    {
     "data": {
      "image/png": "[encoded data removed]",
      "text/plain": [
       "<Figure size 1080x432 with 1 Axes>"
      ]
     },
     "metadata": {
      "needs_background": "light"
     },
     "output_type": "display_data"
    }
   ],
   "source": [
    "ordersByUsers = orders.groupby('visitorId', as_index=False).agg({'transactionId': 'nunique'})\n",
    "ordersByUsers.columns = ['userId', 'orders']\n",
    "\n",
    "x_values = pd.Series(range(0,len(ordersByUsers)))\n",
    "\n",
    "plt.subplots(figsize = (15,6))\n",
    "plt.scatter(x_values, ordersByUsers['orders'])\n",
    "\n",
    "plt.ylabel(\"количество заказов\")\n",
    "plt.title(' точечный график количества заказов по пользователям'); "
   ]
  },
  {
   "cell_type": "markdown",
   "metadata": {},
   "source": [
    "Большинство покупателей заказывали только один раз. Однако доля пользователей с 2-3 заказами тоже значительна. \n",
    "Их точная доля не ясна — непонятно, считать их аномалиями или нет. \n",
    "Посчитаем выборочные перцентили количества заказов на одного пользователя:"
   ]
  },
  {
   "cell_type": "markdown",
   "metadata": {},
   "source": [
    "#### Расчет 95-го и 99-го перцентилей количества заказов на пользователя. \n"
   ]
  },
  {
   "cell_type": "code",
   "execution_count": 19,
   "metadata": {},
   "outputs": [
    {
     "name": "stdout",
     "output_type": "stream",
     "text": [
      "[1. 2. 4.]\n"
     ]
    }
   ],
   "source": [
    "print(np.percentile(ordersByUsers['orders'], [90, 95, 99])) "
   ]
  },
  {
   "cell_type": "markdown",
   "metadata": {},
   "source": [
    "Не более 5% пользователей оформляли больше 2 заказов. \n",
    "Выберем 2 заказа на  пользователя за верхнюю границу числа заказов, и будем отсеивать аномальных пользователей по ней. Удалением таких строк займёмся ниже."
   ]
  },
  {
   "cell_type": "markdown",
   "metadata": {},
   "source": [
    "#### Построим точечный график стоимостей заказов. \n"
   ]
  },
  {
   "cell_type": "code",
   "execution_count": 20,
   "metadata": {},
   "outputs": [
    {
     "data": {
      "image/png": "[encoded data removed]",
      "text/plain": [
       "<Figure size 1080x432 with 1 Axes>"
      ]
     },
     "metadata": {
      "needs_background": "light"
     },
     "output_type": "display_data"
    }
   ],
   "source": [
    "x_values = pd.Series(range(0, len(orders['revenue'])))\n",
    "\n",
    "plt.subplots(figsize = (15,6))\n",
    "plt.scatter(x_values, orders.revenue)\n",
    "plt.ylabel(\"стоимость заказов\")\n",
    "plt.title(' точечный график стоимостей заказов');"
   ]
  },
  {
   "cell_type": "markdown",
   "metadata": {},
   "source": [
    "В среднем заказы оформляются на суммы до 50 тыс, но есть выбросы. Заказ на 1.2 млн выглядит аномально.\n",
    "Найдем выборочные перцентили."
   ]
  },
  {
   "cell_type": "markdown",
   "metadata": {},
   "source": [
    "#### Расчет 95-го и 99-го перцентилей стоимости заказов. \n"
   ]
  },
  {
   "cell_type": "code",
   "execution_count": 21,
   "metadata": {},
   "outputs": [
    {
     "name": "stdout",
     "output_type": "stream",
     "text": [
      "[18168.  28000.  58233.2]\n"
     ]
    }
   ],
   "source": [
    "print(np.percentile(orders.revenue, [90,95,99]))"
   ]
  },
  {
   "cell_type": "markdown",
   "metadata": {},
   "source": [
    "Не более чем у 5% заказов сумма чека больше 28000. И не более чем у 1% заказов сумма чека больше 58233 руб. \n",
    "Выберем 28000 за верхнюю границу суммы заказа, так отсеятся 5% заказов с наибольшей стоимостью."
   ]
  },
  {
   "cell_type": "markdown",
   "metadata": {},
   "source": [
    "#### Посчитаем статистическую значимость различий в среднем количестве заказов на посетителя между группами по «сырым» данным. "
   ]
  },
  {
   "cell_type": "markdown",
   "metadata": {},
   "source": [
    "H0 гипотеза: среднее кол-во заказов на посетителя в группе А равно среднему количеству заказов на посетителяв группе В.\n",
    "\n",
    "H1 гипотеза: средние кол-ва заказов на посетителя в двух группах различаются.\n",
    "\n",
    "Уровень значимости alpha = .05\n",
    "\n",
    "Для проверки используем метод Уилкоксона-Манна-Уитни - непараметрический метод, который работает с рангами, — номерами значений в упорядоченном ряду и не учитывавет сами значения. Поскольку в данных есть большие выбросы, то параметрические методы сработают хуже (одно выбивающееся значение может существенно влиять на результат)\n"
   ]
  },
  {
   "cell_type": "code",
   "execution_count": 22,
   "metadata": {},
   "outputs": [
    {
     "name": "stdout",
     "output_type": "stream",
     "text": [
      "p-value:  0.01679\n",
      "Относительный прирост среднего кол-ва заказов в группе В относительно группы А: 0.138\n"
     ]
    }
   ],
   "source": [
    "ordersByUsersA  = orders[orders.group == 'A'].groupby('visitorId', as_index = False).agg({'transactionId':pd.Series.nunique})\n",
    "ordersByUsersA.columns = ['userId', 'orders']\n",
    "\n",
    "ordersByUsersB  = orders[orders.group == 'B'].groupby('visitorId', as_index = False).agg({'transactionId':pd.Series.nunique})\n",
    "ordersByUsersB.columns = ['userId', 'orders']\n",
    "\n",
    "sampleA = pd.concat([ordersByUsersA['orders'],pd.Series(0, index=np.arange(visitors.query('group == \"A\"')['visitors'].sum()  - len(ordersByUsersA['orders'])), name='orders')],axis=0)\n",
    "sampleB = pd.concat([ordersByUsersB['orders'],pd.Series(0, index=np.arange(visitors.query('group == \"B\"')['visitors'].sum()  - len(ordersByUsersB['orders'])), name='orders')],axis=0)\n",
    "\n",
    "print(\"p-value: \",\"{0:.5f}\".format(stats.mannwhitneyu(sampleA, sampleB)[1]))\n",
    "\n",
    "print(\"Относительный прирост среднего кол-ва заказов в группе В относительно группы А:\", \"{0:.3f}\".format(sampleB.mean() / sampleA.mean() - 1))"
   ]
  },
  {
   "cell_type": "markdown",
   "metadata": {},
   "source": [
    "p-value меньше 5%, поэтому отвергаем нулевую гипотезу: на \"сырых\" данных можем сделать вывод, что в среднем кол-ве заказов на посетителя между группами есть статистически значимые различия. Относительный прирост среднего группы В к группе А равен 13.8%."
   ]
  },
  {
   "cell_type": "markdown",
   "metadata": {},
   "source": [
    "#### Посчитаем статистическую значимость различий в среднем чеке заказа между группами по «сырым» данным. \n"
   ]
  },
  {
   "cell_type": "markdown",
   "metadata": {},
   "source": [
    "H0 гипотеза: средний чека заказа в группе А равен среднему чеку заказа в группе В.\n",
    "\n",
    "H1 гипотеза: средние чеки в двух группах различаются.\n",
    "\n",
    "Уровень значимости alpha = .05\n",
    "\n",
    "Для проверки используем метод Уилкоксона-Манна-Уитни - непараметрический метод, который работает с рангами, — номерами значений в упорядоченном ряду и не учитывавет сами значения. Поскольку в данных есть большие выбросы, то параметрические методы сработают хуже (одно выбивающееся значение может существенно влиять на результат)\n"
   ]
  },
  {
   "cell_type": "code",
   "execution_count": 23,
   "metadata": {},
   "outputs": [
    {
     "name": "stdout",
     "output_type": "stream",
     "text": [
      "p-value: 0.729\n",
      "Относительный прирост средней чуммы чека в группе В относительно группы А: 0.259\n"
     ]
    }
   ],
   "source": [
    "print('p-value:', '{0:.3f}'.format(stats.mannwhitneyu(orders[orders['group']=='A']['revenue'], orders[orders['group']=='B']['revenue'])[1]))\n",
    "print('Относительный прирост средней чуммы чека в группе В относительно группы А:', '{0:.3f}'.format(orders[orders['group']=='B']['revenue'].mean()/orders[orders['group']=='A']['revenue'].mean()-1)) "
   ]
  },
  {
   "cell_type": "markdown",
   "metadata": {},
   "source": [
    "p-value больше 5%, поэтому не можем отвергнуть нулевую гипотезу о равенстве в среднем чеке заказа между группами, хотя относительное различие среднего чека между группами и составляет аж 25.9%."
   ]
  },
  {
   "cell_type": "markdown",
   "metadata": {},
   "source": [
    "#### Посчитаем статистическую значимость различий в среднем количестве заказов на посетителя между группами по «очищенным» данным. \n",
    "Сделайте выводы и предположения."
   ]
  },
  {
   "cell_type": "code",
   "execution_count": 24,
   "metadata": {},
   "outputs": [],
   "source": [
    "# определяем аномальных пользователей\n",
    "usersWithManyOrders = pd.concat(\n",
    "    [\n",
    "        ordersByUsersA[ordersByUsersA['orders'] > 2]['userId'],\n",
    "        ordersByUsersB[ordersByUsersB['orders'] > 2]['userId'],\n",
    "    ],\n",
    "    axis=0,\n",
    ")\n",
    "usersWithExpensiveOrders = orders[orders['revenue'] > 28000]['visitorId'] #по рекомендации установила порог для суммы чека на уровне 95% перцентиля\n",
    "abnormalUsers = (\n",
    "    pd.concat([usersWithManyOrders, usersWithExpensiveOrders], axis=0)\n",
    "    .drop_duplicates()\n",
    "    .sort_values()\n",
    ")"
   ]
  },
  {
   "cell_type": "markdown",
   "metadata": {},
   "source": [
    "H0 гипотеза: на очищенных данных среднее кол-во заказов на посетителя в группе А равно среднему количеству заказов на посетителяв группе В.\n",
    "\n",
    "H1 гипотеза: средние кол-ва заказов на посетителя в двух группах различаются на очищенных данных.\n",
    "\n",
    "Уровень значимости alpha = .05\n",
    "\n",
    "Для проверки используем метод Уилкоксона-Манна-Уитни - непараметрический метод, который работает с рангами, — номерами значений в упорядоченном ряду и не учитывавет сами значения. Поскольку в данных есть большие выбросы, то параметрические методы сработают хуже (одно выбивающееся значение может существенно влиять на результат)\n"
   ]
  },
  {
   "cell_type": "code",
   "execution_count": 25,
   "metadata": {},
   "outputs": [
    {
     "name": "stdout",
     "output_type": "stream",
     "text": [
      "p-value: 0.01304\n",
      "Относительный прирост среднего кол-ва заказов в группе В относительно группы А по очищенным данным: 0.173\n"
     ]
    }
   ],
   "source": [
    "sampleAFiltered = pd.concat(\n",
    "    [\n",
    "        ordersByUsersA[\n",
    "            np.logical_not(ordersByUsersA['userId'].isin(abnormalUsers))\n",
    "        ]['orders'],\n",
    "        pd.Series(\n",
    "            0,\n",
    "            index=np.arange(\n",
    "                visitors.query('group == \"A\"')['visitors'].sum()- len(ordersByUsersA['orders'])\n",
    "            ),\n",
    "            name='orders',\n",
    "        ),\n",
    "    ],\n",
    "    axis=0,\n",
    ")\n",
    "\n",
    "sampleBFiltered = pd.concat(\n",
    "    [\n",
    "        ordersByUsersB[\n",
    "            np.logical_not(ordersByUsersB['userId'].isin(abnormalUsers))\n",
    "        ]['orders'],\n",
    "        pd.Series(\n",
    "            0,\n",
    "            index=np.arange(\n",
    "                visitors.query('group == \"B\"')['visitors'].sum() - len(ordersByUsersB['orders'])\n",
    "            ),\n",
    "            name='orders',\n",
    "        ),\n",
    "    ],\n",
    "    axis=0,\n",
    ")\n",
    "\n",
    "print('p-value:', '{0:.5f}'.format(stats.mannwhitneyu(sampleAFiltered, sampleBFiltered)[1]))\n",
    "print(\"Относительный прирост среднего кол-ва заказов в группе В относительно группы А по очищенным данным:\", '{0:.3f}'.format(sampleBFiltered.mean()/sampleAFiltered.mean()-1))\n"
   ]
  },
  {
   "cell_type": "markdown",
   "metadata": {},
   "source": [
    "Статистическая значимость достигнута: группа В лучше группы А по среднему количеству заказов на посетителя *(отвергаем нулевую гипотезу о равенстве средних)*. Причем на очищенных данных относительный прирост группы B к группе А составляет 17.3%."
   ]
  },
  {
   "cell_type": "markdown",
   "metadata": {},
   "source": [
    "#### Посчитаем статистическую значимость различий в среднем чеке заказа между группами по «очищенным» данным. \n"
   ]
  },
  {
   "cell_type": "markdown",
   "metadata": {},
   "source": [
    "H0 гипотеза: средний чек в группе А равен среднему чеку в группе В на очищенных данных.\n",
    "\n",
    "H1 гипотеза: средние кол-ва заказов на посетителя в двух группах различаются на очищенных данных.\n",
    "\n",
    "Уровень значимости alpha = .05\n",
    "\n",
    "Для проверки используем метод Уилкоксона-Манна-Уитни - непараметрический метод, который работает с рангами, — номерами значений в упорядоченном ряду и не учитывавет сами значения. Поскольку в данных есть большие выбросы, то параметрические методы сработают хуже (одно выбивающееся значение может существенно влиять на результат)\n"
   ]
  },
  {
   "cell_type": "code",
   "execution_count": 26,
   "metadata": {},
   "outputs": [
    {
     "name": "stdout",
     "output_type": "stream",
     "text": [
      "p-value 0.738\n",
      "Относительный прирост среднего чека в группе В относительно группы А по очищенным данным: -0.020\n"
     ]
    }
   ],
   "source": [
    "\n",
    "print('p-value',\n",
    "    '{0:.3f}'.format(\n",
    "        stats.mannwhitneyu(\n",
    "            orders[\n",
    "                np.logical_and(\n",
    "                    orders['group'] == 'A',\n",
    "                    np.logical_not(orders['visitorId'].isin(abnormalUsers)),\n",
    "                )\n",
    "            ]['revenue'],\n",
    "            orders[\n",
    "                np.logical_and(\n",
    "                    orders['group'] == 'B',\n",
    "                    np.logical_not(orders['visitorId'].isin(abnormalUsers)),\n",
    "                )\n",
    "            ]['revenue'],\n",
    "        )[1]\n",
    "    )\n",
    ")\n",
    "\n",
    "print(\"Относительный прирост среднего чека в группе В относительно группы А по очищенным данным:\",\n",
    "    \"{0:.3f}\".format(\n",
    "        orders[\n",
    "            np.logical_and(\n",
    "                orders['group'] == 'B',\n",
    "                np.logical_not(orders['visitorId'].isin(abnormalUsers)),\n",
    "            )\n",
    "        ]['revenue'].mean()\n",
    "        / orders[\n",
    "            np.logical_and(\n",
    "                orders['group'] == 'A',\n",
    "                np.logical_not(orders['visitorId'].isin(abnormalUsers)),\n",
    "            )\n",
    "        ]['revenue'].mean()\n",
    "        - 1\n",
    "    )\n",
    ")"
   ]
  },
  {
   "cell_type": "markdown",
   "metadata": {},
   "source": [
    "После удаления выбросов p-value еще увеличилось, поэтому не можем отвергнуть нулевую гипотезу о равенстве в среднем чеке заказа между группами. И видим, что на очищенных данных различие средних чеков групп А и В составляет всего 2%."
   ]
  },
  {
   "cell_type": "markdown",
   "metadata": {},
   "source": [
    "#### Решение по результатам теста \n",
    "Варианты решений:\n",
    "1. Остановить тест, зафиксировать победу одной из групп.\n",
    "2. Остановить тест, зафиксировать отсутствие различий между группами.\n",
    "3. Продолжить тест."
   ]
  },
  {
   "cell_type": "markdown",
   "metadata": {},
   "source": [
    "По результатам анализа А/В-теста можно сделать следующие выводы:\n",
    "- Есть статистически значимое различие в среднем количестве заказов на посетителя между группами как по сырым данным, так и после фильтрации аномалий.\n",
    "- Ни по сырым данным, ни по очищенным нет статистически значимого различия по среднему чеку между группами. \n",
    "\n",
    "Исходя из этого можно принять решение об остановке теста и зафиксировать победу группы В."
   ]
  }
 ],
 "metadata": {
  "ExecuteTimeLog": [
   {
    "duration": 4,
    "start_time": "2024-03-05T20:44:15.537Z"
   },
   {
    "duration": 404,
    "start_time": "2024-03-05T20:46:37.395Z"
   },
   {
    "duration": 78,
    "start_time": "2024-03-05T20:46:40.100Z"
   },
   {
    "duration": 1640,
    "start_time": "2024-03-05T20:48:42.591Z"
   },
   {
    "duration": 4,
    "start_time": "2024-03-05T20:49:05.111Z"
   },
   {
    "duration": 3,
    "start_time": "2024-03-05T20:49:12.633Z"
   },
   {
    "duration": 9,
    "start_time": "2024-03-05T20:49:14.816Z"
   },
   {
    "duration": 8,
    "start_time": "2024-03-05T20:50:04.100Z"
   },
   {
    "duration": 10,
    "start_time": "2024-03-05T20:59:36.354Z"
   },
   {
    "duration": 10,
    "start_time": "2024-03-05T21:00:23.993Z"
   },
   {
    "duration": 9,
    "start_time": "2024-03-05T21:00:29.061Z"
   },
   {
    "duration": 141,
    "start_time": "2024-03-05T21:07:07.636Z"
   },
   {
    "duration": 12,
    "start_time": "2024-03-05T21:07:23.942Z"
   },
   {
    "duration": 9,
    "start_time": "2024-03-05T21:07:43.373Z"
   },
   {
    "duration": 714,
    "start_time": "2024-03-05T22:39:35.825Z"
   },
   {
    "duration": 71,
    "start_time": "2024-03-05T22:39:36.541Z"
   },
   {
    "duration": 3,
    "start_time": "2024-03-05T22:39:36.613Z"
   },
   {
    "duration": 13,
    "start_time": "2024-03-05T22:39:36.617Z"
   },
   {
    "duration": 7,
    "start_time": "2024-03-05T22:39:36.631Z"
   },
   {
    "duration": 12,
    "start_time": "2024-03-05T22:39:36.639Z"
   },
   {
    "duration": 142,
    "start_time": "2024-03-05T22:39:36.652Z"
   },
   {
    "duration": 9,
    "start_time": "2024-03-05T22:39:36.795Z"
   },
   {
    "duration": 12,
    "start_time": "2024-03-05T22:39:36.805Z"
   },
   {
    "duration": 340,
    "start_time": "2024-03-05T22:39:40.061Z"
   },
   {
    "duration": 9,
    "start_time": "2024-03-05T22:39:42.626Z"
   },
   {
    "duration": 8,
    "start_time": "2024-03-05T22:39:44.994Z"
   },
   {
    "duration": 2,
    "start_time": "2024-03-05T22:40:42.896Z"
   },
   {
    "duration": 42,
    "start_time": "2024-03-05T22:40:42.899Z"
   },
   {
    "duration": 2,
    "start_time": "2024-03-05T22:40:42.943Z"
   },
   {
    "duration": 20,
    "start_time": "2024-03-05T22:40:42.947Z"
   },
   {
    "duration": 8,
    "start_time": "2024-03-05T22:40:42.969Z"
   },
   {
    "duration": 18,
    "start_time": "2024-03-05T22:40:42.979Z"
   },
   {
    "duration": 64,
    "start_time": "2024-03-05T22:40:42.998Z"
   },
   {
    "duration": 8,
    "start_time": "2024-03-05T22:40:43.063Z"
   },
   {
    "duration": 23,
    "start_time": "2024-03-05T22:40:43.072Z"
   },
   {
    "duration": 289,
    "start_time": "2024-03-05T22:40:45.455Z"
   },
   {
    "duration": 267,
    "start_time": "2024-03-05T22:41:08.292Z"
   },
   {
    "duration": 11,
    "start_time": "2024-03-05T22:41:39.547Z"
   },
   {
    "duration": 8,
    "start_time": "2024-03-05T22:41:41.667Z"
   },
   {
    "duration": 24,
    "start_time": "2024-03-05T22:43:28.885Z"
   },
   {
    "duration": 241,
    "start_time": "2024-03-05T22:44:22.143Z"
   },
   {
    "duration": 205,
    "start_time": "2024-03-05T22:45:10.819Z"
   },
   {
    "duration": 132,
    "start_time": "2024-03-05T22:45:18.511Z"
   },
   {
    "duration": 157,
    "start_time": "2024-03-05T22:45:42.322Z"
   },
   {
    "duration": 199,
    "start_time": "2024-03-05T22:45:56.875Z"
   },
   {
    "duration": 141,
    "start_time": "2024-03-05T22:46:06.320Z"
   },
   {
    "duration": 135,
    "start_time": "2024-03-05T22:46:13.053Z"
   },
   {
    "duration": 162,
    "start_time": "2024-03-05T22:46:16.925Z"
   },
   {
    "duration": 136,
    "start_time": "2024-03-05T22:49:33.497Z"
   },
   {
    "duration": 168,
    "start_time": "2024-03-05T22:49:51.705Z"
   },
   {
    "duration": 286,
    "start_time": "2024-03-05T22:52:53.591Z"
   },
   {
    "duration": 286,
    "start_time": "2024-03-05T22:53:15.200Z"
   },
   {
    "duration": 151,
    "start_time": "2024-03-05T22:55:37.939Z"
   },
   {
    "duration": 173,
    "start_time": "2024-03-05T22:56:26.544Z"
   },
   {
    "duration": 188,
    "start_time": "2024-03-05T22:57:21.432Z"
   },
   {
    "duration": 223,
    "start_time": "2024-03-05T22:57:41.123Z"
   },
   {
    "duration": 190,
    "start_time": "2024-03-05T22:57:49.925Z"
   },
   {
    "duration": 172,
    "start_time": "2024-03-05T22:57:56.111Z"
   },
   {
    "duration": 177,
    "start_time": "2024-03-05T22:58:38.899Z"
   },
   {
    "duration": 177,
    "start_time": "2024-03-05T22:58:51.710Z"
   },
   {
    "duration": 148,
    "start_time": "2024-03-05T23:00:21.877Z"
   },
   {
    "duration": 160,
    "start_time": "2024-03-05T23:02:04.336Z"
   },
   {
    "duration": 162,
    "start_time": "2024-03-05T23:02:11.659Z"
   },
   {
    "duration": 157,
    "start_time": "2024-03-05T23:02:28.725Z"
   },
   {
    "duration": 162,
    "start_time": "2024-03-05T23:02:34.396Z"
   },
   {
    "duration": 259,
    "start_time": "2024-03-05T23:05:47.844Z"
   },
   {
    "duration": 332,
    "start_time": "2024-03-05T23:07:21.575Z"
   },
   {
    "duration": 279,
    "start_time": "2024-03-05T23:07:56.262Z"
   },
   {
    "duration": 6,
    "start_time": "2024-03-05T23:11:10.926Z"
   },
   {
    "duration": 9,
    "start_time": "2024-03-05T23:11:30.268Z"
   },
   {
    "duration": 10,
    "start_time": "2024-03-05T23:13:37.550Z"
   },
   {
    "duration": 91,
    "start_time": "2024-03-05T23:13:48.188Z"
   },
   {
    "duration": 87,
    "start_time": "2024-03-05T23:14:02.555Z"
   },
   {
    "duration": 87,
    "start_time": "2024-03-05T23:14:33.103Z"
   },
   {
    "duration": 88,
    "start_time": "2024-03-05T23:14:39.045Z"
   },
   {
    "duration": 185,
    "start_time": "2024-03-05T23:14:55.930Z"
   },
   {
    "duration": 114,
    "start_time": "2024-03-05T23:15:07.130Z"
   },
   {
    "duration": 3,
    "start_time": "2024-03-05T23:16:54.829Z"
   },
   {
    "duration": 6,
    "start_time": "2024-03-05T23:18:39.752Z"
   },
   {
    "duration": 94,
    "start_time": "2024-03-05T23:18:43.426Z"
   },
   {
    "duration": 114,
    "start_time": "2024-03-05T23:19:03.801Z"
   },
   {
    "duration": 164,
    "start_time": "2024-03-05T23:21:02.744Z"
   },
   {
    "duration": 175,
    "start_time": "2024-03-05T23:21:07.505Z"
   },
   {
    "duration": 139,
    "start_time": "2024-03-05T23:21:20.249Z"
   },
   {
    "duration": 186,
    "start_time": "2024-03-05T23:21:49.755Z"
   },
   {
    "duration": 116,
    "start_time": "2024-03-05T23:21:59.855Z"
   },
   {
    "duration": 4,
    "start_time": "2024-03-05T23:23:37.664Z"
   },
   {
    "duration": 362,
    "start_time": "2024-03-05T23:38:28.190Z"
   },
   {
    "duration": 318,
    "start_time": "2024-03-05T23:39:18.428Z"
   },
   {
    "duration": 333,
    "start_time": "2024-03-05T23:39:30.676Z"
   },
   {
    "duration": 359,
    "start_time": "2024-03-05T23:39:52.071Z"
   },
   {
    "duration": 362,
    "start_time": "2024-03-05T23:39:57.531Z"
   },
   {
    "duration": 52,
    "start_time": "2024-03-05T23:40:37.583Z"
   },
   {
    "duration": 64,
    "start_time": "2024-03-05T23:40:46.634Z"
   },
   {
    "duration": 123,
    "start_time": "2024-03-05T23:41:49.485Z"
   },
   {
    "duration": 128,
    "start_time": "2024-03-05T23:42:25.141Z"
   },
   {
    "duration": 145,
    "start_time": "2024-03-05T23:43:01.774Z"
   },
   {
    "duration": 422,
    "start_time": "2024-03-05T23:43:22.701Z"
   },
   {
    "duration": 135,
    "start_time": "2024-03-05T23:43:28.836Z"
   },
   {
    "duration": 9,
    "start_time": "2024-03-05T23:47:54.710Z"
   },
   {
    "duration": 1135,
    "start_time": "2024-03-05T23:55:30.821Z"
   },
   {
    "duration": 1139,
    "start_time": "2024-03-05T23:56:00.180Z"
   },
   {
    "duration": 1155,
    "start_time": "2024-03-05T23:57:08.530Z"
   },
   {
    "duration": 7,
    "start_time": "2024-03-05T23:57:27.801Z"
   },
   {
    "duration": 6,
    "start_time": "2024-03-05T23:57:53.374Z"
   },
   {
    "duration": 7,
    "start_time": "2024-03-05T23:58:07.220Z"
   },
   {
    "duration": 1092,
    "start_time": "2024-03-05T23:58:12.999Z"
   },
   {
    "duration": 24,
    "start_time": "2024-03-05T23:58:35.436Z"
   },
   {
    "duration": 1225,
    "start_time": "2024-03-06T00:00:40.600Z"
   },
   {
    "duration": 1080,
    "start_time": "2024-03-06T00:00:51.238Z"
   },
   {
    "duration": 11,
    "start_time": "2024-03-06T00:01:03.915Z"
   },
   {
    "duration": 48,
    "start_time": "2024-03-06T15:09:13.266Z"
   },
   {
    "duration": 1254,
    "start_time": "2024-03-06T15:09:18.337Z"
   },
   {
    "duration": 84,
    "start_time": "2024-03-06T15:09:19.593Z"
   },
   {
    "duration": 4,
    "start_time": "2024-03-06T15:09:19.678Z"
   },
   {
    "duration": 13,
    "start_time": "2024-03-06T15:09:19.684Z"
   },
   {
    "duration": 9,
    "start_time": "2024-03-06T15:09:19.698Z"
   },
   {
    "duration": 26,
    "start_time": "2024-03-06T15:09:19.709Z"
   },
   {
    "duration": 143,
    "start_time": "2024-03-06T15:09:19.736Z"
   },
   {
    "duration": 11,
    "start_time": "2024-03-06T15:09:19.880Z"
   },
   {
    "duration": 19,
    "start_time": "2024-03-06T15:09:19.893Z"
   },
   {
    "duration": 60,
    "start_time": "2024-03-06T15:09:21.473Z"
   },
   {
    "duration": 11,
    "start_time": "2024-03-06T15:09:34.861Z"
   },
   {
    "duration": 8,
    "start_time": "2024-03-06T15:10:34.608Z"
   },
   {
    "duration": 15,
    "start_time": "2024-03-06T15:11:09.022Z"
   },
   {
    "duration": 271,
    "start_time": "2024-03-06T15:13:04.081Z"
   },
   {
    "duration": 5,
    "start_time": "2024-03-06T15:27:03.756Z"
   },
   {
    "duration": 5,
    "start_time": "2024-03-06T15:27:10.466Z"
   },
   {
    "duration": 1199,
    "start_time": "2024-03-06T15:40:24.539Z"
   },
   {
    "duration": 40,
    "start_time": "2024-03-06T15:40:25.740Z"
   },
   {
    "duration": 4,
    "start_time": "2024-03-06T15:40:25.781Z"
   },
   {
    "duration": 11,
    "start_time": "2024-03-06T15:40:25.787Z"
   },
   {
    "duration": 12,
    "start_time": "2024-03-06T15:40:25.800Z"
   },
   {
    "duration": 12,
    "start_time": "2024-03-06T15:40:25.814Z"
   },
   {
    "duration": 67,
    "start_time": "2024-03-06T15:40:25.827Z"
   },
   {
    "duration": 18,
    "start_time": "2024-03-06T15:40:25.895Z"
   },
   {
    "duration": 16,
    "start_time": "2024-03-06T15:40:25.915Z"
   },
   {
    "duration": 11,
    "start_time": "2024-03-06T15:40:25.940Z"
   },
   {
    "duration": 19,
    "start_time": "2024-03-06T15:40:25.954Z"
   },
   {
    "duration": 325,
    "start_time": "2024-03-06T15:40:26.003Z"
   },
   {
    "duration": 316,
    "start_time": "2024-03-06T15:40:26.330Z"
   },
   {
    "duration": 207,
    "start_time": "2024-03-06T15:40:26.648Z"
   },
   {
    "duration": 352,
    "start_time": "2024-03-06T15:40:26.857Z"
   },
   {
    "duration": 200,
    "start_time": "2024-03-06T15:40:27.211Z"
   },
   {
    "duration": 324,
    "start_time": "2024-03-06T15:40:27.413Z"
   },
   {
    "duration": 140,
    "start_time": "2024-03-06T15:40:27.739Z"
   },
   {
    "duration": 5,
    "start_time": "2024-03-06T15:40:27.880Z"
   },
   {
    "duration": 157,
    "start_time": "2024-03-06T15:40:27.899Z"
   },
   {
    "duration": 4,
    "start_time": "2024-03-06T15:40:28.058Z"
   },
   {
    "duration": 187,
    "start_time": "2024-03-06T15:40:28.063Z"
   },
   {
    "duration": 10,
    "start_time": "2024-03-06T15:40:28.252Z"
   },
   {
    "duration": 8,
    "start_time": "2024-03-06T15:40:28.264Z"
   },
   {
    "duration": 54,
    "start_time": "2024-03-06T15:40:28.273Z"
   },
   {
    "duration": 15,
    "start_time": "2024-03-06T15:40:28.329Z"
   },
   {
    "duration": 1147,
    "start_time": "2024-03-06T15:42:10.381Z"
   },
   {
    "duration": 68,
    "start_time": "2024-03-06T15:42:11.529Z"
   },
   {
    "duration": 3,
    "start_time": "2024-03-06T15:42:11.598Z"
   },
   {
    "duration": 8,
    "start_time": "2024-03-06T15:42:11.602Z"
   },
   {
    "duration": 7,
    "start_time": "2024-03-06T15:42:11.611Z"
   },
   {
    "duration": 8,
    "start_time": "2024-03-06T15:42:11.620Z"
   },
   {
    "duration": 139,
    "start_time": "2024-03-06T15:42:11.629Z"
   },
   {
    "duration": 9,
    "start_time": "2024-03-06T15:42:11.769Z"
   },
   {
    "duration": 16,
    "start_time": "2024-03-06T15:42:11.779Z"
   },
   {
    "duration": 6,
    "start_time": "2024-03-06T15:42:11.797Z"
   },
   {
    "duration": 12,
    "start_time": "2024-03-06T15:42:11.804Z"
   },
   {
    "duration": 234,
    "start_time": "2024-03-06T15:42:11.817Z"
   },
   {
    "duration": 239,
    "start_time": "2024-03-06T15:42:12.052Z"
   },
   {
    "duration": 172,
    "start_time": "2024-03-06T15:42:12.292Z"
   },
   {
    "duration": 350,
    "start_time": "2024-03-06T15:42:12.466Z"
   },
   {
    "duration": 172,
    "start_time": "2024-03-06T15:42:12.817Z"
   },
   {
    "duration": 317,
    "start_time": "2024-03-06T15:42:12.990Z"
   },
   {
    "duration": 116,
    "start_time": "2024-03-06T15:42:13.308Z"
   },
   {
    "duration": 3,
    "start_time": "2024-03-06T15:42:13.426Z"
   },
   {
    "duration": 134,
    "start_time": "2024-03-06T15:42:13.430Z"
   },
   {
    "duration": 4,
    "start_time": "2024-03-06T15:42:13.565Z"
   },
   {
    "duration": 155,
    "start_time": "2024-03-06T15:42:13.570Z"
   },
   {
    "duration": 8,
    "start_time": "2024-03-06T15:42:13.726Z"
   },
   {
    "duration": 6,
    "start_time": "2024-03-06T15:42:13.735Z"
   },
   {
    "duration": 30,
    "start_time": "2024-03-06T15:42:13.742Z"
   },
   {
    "duration": 37,
    "start_time": "2024-03-06T15:42:13.773Z"
   },
   {
    "duration": 1189,
    "start_time": "2024-03-06T22:56:31.184Z"
   },
   {
    "duration": 68,
    "start_time": "2024-03-06T22:56:32.375Z"
   },
   {
    "duration": 3,
    "start_time": "2024-03-06T22:56:32.444Z"
   },
   {
    "duration": 8,
    "start_time": "2024-03-06T22:56:32.448Z"
   },
   {
    "duration": 6,
    "start_time": "2024-03-06T22:56:32.458Z"
   },
   {
    "duration": 9,
    "start_time": "2024-03-06T22:56:32.466Z"
   },
   {
    "duration": 140,
    "start_time": "2024-03-06T22:56:32.476Z"
   },
   {
    "duration": 8,
    "start_time": "2024-03-06T22:56:32.618Z"
   },
   {
    "duration": 8,
    "start_time": "2024-03-06T22:56:32.628Z"
   },
   {
    "duration": 6,
    "start_time": "2024-03-06T22:56:32.639Z"
   },
   {
    "duration": 11,
    "start_time": "2024-03-06T22:56:32.647Z"
   },
   {
    "duration": 256,
    "start_time": "2024-03-06T22:56:32.660Z"
   },
   {
    "duration": 240,
    "start_time": "2024-03-06T22:56:32.917Z"
   },
   {
    "duration": 175,
    "start_time": "2024-03-06T22:56:33.159Z"
   },
   {
    "duration": 329,
    "start_time": "2024-03-06T22:56:33.335Z"
   },
   {
    "duration": 166,
    "start_time": "2024-03-06T22:56:40.145Z"
   },
   {
    "duration": 220,
    "start_time": "2024-03-06T23:00:29.185Z"
   },
   {
    "duration": 3,
    "start_time": "2024-03-06T23:00:32.839Z"
   },
   {
    "duration": 56,
    "start_time": "2024-03-06T23:00:32.844Z"
   },
   {
    "duration": 7,
    "start_time": "2024-03-06T23:00:32.901Z"
   },
   {
    "duration": 33,
    "start_time": "2024-03-06T23:00:32.909Z"
   },
   {
    "duration": 36,
    "start_time": "2024-03-06T23:00:32.943Z"
   },
   {
    "duration": 26,
    "start_time": "2024-03-06T23:00:32.981Z"
   },
   {
    "duration": 75,
    "start_time": "2024-03-06T23:00:33.008Z"
   },
   {
    "duration": 9,
    "start_time": "2024-03-06T23:00:33.084Z"
   },
   {
    "duration": 21,
    "start_time": "2024-03-06T23:00:33.094Z"
   },
   {
    "duration": 21,
    "start_time": "2024-03-06T23:00:33.116Z"
   },
   {
    "duration": 13,
    "start_time": "2024-03-06T23:00:33.139Z"
   },
   {
    "duration": 247,
    "start_time": "2024-03-06T23:00:33.154Z"
   },
   {
    "duration": 149,
    "start_time": "2024-03-06T23:00:37.197Z"
   },
   {
    "duration": 163,
    "start_time": "2024-03-06T23:01:37.826Z"
   },
   {
    "duration": 156,
    "start_time": "2024-03-06T23:02:06.121Z"
   },
   {
    "duration": 217,
    "start_time": "2024-03-06T23:02:42.640Z"
   },
   {
    "duration": 159,
    "start_time": "2024-03-06T23:03:00.682Z"
   },
   {
    "duration": 2,
    "start_time": "2024-03-06T23:04:30.684Z"
   },
   {
    "duration": 159,
    "start_time": "2024-03-06T23:04:35.209Z"
   },
   {
    "duration": 990,
    "start_time": "2024-03-06T23:06:29.203Z"
   },
   {
    "duration": 35,
    "start_time": "2024-03-06T23:06:30.194Z"
   },
   {
    "duration": 6,
    "start_time": "2024-03-06T23:06:30.230Z"
   },
   {
    "duration": 50,
    "start_time": "2024-03-06T23:06:30.238Z"
   },
   {
    "duration": 37,
    "start_time": "2024-03-06T23:06:30.290Z"
   },
   {
    "duration": 116,
    "start_time": "2024-03-06T23:06:30.329Z"
   },
   {
    "duration": 95,
    "start_time": "2024-03-06T23:06:30.446Z"
   },
   {
    "duration": 9,
    "start_time": "2024-03-06T23:06:30.542Z"
   },
   {
    "duration": 49,
    "start_time": "2024-03-06T23:06:30.552Z"
   },
   {
    "duration": 40,
    "start_time": "2024-03-06T23:06:30.603Z"
   },
   {
    "duration": 32,
    "start_time": "2024-03-06T23:06:30.644Z"
   },
   {
    "duration": 289,
    "start_time": "2024-03-06T23:06:30.678Z"
   },
   {
    "duration": 250,
    "start_time": "2024-03-06T23:06:30.968Z"
   },
   {
    "duration": 175,
    "start_time": "2024-03-06T23:07:04.262Z"
   },
   {
    "duration": 171,
    "start_time": "2024-03-06T23:07:32.555Z"
   },
   {
    "duration": 157,
    "start_time": "2024-03-06T23:07:50.846Z"
   },
   {
    "duration": 179,
    "start_time": "2024-03-06T23:08:11.952Z"
   },
   {
    "duration": 265,
    "start_time": "2024-03-06T23:08:21.415Z"
   },
   {
    "duration": 301,
    "start_time": "2024-03-06T23:08:56.702Z"
   },
   {
    "duration": 173,
    "start_time": "2024-03-06T23:09:48.155Z"
   },
   {
    "duration": 246,
    "start_time": "2024-03-06T23:09:59.752Z"
   },
   {
    "duration": 282,
    "start_time": "2024-03-06T23:11:00.558Z"
   },
   {
    "duration": 305,
    "start_time": "2024-03-06T23:11:19.390Z"
   },
   {
    "duration": 255,
    "start_time": "2024-03-06T23:11:27.454Z"
   },
   {
    "duration": 105,
    "start_time": "2024-03-06T23:11:43.337Z"
   },
   {
    "duration": 144,
    "start_time": "2024-03-06T23:12:34.582Z"
   },
   {
    "duration": 131,
    "start_time": "2024-03-06T23:12:55.125Z"
   },
   {
    "duration": 116,
    "start_time": "2024-03-06T23:13:03.518Z"
   },
   {
    "duration": 141,
    "start_time": "2024-03-06T23:13:34.633Z"
   },
   {
    "duration": 4,
    "start_time": "2024-03-06T23:13:57.689Z"
   },
   {
    "duration": 90,
    "start_time": "2024-03-06T23:14:34.613Z"
   },
   {
    "duration": 3,
    "start_time": "2024-03-06T23:14:40.639Z"
   },
   {
    "duration": 43,
    "start_time": "2024-03-06T23:14:40.645Z"
   },
   {
    "duration": 3,
    "start_time": "2024-03-06T23:14:40.690Z"
   },
   {
    "duration": 10,
    "start_time": "2024-03-06T23:14:40.694Z"
   },
   {
    "duration": 9,
    "start_time": "2024-03-06T23:14:40.705Z"
   },
   {
    "duration": 11,
    "start_time": "2024-03-06T23:14:40.716Z"
   },
   {
    "duration": 64,
    "start_time": "2024-03-06T23:14:40.729Z"
   },
   {
    "duration": 8,
    "start_time": "2024-03-06T23:14:40.794Z"
   },
   {
    "duration": 13,
    "start_time": "2024-03-06T23:14:40.803Z"
   },
   {
    "duration": 15,
    "start_time": "2024-03-06T23:14:40.817Z"
   },
   {
    "duration": 18,
    "start_time": "2024-03-06T23:14:40.834Z"
   },
   {
    "duration": 232,
    "start_time": "2024-03-06T23:14:40.853Z"
   },
   {
    "duration": 191,
    "start_time": "2024-03-06T23:14:41.086Z"
   },
   {
    "duration": 187,
    "start_time": "2024-03-06T23:14:41.278Z"
   },
   {
    "duration": 352,
    "start_time": "2024-03-06T23:14:41.467Z"
   },
   {
    "duration": 196,
    "start_time": "2024-03-06T23:14:41.821Z"
   },
   {
    "duration": 283,
    "start_time": "2024-03-06T23:14:42.019Z"
   },
   {
    "duration": 130,
    "start_time": "2024-03-06T23:14:42.303Z"
   },
   {
    "duration": 3,
    "start_time": "2024-03-06T23:14:42.435Z"
   },
   {
    "duration": 144,
    "start_time": "2024-03-06T23:14:42.439Z"
   },
   {
    "duration": 3,
    "start_time": "2024-03-06T23:14:42.584Z"
   },
   {
    "duration": 142,
    "start_time": "2024-03-06T23:14:42.588Z"
   },
   {
    "duration": 8,
    "start_time": "2024-03-06T23:14:42.732Z"
   },
   {
    "duration": 7,
    "start_time": "2024-03-06T23:14:42.742Z"
   },
   {
    "duration": 135,
    "start_time": "2024-03-06T23:15:26.220Z"
   },
   {
    "duration": 134,
    "start_time": "2024-03-06T23:24:24.055Z"
   },
   {
    "duration": 1010,
    "start_time": "2024-03-06T23:27:55.091Z"
   },
   {
    "duration": 35,
    "start_time": "2024-03-06T23:27:56.102Z"
   },
   {
    "duration": 12,
    "start_time": "2024-03-06T23:27:56.138Z"
   },
   {
    "duration": 23,
    "start_time": "2024-03-06T23:27:56.151Z"
   },
   {
    "duration": 6,
    "start_time": "2024-03-06T23:27:56.176Z"
   },
   {
    "duration": 10,
    "start_time": "2024-03-06T23:27:56.184Z"
   },
   {
    "duration": 70,
    "start_time": "2024-03-06T23:27:56.195Z"
   },
   {
    "duration": 8,
    "start_time": "2024-03-06T23:27:56.267Z"
   },
   {
    "duration": 11,
    "start_time": "2024-03-06T23:27:56.276Z"
   },
   {
    "duration": 10,
    "start_time": "2024-03-06T23:27:56.289Z"
   },
   {
    "duration": 12,
    "start_time": "2024-03-06T23:27:56.300Z"
   },
   {
    "duration": 235,
    "start_time": "2024-03-06T23:27:56.313Z"
   },
   {
    "duration": 255,
    "start_time": "2024-03-06T23:27:56.550Z"
   },
   {
    "duration": 191,
    "start_time": "2024-03-06T23:27:56.806Z"
   },
   {
    "duration": 311,
    "start_time": "2024-03-06T23:27:56.998Z"
   },
   {
    "duration": 194,
    "start_time": "2024-03-06T23:27:57.311Z"
   },
   {
    "duration": 294,
    "start_time": "2024-03-06T23:27:57.507Z"
   },
   {
    "duration": 136,
    "start_time": "2024-03-06T23:27:57.803Z"
   },
   {
    "duration": 4,
    "start_time": "2024-03-06T23:27:57.940Z"
   },
   {
    "duration": 128,
    "start_time": "2024-03-06T23:27:57.945Z"
   },
   {
    "duration": 3,
    "start_time": "2024-03-06T23:27:58.075Z"
   },
   {
    "duration": 172,
    "start_time": "2024-03-06T23:27:58.079Z"
   },
   {
    "duration": 11,
    "start_time": "2024-03-06T23:27:58.253Z"
   },
   {
    "duration": 6,
    "start_time": "2024-03-06T23:27:58.265Z"
   },
   {
    "duration": 53,
    "start_time": "2024-03-06T23:27:58.272Z"
   },
   {
    "duration": 10,
    "start_time": "2024-03-06T23:27:58.327Z"
   },
   {
    "duration": 8,
    "start_time": "2024-03-06T23:29:53.477Z"
   },
   {
    "duration": 9,
    "start_time": "2024-03-06T23:30:00.004Z"
   },
   {
    "duration": 25,
    "start_time": "2024-03-06T23:30:44.657Z"
   },
   {
    "duration": 12,
    "start_time": "2024-03-06T23:31:25.928Z"
   },
   {
    "duration": 947,
    "start_time": "2024-03-06T23:34:07.834Z"
   },
   {
    "duration": 33,
    "start_time": "2024-03-06T23:34:08.783Z"
   },
   {
    "duration": 3,
    "start_time": "2024-03-06T23:34:08.817Z"
   },
   {
    "duration": 13,
    "start_time": "2024-03-06T23:34:08.822Z"
   },
   {
    "duration": 6,
    "start_time": "2024-03-06T23:34:08.837Z"
   },
   {
    "duration": 8,
    "start_time": "2024-03-06T23:34:08.844Z"
   },
   {
    "duration": 57,
    "start_time": "2024-03-06T23:34:08.853Z"
   },
   {
    "duration": 8,
    "start_time": "2024-03-06T23:34:08.912Z"
   },
   {
    "duration": 9,
    "start_time": "2024-03-06T23:34:08.921Z"
   },
   {
    "duration": 24,
    "start_time": "2024-03-06T23:34:08.932Z"
   },
   {
    "duration": 16,
    "start_time": "2024-03-06T23:34:08.957Z"
   },
   {
    "duration": 236,
    "start_time": "2024-03-06T23:34:08.974Z"
   },
   {
    "duration": 252,
    "start_time": "2024-03-06T23:34:09.211Z"
   },
   {
    "duration": 187,
    "start_time": "2024-03-06T23:34:09.465Z"
   },
   {
    "duration": 272,
    "start_time": "2024-03-06T23:34:09.653Z"
   },
   {
    "duration": 200,
    "start_time": "2024-03-06T23:34:09.926Z"
   },
   {
    "duration": 297,
    "start_time": "2024-03-06T23:34:10.128Z"
   },
   {
    "duration": 135,
    "start_time": "2024-03-06T23:34:10.426Z"
   },
   {
    "duration": 4,
    "start_time": "2024-03-06T23:34:10.563Z"
   },
   {
    "duration": 143,
    "start_time": "2024-03-06T23:34:10.568Z"
   },
   {
    "duration": 4,
    "start_time": "2024-03-06T23:34:10.712Z"
   },
   {
    "duration": 169,
    "start_time": "2024-03-06T23:34:10.717Z"
   },
   {
    "duration": 17,
    "start_time": "2024-03-06T23:34:10.887Z"
   },
   {
    "duration": 7,
    "start_time": "2024-03-06T23:34:10.905Z"
   },
   {
    "duration": 24,
    "start_time": "2024-03-06T23:34:10.913Z"
   },
   {
    "duration": 18,
    "start_time": "2024-03-06T23:34:10.939Z"
   },
   {
    "duration": 1223,
    "start_time": "2024-03-07T04:56:51.602Z"
   },
   {
    "duration": 79,
    "start_time": "2024-03-07T04:56:52.828Z"
   },
   {
    "duration": 4,
    "start_time": "2024-03-07T04:56:52.908Z"
   },
   {
    "duration": 10,
    "start_time": "2024-03-07T04:56:52.913Z"
   },
   {
    "duration": 7,
    "start_time": "2024-03-07T04:56:52.925Z"
   },
   {
    "duration": 9,
    "start_time": "2024-03-07T04:56:52.933Z"
   },
   {
    "duration": 138,
    "start_time": "2024-03-07T04:56:52.943Z"
   },
   {
    "duration": 10,
    "start_time": "2024-03-07T04:56:53.083Z"
   },
   {
    "duration": 9,
    "start_time": "2024-03-07T04:56:53.094Z"
   },
   {
    "duration": 7,
    "start_time": "2024-03-07T04:56:53.105Z"
   },
   {
    "duration": 14,
    "start_time": "2024-03-07T04:56:53.113Z"
   },
   {
    "duration": 285,
    "start_time": "2024-03-07T04:56:53.129Z"
   },
   {
    "duration": 290,
    "start_time": "2024-03-07T04:56:53.415Z"
   },
   {
    "duration": 219,
    "start_time": "2024-03-07T04:56:53.706Z"
   },
   {
    "duration": 397,
    "start_time": "2024-03-07T04:56:53.927Z"
   },
   {
    "duration": 226,
    "start_time": "2024-03-07T04:56:54.326Z"
   },
   {
    "duration": 314,
    "start_time": "2024-03-07T04:56:54.554Z"
   },
   {
    "duration": 146,
    "start_time": "2024-03-07T04:56:54.869Z"
   },
   {
    "duration": 3,
    "start_time": "2024-03-07T04:56:55.017Z"
   },
   {
    "duration": 155,
    "start_time": "2024-03-07T04:56:55.022Z"
   },
   {
    "duration": 3,
    "start_time": "2024-03-07T04:56:55.179Z"
   },
   {
    "duration": 169,
    "start_time": "2024-03-07T04:56:55.184Z"
   },
   {
    "duration": 15,
    "start_time": "2024-03-07T04:56:55.355Z"
   },
   {
    "duration": 7,
    "start_time": "2024-03-07T04:56:55.371Z"
   },
   {
    "duration": 43,
    "start_time": "2024-03-07T04:56:55.379Z"
   },
   {
    "duration": 12,
    "start_time": "2024-03-07T04:56:55.423Z"
   }
  ],
  "kernelspec": {
   "display_name": "Python 3 (ipykernel)",
   "language": "python",
   "name": "python3"
  },
  "language_info": {
   "codemirror_mode": {
    "name": "ipython",
    "version": 3
   },
   "file_extension": ".py",
   "mimetype": "text/x-python",
   "name": "python",
   "nbconvert_exporter": "python",
   "pygments_lexer": "ipython3",
   "version": "3.9.5"
  },
  "toc": {
   "base_numbering": 1,
   "nav_menu": {},
   "number_sections": true,
   "sideBar": true,
   "skip_h1_title": true,
   "title_cell": "Table of Contents",
   "title_sidebar": "Contents",
   "toc_cell": false,
   "toc_position": {
    "height": "calc(100% - 180px)",
    "left": "10px",
    "top": "150px",
    "width": "341.484px"
   },
   "toc_section_display": true,
   "toc_window_display": true
  }
 },
 "nbformat": 4,
 "nbformat_minor": 2
}
