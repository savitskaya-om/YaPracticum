{
 "cells": [
  {
   "cell_type": "markdown",
   "id": "7a0a0956",
   "metadata": {},
   "source": [
    "# Исследование данных сервиса аренды самокатов\n",
    "Изучаем данные сервиса аренды самокатов GoFast: имеются данные о пользователях из нескольких городов, их поездках и подписках.\n",
    "Проанализируем данные и проверим некоторые статистические гипотезы, которые могут помочь бизнесу вырасти."
   ]
  },
  {
   "cell_type": "markdown",
   "id": "c42cbe00",
   "metadata": {},
   "source": [
    "#### Шаг 1. Загрузка данных"
   ]
  },
  {
   "cell_type": "code",
   "execution_count": 1,
   "id": "72576667",
   "metadata": {},
   "outputs": [],
   "source": [
    "# импорт необходимых библиотек\n",
    "import pandas as pd\n",
    "import numpy as np\n",
    "from scipy import stats as st\n",
    "import matplotlib.pyplot as plt"
   ]
  },
  {
   "cell_type": "code",
   "execution_count": 2,
   "id": "eff9f206",
   "metadata": {},
   "outputs": [],
   "source": [
    "# загрузим таблицу с данными о пользователях\n",
    "users = pd.read_csv('/datasets/users_go.csv')\n"
   ]
  },
  {
   "cell_type": "code",
   "execution_count": 3,
   "id": "64caef57",
   "metadata": {},
   "outputs": [
    {
     "data": {
      "text/html": [
       "<div>\n",
       "<style scoped>\n",
       "    .dataframe tbody tr th:only-of-type {\n",
       "        vertical-align: middle;\n",
       "    }\n",
       "\n",
       "    .dataframe tbody tr th {\n",
       "        vertical-align: top;\n",
       "    }\n",
       "\n",
       "    .dataframe thead th {\n",
       "        text-align: right;\n",
       "    }\n",
       "</style>\n",
       "<table border=\"1\" class=\"dataframe\">\n",
       "  <thead>\n",
       "    <tr style=\"text-align: right;\">\n",
       "      <th></th>\n",
       "      <th>user_id</th>\n",
       "      <th>name</th>\n",
       "      <th>age</th>\n",
       "      <th>city</th>\n",
       "      <th>subscription_type</th>\n",
       "    </tr>\n",
       "  </thead>\n",
       "  <tbody>\n",
       "    <tr>\n",
       "      <th>0</th>\n",
       "      <td>1</td>\n",
       "      <td>Кира</td>\n",
       "      <td>22</td>\n",
       "      <td>Тюмень</td>\n",
       "      <td>ultra</td>\n",
       "    </tr>\n",
       "    <tr>\n",
       "      <th>1</th>\n",
       "      <td>2</td>\n",
       "      <td>Станислав</td>\n",
       "      <td>31</td>\n",
       "      <td>Омск</td>\n",
       "      <td>ultra</td>\n",
       "    </tr>\n",
       "    <tr>\n",
       "      <th>2</th>\n",
       "      <td>3</td>\n",
       "      <td>Алексей</td>\n",
       "      <td>20</td>\n",
       "      <td>Москва</td>\n",
       "      <td>ultra</td>\n",
       "    </tr>\n",
       "    <tr>\n",
       "      <th>3</th>\n",
       "      <td>4</td>\n",
       "      <td>Константин</td>\n",
       "      <td>26</td>\n",
       "      <td>Ростов-на-Дону</td>\n",
       "      <td>ultra</td>\n",
       "    </tr>\n",
       "    <tr>\n",
       "      <th>4</th>\n",
       "      <td>5</td>\n",
       "      <td>Адель</td>\n",
       "      <td>28</td>\n",
       "      <td>Омск</td>\n",
       "      <td>ultra</td>\n",
       "    </tr>\n",
       "  </tbody>\n",
       "</table>\n",
       "</div>"
      ],
      "text/plain": [
       "   user_id        name  age            city subscription_type\n",
       "0        1        Кира   22          Тюмень             ultra\n",
       "1        2   Станислав   31            Омск             ultra\n",
       "2        3     Алексей   20          Москва             ultra\n",
       "3        4  Константин   26  Ростов-на-Дону             ultra\n",
       "4        5       Адель   28            Омск             ultra"
      ]
     },
     "metadata": {},
     "output_type": "display_data"
    },
    {
     "name": "stdout",
     "output_type": "stream",
     "text": [
      "<class 'pandas.core.frame.DataFrame'>\n",
      "RangeIndex: 1565 entries, 0 to 1564\n",
      "Data columns (total 5 columns):\n",
      " #   Column             Non-Null Count  Dtype \n",
      "---  ------             --------------  ----- \n",
      " 0   user_id            1565 non-null   int64 \n",
      " 1   name               1565 non-null   object\n",
      " 2   age                1565 non-null   int64 \n",
      " 3   city               1565 non-null   object\n",
      " 4   subscription_type  1565 non-null   object\n",
      "dtypes: int64(2), object(3)\n",
      "memory usage: 61.3+ KB\n"
     ]
    },
    {
     "data": {
      "text/plain": [
       "None"
      ]
     },
     "metadata": {},
     "output_type": "display_data"
    }
   ],
   "source": [
    "# посмотрим на данные\n",
    "display(users.head())\n",
    "display(users.info())"
   ]
  },
  {
   "cell_type": "markdown",
   "id": "82c63528",
   "metadata": {},
   "source": [
    "В таблице users содержится 1565 записей с данными о пользователях, **пропусков в данных нет**"
   ]
  },
  {
   "cell_type": "code",
   "execution_count": 4,
   "id": "bb13e27b",
   "metadata": {},
   "outputs": [],
   "source": [
    "# загрузим таблицу с данными о поездках\n",
    "rides = pd.read_csv('/datasets/rides_go.csv')"
   ]
  },
  {
   "cell_type": "code",
   "execution_count": 5,
   "id": "978bdd88",
   "metadata": {},
   "outputs": [
    {
     "data": {
      "text/html": [
       "<div>\n",
       "<style scoped>\n",
       "    .dataframe tbody tr th:only-of-type {\n",
       "        vertical-align: middle;\n",
       "    }\n",
       "\n",
       "    .dataframe tbody tr th {\n",
       "        vertical-align: top;\n",
       "    }\n",
       "\n",
       "    .dataframe thead th {\n",
       "        text-align: right;\n",
       "    }\n",
       "</style>\n",
       "<table border=\"1\" class=\"dataframe\">\n",
       "  <thead>\n",
       "    <tr style=\"text-align: right;\">\n",
       "      <th></th>\n",
       "      <th>user_id</th>\n",
       "      <th>distance</th>\n",
       "      <th>duration</th>\n",
       "      <th>date</th>\n",
       "    </tr>\n",
       "  </thead>\n",
       "  <tbody>\n",
       "    <tr>\n",
       "      <th>0</th>\n",
       "      <td>1</td>\n",
       "      <td>4409.919140</td>\n",
       "      <td>25.599769</td>\n",
       "      <td>2021-01-01</td>\n",
       "    </tr>\n",
       "    <tr>\n",
       "      <th>1</th>\n",
       "      <td>1</td>\n",
       "      <td>2617.592153</td>\n",
       "      <td>15.816871</td>\n",
       "      <td>2021-01-18</td>\n",
       "    </tr>\n",
       "    <tr>\n",
       "      <th>2</th>\n",
       "      <td>1</td>\n",
       "      <td>754.159807</td>\n",
       "      <td>6.232113</td>\n",
       "      <td>2021-04-20</td>\n",
       "    </tr>\n",
       "    <tr>\n",
       "      <th>3</th>\n",
       "      <td>1</td>\n",
       "      <td>2694.783254</td>\n",
       "      <td>18.511000</td>\n",
       "      <td>2021-08-11</td>\n",
       "    </tr>\n",
       "    <tr>\n",
       "      <th>4</th>\n",
       "      <td>1</td>\n",
       "      <td>4028.687306</td>\n",
       "      <td>26.265803</td>\n",
       "      <td>2021-08-28</td>\n",
       "    </tr>\n",
       "  </tbody>\n",
       "</table>\n",
       "</div>"
      ],
      "text/plain": [
       "   user_id     distance   duration        date\n",
       "0        1  4409.919140  25.599769  2021-01-01\n",
       "1        1  2617.592153  15.816871  2021-01-18\n",
       "2        1   754.159807   6.232113  2021-04-20\n",
       "3        1  2694.783254  18.511000  2021-08-11\n",
       "4        1  4028.687306  26.265803  2021-08-28"
      ]
     },
     "metadata": {},
     "output_type": "display_data"
    },
    {
     "name": "stdout",
     "output_type": "stream",
     "text": [
      "<class 'pandas.core.frame.DataFrame'>\n",
      "RangeIndex: 18068 entries, 0 to 18067\n",
      "Data columns (total 4 columns):\n",
      " #   Column    Non-Null Count  Dtype  \n",
      "---  ------    --------------  -----  \n",
      " 0   user_id   18068 non-null  int64  \n",
      " 1   distance  18068 non-null  float64\n",
      " 2   duration  18068 non-null  float64\n",
      " 3   date      18068 non-null  object \n",
      "dtypes: float64(2), int64(1), object(1)\n",
      "memory usage: 564.8+ KB\n"
     ]
    },
    {
     "data": {
      "text/plain": [
       "None"
      ]
     },
     "metadata": {},
     "output_type": "display_data"
    }
   ],
   "source": [
    "# посмотрим на данные\n",
    "display(rides.head())\n",
    "display(rides.info())"
   ]
  },
  {
   "cell_type": "markdown",
   "id": "5dd3f0f7",
   "metadata": {},
   "source": [
    "В таблице rides содержится 18068 записей с данными о поездках, **пропусков в данных нет**"
   ]
  },
  {
   "cell_type": "code",
   "execution_count": 6,
   "id": "b6ea7566",
   "metadata": {},
   "outputs": [],
   "source": [
    "# загрузим таблицу с данными о подписках\n",
    "subs = pd.read_csv('/datasets/subscriptions_go.csv')\n"
   ]
  },
  {
   "cell_type": "code",
   "execution_count": 7,
   "id": "9197367e",
   "metadata": {},
   "outputs": [
    {
     "data": {
      "text/html": [
       "<div>\n",
       "<style scoped>\n",
       "    .dataframe tbody tr th:only-of-type {\n",
       "        vertical-align: middle;\n",
       "    }\n",
       "\n",
       "    .dataframe tbody tr th {\n",
       "        vertical-align: top;\n",
       "    }\n",
       "\n",
       "    .dataframe thead th {\n",
       "        text-align: right;\n",
       "    }\n",
       "</style>\n",
       "<table border=\"1\" class=\"dataframe\">\n",
       "  <thead>\n",
       "    <tr style=\"text-align: right;\">\n",
       "      <th></th>\n",
       "      <th>subscription_type</th>\n",
       "      <th>minute_price</th>\n",
       "      <th>start_ride_price</th>\n",
       "      <th>subscription_fee</th>\n",
       "    </tr>\n",
       "  </thead>\n",
       "  <tbody>\n",
       "    <tr>\n",
       "      <th>0</th>\n",
       "      <td>free</td>\n",
       "      <td>8</td>\n",
       "      <td>50</td>\n",
       "      <td>0</td>\n",
       "    </tr>\n",
       "    <tr>\n",
       "      <th>1</th>\n",
       "      <td>ultra</td>\n",
       "      <td>6</td>\n",
       "      <td>0</td>\n",
       "      <td>199</td>\n",
       "    </tr>\n",
       "  </tbody>\n",
       "</table>\n",
       "</div>"
      ],
      "text/plain": [
       "  subscription_type  minute_price  start_ride_price  subscription_fee\n",
       "0              free             8                50                 0\n",
       "1             ultra             6                 0               199"
      ]
     },
     "metadata": {},
     "output_type": "display_data"
    },
    {
     "name": "stdout",
     "output_type": "stream",
     "text": [
      "<class 'pandas.core.frame.DataFrame'>\n",
      "RangeIndex: 2 entries, 0 to 1\n",
      "Data columns (total 4 columns):\n",
      " #   Column             Non-Null Count  Dtype \n",
      "---  ------             --------------  ----- \n",
      " 0   subscription_type  2 non-null      object\n",
      " 1   minute_price       2 non-null      int64 \n",
      " 2   start_ride_price   2 non-null      int64 \n",
      " 3   subscription_fee   2 non-null      int64 \n",
      "dtypes: int64(3), object(1)\n",
      "memory usage: 192.0+ bytes\n"
     ]
    },
    {
     "data": {
      "text/plain": [
       "None"
      ]
     },
     "metadata": {},
     "output_type": "display_data"
    }
   ],
   "source": [
    "# посмотрим на данные\n",
    "display(subs.head())\n",
    "display(subs.info())"
   ]
  },
  {
   "cell_type": "markdown",
   "id": "e38910e9",
   "metadata": {},
   "source": [
    "В таблице subs содержится 2 записи с данными о стоимости сервиса с подпиской и без, **пропусков в данных нет**"
   ]
  },
  {
   "cell_type": "markdown",
   "id": "e95ebca7",
   "metadata": {},
   "source": [
    "#### Шаг 2. Предобработка данных"
   ]
  },
  {
   "cell_type": "markdown",
   "id": "2fc391ec",
   "metadata": {},
   "source": [
    "##### Приведем столбец date к типу даты pandas."
   ]
  },
  {
   "cell_type": "code",
   "execution_count": 8,
   "id": "af6d202c",
   "metadata": {},
   "outputs": [
    {
     "name": "stdout",
     "output_type": "stream",
     "text": [
      "<class 'pandas.core.frame.DataFrame'>\n",
      "RangeIndex: 18068 entries, 0 to 18067\n",
      "Data columns (total 4 columns):\n",
      " #   Column    Non-Null Count  Dtype         \n",
      "---  ------    --------------  -----         \n",
      " 0   user_id   18068 non-null  int64         \n",
      " 1   distance  18068 non-null  float64       \n",
      " 2   duration  18068 non-null  float64       \n",
      " 3   date      18068 non-null  datetime64[ns]\n",
      "dtypes: datetime64[ns](1), float64(2), int64(1)\n",
      "memory usage: 564.8 KB\n"
     ]
    }
   ],
   "source": [
    "rides['date'] = pd.to_datetime(rides['date'] , format = '%Y-%m-%d')\n",
    "rides.info()"
   ]
  },
  {
   "cell_type": "markdown",
   "id": "127d390c",
   "metadata": {},
   "source": [
    "#####  Создайте новый столбец с номером месяца на основе столбца date."
   ]
  },
  {
   "cell_type": "code",
   "execution_count": 9,
   "id": "fc628c67",
   "metadata": {},
   "outputs": [
    {
     "data": {
      "text/html": [
       "<div>\n",
       "<style scoped>\n",
       "    .dataframe tbody tr th:only-of-type {\n",
       "        vertical-align: middle;\n",
       "    }\n",
       "\n",
       "    .dataframe tbody tr th {\n",
       "        vertical-align: top;\n",
       "    }\n",
       "\n",
       "    .dataframe thead th {\n",
       "        text-align: right;\n",
       "    }\n",
       "</style>\n",
       "<table border=\"1\" class=\"dataframe\">\n",
       "  <thead>\n",
       "    <tr style=\"text-align: right;\">\n",
       "      <th></th>\n",
       "      <th>user_id</th>\n",
       "      <th>distance</th>\n",
       "      <th>duration</th>\n",
       "      <th>date</th>\n",
       "      <th>month</th>\n",
       "    </tr>\n",
       "  </thead>\n",
       "  <tbody>\n",
       "    <tr>\n",
       "      <th>0</th>\n",
       "      <td>1</td>\n",
       "      <td>4409.91914</td>\n",
       "      <td>25.599769</td>\n",
       "      <td>2021-01-01</td>\n",
       "      <td>1</td>\n",
       "    </tr>\n",
       "  </tbody>\n",
       "</table>\n",
       "</div>"
      ],
      "text/plain": [
       "   user_id    distance   duration       date  month\n",
       "0        1  4409.91914  25.599769 2021-01-01      1"
      ]
     },
     "execution_count": 9,
     "metadata": {},
     "output_type": "execute_result"
    }
   ],
   "source": [
    "rides['month'] = rides['date'].dt.month\n",
    "rides.head(1)"
   ]
  },
  {
   "cell_type": "code",
   "execution_count": 10,
   "id": "e2a6ccc9",
   "metadata": {},
   "outputs": [
    {
     "name": "stdout",
     "output_type": "stream",
     "text": [
      "Период, за который представлены данные о поездках: с 2021-01-01 00:00:00 по 2021-12-30 00:00:00\n"
     ]
    }
   ],
   "source": [
    "print(\"Период, за который представлены данные о поездках: с\", rides.date.min(), \"по\", rides.date.max())"
   ]
  },
  {
   "cell_type": "markdown",
   "id": "06c42a08",
   "metadata": {},
   "source": [
    "#####  Проверим наличие пропущенных значений и дубликатов в датафреймах. "
   ]
  },
  {
   "cell_type": "markdown",
   "id": "44ee0cc0",
   "metadata": {},
   "source": [
    "В Шаге 1 при изучении данных о датафреймах убедились, что **пропусков в данных нет**.\n",
    "\n",
    "Проверим, ести ли в таблицах users и rides дубликаты. Если есть, удалим их. **В таблице subs всего 2 записи, дубликатов нет**"
   ]
  },
  {
   "cell_type": "code",
   "execution_count": 11,
   "id": "c3cfa3f3",
   "metadata": {},
   "outputs": [
    {
     "name": "stdout",
     "output_type": "stream",
     "text": [
      "Количество дубликтов в таблице users: 31\n"
     ]
    }
   ],
   "source": [
    "print(\"Количество дубликтов в таблице users:\", users.duplicated().sum()) #проверяем, есть ли дубликаты\n",
    "users.drop_duplicates(inplace=True) #удаляем дубликаты"
   ]
  },
  {
   "cell_type": "code",
   "execution_count": 12,
   "id": "4e40f861",
   "metadata": {},
   "outputs": [
    {
     "name": "stdout",
     "output_type": "stream",
     "text": [
      "Количество дубликтов в таблице rides: 0\n"
     ]
    }
   ],
   "source": [
    "print(\"Количество дубликтов в таблице rides:\", rides.duplicated().sum())"
   ]
  },
  {
   "cell_type": "markdown",
   "id": "ebab817b",
   "metadata": {},
   "source": [
    "Датафреймы с данными о пользователях и поездках не содержали пропусков. В данных о пользователях были дублирующие строки - 31 строка, дубликаты были удалены."
   ]
  },
  {
   "cell_type": "markdown",
   "id": "d4764d7e",
   "metadata": {},
   "source": [
    "##### добавим в таблицу rides столбец с округленным в большую сторону временем поездки\n",
    "*Это пригодится при расчете стоимости поездки*"
   ]
  },
  {
   "cell_type": "code",
   "execution_count": 13,
   "id": "aed0d11a",
   "metadata": {},
   "outputs": [
    {
     "data": {
      "text/plain": [
       "0    26.0\n",
       "1    16.0\n",
       "2     7.0\n",
       "3    19.0\n",
       "4    27.0\n",
       "Name: duration_ceil, dtype: float64"
      ]
     },
     "execution_count": 13,
     "metadata": {},
     "output_type": "execute_result"
    }
   ],
   "source": [
    "rides['duration_ceil'] = np.ceil(rides['duration'])\n",
    "rides['duration_ceil'].head()"
   ]
  },
  {
   "cell_type": "markdown",
   "id": "212593c7",
   "metadata": {},
   "source": [
    "#### Шаг 3. Исследовательский анализ данных"
   ]
  },
  {
   "cell_type": "markdown",
   "id": "c4eb3461",
   "metadata": {},
   "source": [
    "Опишем и визуализируем общую информацию о пользователях и поездках:"
   ]
  },
  {
   "cell_type": "markdown",
   "id": "2ad852a5",
   "metadata": {},
   "source": [
    "##### частота встречаемости городов;"
   ]
  },
  {
   "cell_type": "code",
   "execution_count": 14,
   "id": "aec31991",
   "metadata": {},
   "outputs": [
    {
     "data": {
      "image/png": "[encoded data removed]",
      "text/plain": [
       "<Figure size 432x288 with 1 Axes>"
      ]
     },
     "metadata": {
      "needs_background": "light"
     },
     "output_type": "display_data"
    }
   ],
   "source": [
    "(\n",
    "    users['city']\n",
    "    .value_counts()\n",
    "    .plot(kind = 'bar', grid = True, figsize = (6,4), title = 'Распределение пользователей по городам',\\\n",
    "          xlabel = 'город', ylabel = 'кол-во пользователей')\n",
    ");\n"
   ]
  },
  {
   "cell_type": "code",
   "execution_count": 43,
   "id": "7247fec4",
   "metadata": {},
   "outputs": [
    {
     "data": {
      "image/png": "[encoded data removed]",
      "text/plain": [
       "<Figure size 576x432 with 1 Axes>"
      ]
     },
     "metadata": {
      "needs_background": "light"
     },
     "output_type": "display_data"
    }
   ],
   "source": [
    "import matplotlib.pyplot as plt\n",
    "\n",
    "# Построение распределения пользователей по городам\n",
    "users['city'].value_counts().plot(kind='bar', grid=True, figsize=(8, 6), title='Распределение пользователей по городам', xlabel='город', ylabel='кол-во пользователей')\n",
    "\n",
    "# Добавление значений над столбцами\n",
    "for index, value in enumerate(users['city'].value_counts()):\n",
    "    plt.text(index - 0.2, value + 0.1, str(value))  # Размещение значения чуть выше столбца\n",
    "\n",
    "plt.show()\n"
   ]
  },
  {
   "cell_type": "markdown",
   "id": "2f9abc56",
   "metadata": {},
   "source": [
    "В таблице users содержатся данные о почти 1600 пользователях из 8 городов России. Больше всего в таблице пользователей из Пятигорска (219 человек), меньше всего - из Москвы (168 человек)."
   ]
  },
  {
   "cell_type": "markdown",
   "id": "d9fe5e79",
   "metadata": {},
   "source": [
    "##### возраст пользователей"
   ]
  },
  {
   "cell_type": "code",
   "execution_count": 15,
   "id": "6328d369",
   "metadata": {},
   "outputs": [
    {
     "data": {
      "image/png": "[encoded data removed]",
      "text/plain": [
       "<Figure size 648x432 with 1 Axes>"
      ]
     },
     "metadata": {
      "needs_background": "light"
     },
     "output_type": "display_data"
    }
   ],
   "source": [
    "(\n",
    "    users['age']\n",
    "    .value_counts()\n",
    "    .sort_index()\n",
    "    .plot(kind = 'bar', grid = True, figsize = (9,6), title = 'Распределение пользователей по возрастам',\\\n",
    "          xlabel = 'возраст', ylabel = 'кол-во пользователей')\n",
    ");"
   ]
  },
  {
   "cell_type": "code",
   "execution_count": 16,
   "id": "dbf5bc77",
   "metadata": {},
   "outputs": [
    {
     "data": {
      "text/plain": [
       "count    1534.000000\n",
       "mean       24.903520\n",
       "std         4.572367\n",
       "min        12.000000\n",
       "5%         17.000000\n",
       "25%        22.000000\n",
       "50%        25.000000\n",
       "75%        28.000000\n",
       "95%        33.000000\n",
       "max        43.000000\n",
       "Name: age, dtype: float64"
      ]
     },
     "execution_count": 16,
     "metadata": {},
     "output_type": "execute_result"
    }
   ],
   "source": [
    "users['age'].describe(percentiles = [.05, .25, .5, .75, .95])"
   ]
  },
  {
   "cell_type": "markdown",
   "id": "aa1a8fdc",
   "metadata": {},
   "source": [
    "- В представленной таблице есть данные о больше чем 1500 пользователях сервиса. \n",
    "- Пользователи в таблице - это люди в возрасте от 12 до 43 лет.\n",
    "- 90% пользователей - это люди в возрасте от 17 до 33 лет.\n",
    "- Больше всего пользователей в возрасте 25 лет - больше 140 человек."
   ]
  },
  {
   "cell_type": "markdown",
   "id": "7e1215c7",
   "metadata": {},
   "source": [
    "##### соотношение пользователей с подпиской и без подписки"
   ]
  },
  {
   "cell_type": "code",
   "execution_count": 17,
   "id": "761ed3ab",
   "metadata": {},
   "outputs": [
    {
     "data": {
      "image/png": "[encoded data removed]",
      "text/plain": [
       "<Figure size 648x432 with 1 Axes>"
      ]
     },
     "metadata": {},
     "output_type": "display_data"
    }
   ],
   "source": [
    "(\n",
    "    users['subscription_type']\n",
    "    .value_counts()\n",
    "    .plot(kind = 'pie', grid = True, figsize = (9,6),title = 'Соотношение пользователей с подпиской (ultra) и без (free)')\n",
    ");"
   ]
  },
  {
   "cell_type": "markdown",
   "id": "0d106ae5",
   "metadata": {},
   "source": [
    "Пользователей с подпиской и без примерно равное количество, чуть больше пользователей не имеют подписки."
   ]
  },
  {
   "cell_type": "markdown",
   "id": "4a8dc695",
   "metadata": {},
   "source": [
    "##### расстояние, которое пользователь преодолел за одну поездку"
   ]
  },
  {
   "cell_type": "code",
   "execution_count": 18,
   "id": "272891b7",
   "metadata": {},
   "outputs": [
    {
     "data": {
      "image/png": "[encoded data removed]",
      "text/plain": [
       "<Figure size 1080x432 with 2 Axes>"
      ]
     },
     "metadata": {
      "needs_background": "light"
     },
     "output_type": "display_data"
    }
   ],
   "source": [
    "fig, ax = plt.subplots(1,2 , figsize = (15,6))\n",
    "\n",
    "rides.distance.plot(kind = 'hist', bins = 50, grid = True, title = 'Распределение дальности поездок, в метрах', ax = ax[0])\n",
    "rides.boxplot(column = 'distance', ax = ax[1])\n",
    "ax[1].set_title('Разброс значений дальности поездок, в метрах')\n",
    "plt.show()"
   ]
  },
  {
   "cell_type": "code",
   "execution_count": 19,
   "id": "c5d8491c",
   "metadata": {},
   "outputs": [
    {
     "data": {
      "text/plain": [
       "count    18068.000000\n",
       "mean      3070.659976\n",
       "std       1116.831209\n",
       "min          0.855683\n",
       "5%         689.007279\n",
       "25%       2543.226360\n",
       "50%       3133.609994\n",
       "75%       3776.222735\n",
       "95%       4740.088596\n",
       "max       7211.007745\n",
       "Name: distance, dtype: float64"
      ]
     },
     "execution_count": 19,
     "metadata": {},
     "output_type": "execute_result"
    }
   ],
   "source": [
    "rides.distance.describe(percentiles = [.05, .25, .5, .75, .95])"
   ]
  },
  {
   "cell_type": "code",
   "execution_count": 20,
   "id": "c60e531b",
   "metadata": {},
   "outputs": [
    {
     "data": {
      "text/plain": [
       "687.5367134052547"
      ]
     },
     "metadata": {},
     "output_type": "display_data"
    },
    {
     "data": {
      "text/plain": [
       "3239.972305386772"
      ]
     },
     "metadata": {},
     "output_type": "display_data"
    }
   ],
   "source": [
    "display(rides.query('distance<1500')['distance'].median())\n",
    "display(rides.query('distance>=1500')['distance'].median())"
   ]
  },
  {
   "cell_type": "code",
   "execution_count": 21,
   "id": "71814337",
   "metadata": {},
   "outputs": [
    {
     "data": {
      "text/html": [
       "<div>\n",
       "<style scoped>\n",
       "    .dataframe tbody tr th:only-of-type {\n",
       "        vertical-align: middle;\n",
       "    }\n",
       "\n",
       "    .dataframe tbody tr th {\n",
       "        vertical-align: top;\n",
       "    }\n",
       "\n",
       "    .dataframe thead th {\n",
       "        text-align: right;\n",
       "    }\n",
       "</style>\n",
       "<table border=\"1\" class=\"dataframe\">\n",
       "  <thead>\n",
       "    <tr style=\"text-align: right;\">\n",
       "      <th></th>\n",
       "      <th>user_id</th>\n",
       "      <th>distance</th>\n",
       "      <th>duration</th>\n",
       "      <th>date</th>\n",
       "      <th>month</th>\n",
       "      <th>duration_ceil</th>\n",
       "    </tr>\n",
       "  </thead>\n",
       "  <tbody>\n",
       "    <tr>\n",
       "      <th>11555</th>\n",
       "      <td>1069</td>\n",
       "      <td>0.855683</td>\n",
       "      <td>10.001902</td>\n",
       "      <td>2021-01-31</td>\n",
       "      <td>1</td>\n",
       "      <td>11.0</td>\n",
       "    </tr>\n",
       "  </tbody>\n",
       "</table>\n",
       "</div>"
      ],
      "text/plain": [
       "       user_id  distance   duration       date  month  duration_ceil\n",
       "11555     1069  0.855683  10.001902 2021-01-31      1           11.0"
      ]
     },
     "metadata": {},
     "output_type": "display_data"
    },
    {
     "data": {
      "text/html": [
       "<div>\n",
       "<style scoped>\n",
       "    .dataframe tbody tr th:only-of-type {\n",
       "        vertical-align: middle;\n",
       "    }\n",
       "\n",
       "    .dataframe tbody tr th {\n",
       "        vertical-align: top;\n",
       "    }\n",
       "\n",
       "    .dataframe thead th {\n",
       "        text-align: right;\n",
       "    }\n",
       "</style>\n",
       "<table border=\"1\" class=\"dataframe\">\n",
       "  <thead>\n",
       "    <tr style=\"text-align: right;\">\n",
       "      <th></th>\n",
       "      <th>user_id</th>\n",
       "      <th>distance</th>\n",
       "      <th>duration</th>\n",
       "      <th>date</th>\n",
       "      <th>month</th>\n",
       "      <th>duration_ceil</th>\n",
       "    </tr>\n",
       "  </thead>\n",
       "  <tbody>\n",
       "    <tr>\n",
       "      <th>16309</th>\n",
       "      <td>1411</td>\n",
       "      <td>7211.007745</td>\n",
       "      <td>0.5</td>\n",
       "      <td>2021-04-15</td>\n",
       "      <td>4</td>\n",
       "      <td>1.0</td>\n",
       "    </tr>\n",
       "  </tbody>\n",
       "</table>\n",
       "</div>"
      ],
      "text/plain": [
       "       user_id     distance  duration       date  month  duration_ceil\n",
       "16309     1411  7211.007745       0.5 2021-04-15      4            1.0"
      ]
     },
     "metadata": {},
     "output_type": "display_data"
    }
   ],
   "source": [
    "display(rides.query('distance == @rides.distance.min()'))\n",
    "display(rides.query('distance == @rides.distance.max()'))"
   ]
  },
  {
   "cell_type": "markdown",
   "id": "71961036",
   "metadata": {},
   "source": [
    "- Распределение расстояния одной поездки имеет 2 пика: первый около 700 метров, второй - около 3200 метров. Видимо, первый пик соответствует поездкам, когда пользователю надо быстро добраться до места, таких поездок не очень много - всего порядка 5% всей выборки. Второй пик может соответствовать поездкам пользователя, например, от дома до работы, или же прогулкам на самокате. Таких поездок - большинство.\n",
    "- Минимальное расстояние одной поездки - меньше метра (вероятно, пользователь активировал поездку в приложении, но передумал ехать)\n",
    "- Максиальное расстояние одной поездки - свыше 7 км. Однако в записи этой поездки есть какой-то технический сбой, т.к. указана продолжительность поездки - 0.5 минут (рассмотрим продолжительности поездок ниже)\n",
    "- ***90% поездок на самокатах совершаются на расстояния от 700 до 4700 метров.***"
   ]
  },
  {
   "cell_type": "markdown",
   "id": "25d63ef6",
   "metadata": {},
   "source": [
    "##### продолжительность поездок"
   ]
  },
  {
   "cell_type": "code",
   "execution_count": 22,
   "id": "79166484",
   "metadata": {},
   "outputs": [
    {
     "data": {
      "image/png": "[encoded data removed]",
      "text/plain": [
       "<Figure size 1080x432 with 2 Axes>"
      ]
     },
     "metadata": {
      "needs_background": "light"
     },
     "output_type": "display_data"
    }
   ],
   "source": [
    "fig, ax = plt.subplots(1,2 , figsize = (15,6))\n",
    "\n",
    "rides.duration.plot(kind = 'hist', bins = 50, grid = True, title = 'Распределение длительности поездок, в минутах', ax = ax[0])\n",
    "\n",
    "rides.boxplot(column = 'duration', ax = ax[1])\n",
    "ax[1].set_title('Разброс значений длительности поездок, в минутах')\n",
    "plt.show()"
   ]
  },
  {
   "cell_type": "code",
   "execution_count": 23,
   "id": "7d71ad22",
   "metadata": {},
   "outputs": [
    {
     "data": {
      "text/plain": [
       "count    18068.000000\n",
       "mean        17.805011\n",
       "std          6.091051\n",
       "min          0.500000\n",
       "5%           8.244528\n",
       "25%         13.597563\n",
       "50%         17.678395\n",
       "75%         21.724800\n",
       "95%         28.428730\n",
       "max         40.823963\n",
       "Name: duration, dtype: float64"
      ]
     },
     "execution_count": 23,
     "metadata": {},
     "output_type": "execute_result"
    }
   ],
   "source": [
    "rides.duration.describe(percentiles = [.05, .25, .5, .75, .95])"
   ]
  },
  {
   "cell_type": "markdown",
   "id": "467f2841",
   "metadata": {},
   "source": [
    "- Распределение продолжительности одной поездки имеет 2 пика: первый  - 0.5 минут, второй - около 17 минут. *Дальше посмотрим на поездки с указанной продолжительностью полминуты подробнее.* \n",
    "- Максиальная длительность одной поездки - 40 минут. \n",
    "- ***90% поездок на самокатах имеют продолжительность от 8 до 28 минут.***"
   ]
  },
  {
   "cell_type": "code",
   "execution_count": 24,
   "id": "421610b1",
   "metadata": {},
   "outputs": [
    {
     "data": {
      "text/html": [
       "<div>\n",
       "<style scoped>\n",
       "    .dataframe tbody tr th:only-of-type {\n",
       "        vertical-align: middle;\n",
       "    }\n",
       "\n",
       "    .dataframe tbody tr th {\n",
       "        vertical-align: top;\n",
       "    }\n",
       "\n",
       "    .dataframe thead th {\n",
       "        text-align: right;\n",
       "    }\n",
       "</style>\n",
       "<table border=\"1\" class=\"dataframe\">\n",
       "  <thead>\n",
       "    <tr style=\"text-align: right;\">\n",
       "      <th></th>\n",
       "      <th>user_id</th>\n",
       "      <th>distance</th>\n",
       "      <th>duration</th>\n",
       "      <th>date</th>\n",
       "      <th>month</th>\n",
       "      <th>duration_ceil</th>\n",
       "    </tr>\n",
       "  </thead>\n",
       "  <tbody>\n",
       "    <tr>\n",
       "      <th>6531</th>\n",
       "      <td>701</td>\n",
       "      <td>4196.445201</td>\n",
       "      <td>0.5</td>\n",
       "      <td>2021-08-31</td>\n",
       "      <td>8</td>\n",
       "      <td>1.0</td>\n",
       "    </tr>\n",
       "    <tr>\n",
       "      <th>6570</th>\n",
       "      <td>704</td>\n",
       "      <td>4830.824371</td>\n",
       "      <td>0.5</td>\n",
       "      <td>2021-10-14</td>\n",
       "      <td>10</td>\n",
       "      <td>1.0</td>\n",
       "    </tr>\n",
       "    <tr>\n",
       "      <th>6680</th>\n",
       "      <td>712</td>\n",
       "      <td>4684.004397</td>\n",
       "      <td>0.5</td>\n",
       "      <td>2021-03-04</td>\n",
       "      <td>3</td>\n",
       "      <td>1.0</td>\n",
       "    </tr>\n",
       "    <tr>\n",
       "      <th>6695</th>\n",
       "      <td>713</td>\n",
       "      <td>5215.642710</td>\n",
       "      <td>0.5</td>\n",
       "      <td>2021-02-25</td>\n",
       "      <td>2</td>\n",
       "      <td>1.0</td>\n",
       "    </tr>\n",
       "    <tr>\n",
       "      <th>6768</th>\n",
       "      <td>718</td>\n",
       "      <td>5197.436649</td>\n",
       "      <td>0.5</td>\n",
       "      <td>2021-02-11</td>\n",
       "      <td>2</td>\n",
       "      <td>1.0</td>\n",
       "    </tr>\n",
       "    <tr>\n",
       "      <th>...</th>\n",
       "      <td>...</td>\n",
       "      <td>...</td>\n",
       "      <td>...</td>\n",
       "      <td>...</td>\n",
       "      <td>...</td>\n",
       "      <td>...</td>\n",
       "    </tr>\n",
       "    <tr>\n",
       "      <th>17004</th>\n",
       "      <td>1460</td>\n",
       "      <td>5531.335845</td>\n",
       "      <td>0.5</td>\n",
       "      <td>2021-01-19</td>\n",
       "      <td>1</td>\n",
       "      <td>1.0</td>\n",
       "    </tr>\n",
       "    <tr>\n",
       "      <th>17242</th>\n",
       "      <td>1477</td>\n",
       "      <td>6724.932981</td>\n",
       "      <td>0.5</td>\n",
       "      <td>2021-01-12</td>\n",
       "      <td>1</td>\n",
       "      <td>1.0</td>\n",
       "    </tr>\n",
       "    <tr>\n",
       "      <th>17314</th>\n",
       "      <td>1483</td>\n",
       "      <td>4445.481070</td>\n",
       "      <td>0.5</td>\n",
       "      <td>2021-03-06</td>\n",
       "      <td>3</td>\n",
       "      <td>1.0</td>\n",
       "    </tr>\n",
       "    <tr>\n",
       "      <th>17505</th>\n",
       "      <td>1496</td>\n",
       "      <td>5722.551787</td>\n",
       "      <td>0.5</td>\n",
       "      <td>2021-02-14</td>\n",
       "      <td>2</td>\n",
       "      <td>1.0</td>\n",
       "    </tr>\n",
       "    <tr>\n",
       "      <th>17909</th>\n",
       "      <td>1524</td>\n",
       "      <td>4103.998874</td>\n",
       "      <td>0.5</td>\n",
       "      <td>2021-06-18</td>\n",
       "      <td>6</td>\n",
       "      <td>1.0</td>\n",
       "    </tr>\n",
       "  </tbody>\n",
       "</table>\n",
       "<p>95 rows × 6 columns</p>\n",
       "</div>"
      ],
      "text/plain": [
       "       user_id     distance  duration       date  month  duration_ceil\n",
       "6531       701  4196.445201       0.5 2021-08-31      8            1.0\n",
       "6570       704  4830.824371       0.5 2021-10-14     10            1.0\n",
       "6680       712  4684.004397       0.5 2021-03-04      3            1.0\n",
       "6695       713  5215.642710       0.5 2021-02-25      2            1.0\n",
       "6768       718  5197.436649       0.5 2021-02-11      2            1.0\n",
       "...        ...          ...       ...        ...    ...            ...\n",
       "17004     1460  5531.335845       0.5 2021-01-19      1            1.0\n",
       "17242     1477  6724.932981       0.5 2021-01-12      1            1.0\n",
       "17314     1483  4445.481070       0.5 2021-03-06      3            1.0\n",
       "17505     1496  5722.551787       0.5 2021-02-14      2            1.0\n",
       "17909     1524  4103.998874       0.5 2021-06-18      6            1.0\n",
       "\n",
       "[95 rows x 6 columns]"
      ]
     },
     "execution_count": 24,
     "metadata": {},
     "output_type": "execute_result"
    }
   ],
   "source": [
    "rides.query('duration == 0.5')"
   ]
  },
  {
   "cell_type": "code",
   "execution_count": 25,
   "id": "aeb24445",
   "metadata": {},
   "outputs": [
    {
     "data": {
      "image/png": "[encoded data removed]",
      "text/plain": [
       "<Figure size 432x288 with 1 Axes>"
      ]
     },
     "metadata": {
      "needs_background": "light"
     },
     "output_type": "display_data"
    }
   ],
   "source": [
    "rides.query('duration == 0.5')['distance'].hist();"
   ]
  },
  {
   "cell_type": "markdown",
   "id": "8a7b1c22",
   "metadata": {},
   "source": [
    "Видно, что записи, у которых duration = 0.5, - это поездки разных пользователей в разные дни, разные месяцы. Всего таких записей - 95 штук. \n",
    "\n",
    "При этом, расстояния этих поездок - от 4 до 7 км, что не имеет никакого физического смысла. Можно предположить, что такие записи соответствуют либо каким-то техническим сбоям в оценке времени, либо это заполнение пропущенных значений. "
   ]
  },
  {
   "cell_type": "markdown",
   "id": "4ef51331",
   "metadata": {},
   "source": [
    "#### Шаг 4. Объединение данных"
   ]
  },
  {
   "cell_type": "markdown",
   "id": "157fd19d",
   "metadata": {},
   "source": [
    "##### Объединим данные о пользователях, поездках и подписках в один датафрейм. "
   ]
  },
  {
   "cell_type": "code",
   "execution_count": 27,
   "id": "f476f45e",
   "metadata": {},
   "outputs": [
    {
     "data": {
      "text/html": [
       "<div>\n",
       "<style scoped>\n",
       "    .dataframe tbody tr th:only-of-type {\n",
       "        vertical-align: middle;\n",
       "    }\n",
       "\n",
       "    .dataframe tbody tr th {\n",
       "        vertical-align: top;\n",
       "    }\n",
       "\n",
       "    .dataframe thead th {\n",
       "        text-align: right;\n",
       "    }\n",
       "</style>\n",
       "<table border=\"1\" class=\"dataframe\">\n",
       "  <thead>\n",
       "    <tr style=\"text-align: right;\">\n",
       "      <th></th>\n",
       "      <th>user_id</th>\n",
       "      <th>distance</th>\n",
       "      <th>duration</th>\n",
       "      <th>date</th>\n",
       "      <th>month</th>\n",
       "      <th>duration_ceil</th>\n",
       "      <th>name</th>\n",
       "      <th>age</th>\n",
       "      <th>city</th>\n",
       "      <th>subscription_type</th>\n",
       "      <th>minute_price</th>\n",
       "      <th>start_ride_price</th>\n",
       "      <th>subscription_fee</th>\n",
       "    </tr>\n",
       "  </thead>\n",
       "  <tbody>\n",
       "    <tr>\n",
       "      <th>0</th>\n",
       "      <td>1</td>\n",
       "      <td>4409.919140</td>\n",
       "      <td>25.599769</td>\n",
       "      <td>2021-01-01</td>\n",
       "      <td>1</td>\n",
       "      <td>26.0</td>\n",
       "      <td>Кира</td>\n",
       "      <td>22</td>\n",
       "      <td>Тюмень</td>\n",
       "      <td>ultra</td>\n",
       "      <td>6</td>\n",
       "      <td>0</td>\n",
       "      <td>199</td>\n",
       "    </tr>\n",
       "    <tr>\n",
       "      <th>1</th>\n",
       "      <td>1</td>\n",
       "      <td>2617.592153</td>\n",
       "      <td>15.816871</td>\n",
       "      <td>2021-01-18</td>\n",
       "      <td>1</td>\n",
       "      <td>16.0</td>\n",
       "      <td>Кира</td>\n",
       "      <td>22</td>\n",
       "      <td>Тюмень</td>\n",
       "      <td>ultra</td>\n",
       "      <td>6</td>\n",
       "      <td>0</td>\n",
       "      <td>199</td>\n",
       "    </tr>\n",
       "    <tr>\n",
       "      <th>2</th>\n",
       "      <td>1</td>\n",
       "      <td>754.159807</td>\n",
       "      <td>6.232113</td>\n",
       "      <td>2021-04-20</td>\n",
       "      <td>4</td>\n",
       "      <td>7.0</td>\n",
       "      <td>Кира</td>\n",
       "      <td>22</td>\n",
       "      <td>Тюмень</td>\n",
       "      <td>ultra</td>\n",
       "      <td>6</td>\n",
       "      <td>0</td>\n",
       "      <td>199</td>\n",
       "    </tr>\n",
       "    <tr>\n",
       "      <th>3</th>\n",
       "      <td>1</td>\n",
       "      <td>2694.783254</td>\n",
       "      <td>18.511000</td>\n",
       "      <td>2021-08-11</td>\n",
       "      <td>8</td>\n",
       "      <td>19.0</td>\n",
       "      <td>Кира</td>\n",
       "      <td>22</td>\n",
       "      <td>Тюмень</td>\n",
       "      <td>ultra</td>\n",
       "      <td>6</td>\n",
       "      <td>0</td>\n",
       "      <td>199</td>\n",
       "    </tr>\n",
       "    <tr>\n",
       "      <th>4</th>\n",
       "      <td>1</td>\n",
       "      <td>4028.687306</td>\n",
       "      <td>26.265803</td>\n",
       "      <td>2021-08-28</td>\n",
       "      <td>8</td>\n",
       "      <td>27.0</td>\n",
       "      <td>Кира</td>\n",
       "      <td>22</td>\n",
       "      <td>Тюмень</td>\n",
       "      <td>ultra</td>\n",
       "      <td>6</td>\n",
       "      <td>0</td>\n",
       "      <td>199</td>\n",
       "    </tr>\n",
       "  </tbody>\n",
       "</table>\n",
       "</div>"
      ],
      "text/plain": [
       "   user_id     distance   duration       date  month  duration_ceil  name  \\\n",
       "0        1  4409.919140  25.599769 2021-01-01      1           26.0  Кира   \n",
       "1        1  2617.592153  15.816871 2021-01-18      1           16.0  Кира   \n",
       "2        1   754.159807   6.232113 2021-04-20      4            7.0  Кира   \n",
       "3        1  2694.783254  18.511000 2021-08-11      8           19.0  Кира   \n",
       "4        1  4028.687306  26.265803 2021-08-28      8           27.0  Кира   \n",
       "\n",
       "   age    city subscription_type  minute_price  start_ride_price  \\\n",
       "0   22  Тюмень             ultra             6                 0   \n",
       "1   22  Тюмень             ultra             6                 0   \n",
       "2   22  Тюмень             ultra             6                 0   \n",
       "3   22  Тюмень             ultra             6                 0   \n",
       "4   22  Тюмень             ultra             6                 0   \n",
       "\n",
       "   subscription_fee  \n",
       "0               199  \n",
       "1               199  \n",
       "2               199  \n",
       "3               199  \n",
       "4               199  "
      ]
     },
     "execution_count": 27,
     "metadata": {},
     "output_type": "execute_result"
    }
   ],
   "source": [
    "data = rides.merge(users, how = 'left', left_on='user_id', right_on='user_id')\n",
    "data = data.merge(subs, how = 'left', left_on='subscription_type', right_on='subscription_type')\n",
    "data.head()"
   ]
  },
  {
   "cell_type": "code",
   "execution_count": 28,
   "id": "d182956a",
   "metadata": {},
   "outputs": [
    {
     "name": "stdout",
     "output_type": "stream",
     "text": [
      "Проверим, не потеряли ли данные при объединении датасетов\n",
      "Кол-во записей о поездках до объединения датасетов: 18068\n",
      "Кол-во записей о поездках после объединения датасетов: 18068\n",
      "Все ок, данные не потерялись\n"
     ]
    }
   ],
   "source": [
    "print(f'Проверим, не потеряли ли данные при объединении датасетов')\n",
    "print(f'Кол-во записей о поездках до объединения датасетов: {rides.shape[0]}')\n",
    "print(f'Кол-во записей о поездках после объединения датасетов: {data.shape[0]}')\n",
    "\n",
    "if (rides.shape[0] == data.shape[0]):\n",
    "    print('Все ок, данные не потерялись')\n",
    "else:\n",
    "    print('Часть данных потеряна')"
   ]
  },
  {
   "cell_type": "markdown",
   "id": "6a5a62f9",
   "metadata": {},
   "source": [
    "#####  Создаем ещё два датафрейма из датафрейма, созданного на этапе 4.1:\n",
    "- c данными о пользователях без подписки;\n",
    "- с данными о пользователях с подпиской.\n"
   ]
  },
  {
   "cell_type": "code",
   "execution_count": 29,
   "id": "c5a4e65c",
   "metadata": {},
   "outputs": [],
   "source": [
    "data_wo_subs = data[data.subscription_type == 'free']\n",
    "data_w_subs = data[data.subscription_type == 'ultra']"
   ]
  },
  {
   "cell_type": "code",
   "execution_count": 30,
   "id": "7f631be6",
   "metadata": {},
   "outputs": [
    {
     "data": {
      "text/html": [
       "<div>\n",
       "<style scoped>\n",
       "    .dataframe tbody tr th:only-of-type {\n",
       "        vertical-align: middle;\n",
       "    }\n",
       "\n",
       "    .dataframe tbody tr th {\n",
       "        vertical-align: top;\n",
       "    }\n",
       "\n",
       "    .dataframe thead th {\n",
       "        text-align: right;\n",
       "    }\n",
       "</style>\n",
       "<table border=\"1\" class=\"dataframe\">\n",
       "  <thead>\n",
       "    <tr style=\"text-align: right;\">\n",
       "      <th></th>\n",
       "      <th>user_id</th>\n",
       "      <th>distance</th>\n",
       "      <th>duration</th>\n",
       "      <th>date</th>\n",
       "      <th>month</th>\n",
       "      <th>duration_ceil</th>\n",
       "      <th>name</th>\n",
       "      <th>age</th>\n",
       "      <th>city</th>\n",
       "      <th>subscription_type</th>\n",
       "      <th>minute_price</th>\n",
       "      <th>start_ride_price</th>\n",
       "      <th>subscription_fee</th>\n",
       "    </tr>\n",
       "  </thead>\n",
       "  <tbody>\n",
       "    <tr>\n",
       "      <th>0</th>\n",
       "      <td>1</td>\n",
       "      <td>4409.919140</td>\n",
       "      <td>25.599769</td>\n",
       "      <td>2021-01-01</td>\n",
       "      <td>1</td>\n",
       "      <td>26.0</td>\n",
       "      <td>Кира</td>\n",
       "      <td>22</td>\n",
       "      <td>Тюмень</td>\n",
       "      <td>ultra</td>\n",
       "      <td>6</td>\n",
       "      <td>0</td>\n",
       "      <td>199</td>\n",
       "    </tr>\n",
       "    <tr>\n",
       "      <th>1</th>\n",
       "      <td>1</td>\n",
       "      <td>2617.592153</td>\n",
       "      <td>15.816871</td>\n",
       "      <td>2021-01-18</td>\n",
       "      <td>1</td>\n",
       "      <td>16.0</td>\n",
       "      <td>Кира</td>\n",
       "      <td>22</td>\n",
       "      <td>Тюмень</td>\n",
       "      <td>ultra</td>\n",
       "      <td>6</td>\n",
       "      <td>0</td>\n",
       "      <td>199</td>\n",
       "    </tr>\n",
       "    <tr>\n",
       "      <th>2</th>\n",
       "      <td>1</td>\n",
       "      <td>754.159807</td>\n",
       "      <td>6.232113</td>\n",
       "      <td>2021-04-20</td>\n",
       "      <td>4</td>\n",
       "      <td>7.0</td>\n",
       "      <td>Кира</td>\n",
       "      <td>22</td>\n",
       "      <td>Тюмень</td>\n",
       "      <td>ultra</td>\n",
       "      <td>6</td>\n",
       "      <td>0</td>\n",
       "      <td>199</td>\n",
       "    </tr>\n",
       "    <tr>\n",
       "      <th>3</th>\n",
       "      <td>1</td>\n",
       "      <td>2694.783254</td>\n",
       "      <td>18.511000</td>\n",
       "      <td>2021-08-11</td>\n",
       "      <td>8</td>\n",
       "      <td>19.0</td>\n",
       "      <td>Кира</td>\n",
       "      <td>22</td>\n",
       "      <td>Тюмень</td>\n",
       "      <td>ultra</td>\n",
       "      <td>6</td>\n",
       "      <td>0</td>\n",
       "      <td>199</td>\n",
       "    </tr>\n",
       "    <tr>\n",
       "      <th>4</th>\n",
       "      <td>1</td>\n",
       "      <td>4028.687306</td>\n",
       "      <td>26.265803</td>\n",
       "      <td>2021-08-28</td>\n",
       "      <td>8</td>\n",
       "      <td>27.0</td>\n",
       "      <td>Кира</td>\n",
       "      <td>22</td>\n",
       "      <td>Тюмень</td>\n",
       "      <td>ultra</td>\n",
       "      <td>6</td>\n",
       "      <td>0</td>\n",
       "      <td>199</td>\n",
       "    </tr>\n",
       "  </tbody>\n",
       "</table>\n",
       "</div>"
      ],
      "text/plain": [
       "   user_id     distance   duration       date  month  duration_ceil  name  \\\n",
       "0        1  4409.919140  25.599769 2021-01-01      1           26.0  Кира   \n",
       "1        1  2617.592153  15.816871 2021-01-18      1           16.0  Кира   \n",
       "2        1   754.159807   6.232113 2021-04-20      4            7.0  Кира   \n",
       "3        1  2694.783254  18.511000 2021-08-11      8           19.0  Кира   \n",
       "4        1  4028.687306  26.265803 2021-08-28      8           27.0  Кира   \n",
       "\n",
       "   age    city subscription_type  minute_price  start_ride_price  \\\n",
       "0   22  Тюмень             ultra             6                 0   \n",
       "1   22  Тюмень             ultra             6                 0   \n",
       "2   22  Тюмень             ultra             6                 0   \n",
       "3   22  Тюмень             ultra             6                 0   \n",
       "4   22  Тюмень             ultra             6                 0   \n",
       "\n",
       "   subscription_fee  \n",
       "0               199  \n",
       "1               199  \n",
       "2               199  \n",
       "3               199  \n",
       "4               199  "
      ]
     },
     "metadata": {},
     "output_type": "display_data"
    },
    {
     "data": {
      "text/html": [
       "<div>\n",
       "<style scoped>\n",
       "    .dataframe tbody tr th:only-of-type {\n",
       "        vertical-align: middle;\n",
       "    }\n",
       "\n",
       "    .dataframe tbody tr th {\n",
       "        vertical-align: top;\n",
       "    }\n",
       "\n",
       "    .dataframe thead th {\n",
       "        text-align: right;\n",
       "    }\n",
       "</style>\n",
       "<table border=\"1\" class=\"dataframe\">\n",
       "  <thead>\n",
       "    <tr style=\"text-align: right;\">\n",
       "      <th></th>\n",
       "      <th>user_id</th>\n",
       "      <th>distance</th>\n",
       "      <th>duration</th>\n",
       "      <th>date</th>\n",
       "      <th>month</th>\n",
       "      <th>duration_ceil</th>\n",
       "      <th>name</th>\n",
       "      <th>age</th>\n",
       "      <th>city</th>\n",
       "      <th>subscription_type</th>\n",
       "      <th>minute_price</th>\n",
       "      <th>start_ride_price</th>\n",
       "      <th>subscription_fee</th>\n",
       "    </tr>\n",
       "  </thead>\n",
       "  <tbody>\n",
       "    <tr>\n",
       "      <th>6500</th>\n",
       "      <td>700</td>\n",
       "      <td>2515.690719</td>\n",
       "      <td>14.944286</td>\n",
       "      <td>2021-01-02</td>\n",
       "      <td>1</td>\n",
       "      <td>15.0</td>\n",
       "      <td>Айдар</td>\n",
       "      <td>22</td>\n",
       "      <td>Омск</td>\n",
       "      <td>free</td>\n",
       "      <td>8</td>\n",
       "      <td>50</td>\n",
       "      <td>0</td>\n",
       "    </tr>\n",
       "    <tr>\n",
       "      <th>6501</th>\n",
       "      <td>700</td>\n",
       "      <td>846.932642</td>\n",
       "      <td>16.234663</td>\n",
       "      <td>2021-02-01</td>\n",
       "      <td>2</td>\n",
       "      <td>17.0</td>\n",
       "      <td>Айдар</td>\n",
       "      <td>22</td>\n",
       "      <td>Омск</td>\n",
       "      <td>free</td>\n",
       "      <td>8</td>\n",
       "      <td>50</td>\n",
       "      <td>0</td>\n",
       "    </tr>\n",
       "  </tbody>\n",
       "</table>\n",
       "</div>"
      ],
      "text/plain": [
       "      user_id     distance   duration       date  month  duration_ceil   name  \\\n",
       "6500      700  2515.690719  14.944286 2021-01-02      1           15.0  Айдар   \n",
       "6501      700   846.932642  16.234663 2021-02-01      2           17.0  Айдар   \n",
       "\n",
       "      age  city subscription_type  minute_price  start_ride_price  \\\n",
       "6500   22  Омск              free             8                50   \n",
       "6501   22  Омск              free             8                50   \n",
       "\n",
       "      subscription_fee  \n",
       "6500                 0  \n",
       "6501                 0  "
      ]
     },
     "metadata": {},
     "output_type": "display_data"
    },
    {
     "data": {
      "text/html": [
       "<div>\n",
       "<style scoped>\n",
       "    .dataframe tbody tr th:only-of-type {\n",
       "        vertical-align: middle;\n",
       "    }\n",
       "\n",
       "    .dataframe tbody tr th {\n",
       "        vertical-align: top;\n",
       "    }\n",
       "\n",
       "    .dataframe thead th {\n",
       "        text-align: right;\n",
       "    }\n",
       "</style>\n",
       "<table border=\"1\" class=\"dataframe\">\n",
       "  <thead>\n",
       "    <tr style=\"text-align: right;\">\n",
       "      <th></th>\n",
       "      <th>user_id</th>\n",
       "      <th>distance</th>\n",
       "      <th>duration</th>\n",
       "      <th>date</th>\n",
       "      <th>month</th>\n",
       "      <th>duration_ceil</th>\n",
       "      <th>name</th>\n",
       "      <th>age</th>\n",
       "      <th>city</th>\n",
       "      <th>subscription_type</th>\n",
       "      <th>minute_price</th>\n",
       "      <th>start_ride_price</th>\n",
       "      <th>subscription_fee</th>\n",
       "    </tr>\n",
       "  </thead>\n",
       "  <tbody>\n",
       "    <tr>\n",
       "      <th>0</th>\n",
       "      <td>1</td>\n",
       "      <td>4409.919140</td>\n",
       "      <td>25.599769</td>\n",
       "      <td>2021-01-01</td>\n",
       "      <td>1</td>\n",
       "      <td>26.0</td>\n",
       "      <td>Кира</td>\n",
       "      <td>22</td>\n",
       "      <td>Тюмень</td>\n",
       "      <td>ultra</td>\n",
       "      <td>6</td>\n",
       "      <td>0</td>\n",
       "      <td>199</td>\n",
       "    </tr>\n",
       "    <tr>\n",
       "      <th>1</th>\n",
       "      <td>1</td>\n",
       "      <td>2617.592153</td>\n",
       "      <td>15.816871</td>\n",
       "      <td>2021-01-18</td>\n",
       "      <td>1</td>\n",
       "      <td>16.0</td>\n",
       "      <td>Кира</td>\n",
       "      <td>22</td>\n",
       "      <td>Тюмень</td>\n",
       "      <td>ultra</td>\n",
       "      <td>6</td>\n",
       "      <td>0</td>\n",
       "      <td>199</td>\n",
       "    </tr>\n",
       "  </tbody>\n",
       "</table>\n",
       "</div>"
      ],
      "text/plain": [
       "   user_id     distance   duration       date  month  duration_ceil  name  \\\n",
       "0        1  4409.919140  25.599769 2021-01-01      1           26.0  Кира   \n",
       "1        1  2617.592153  15.816871 2021-01-18      1           16.0  Кира   \n",
       "\n",
       "   age    city subscription_type  minute_price  start_ride_price  \\\n",
       "0   22  Тюмень             ultra             6                 0   \n",
       "1   22  Тюмень             ultra             6                 0   \n",
       "\n",
       "   subscription_fee  \n",
       "0               199  \n",
       "1               199  "
      ]
     },
     "metadata": {},
     "output_type": "display_data"
    }
   ],
   "source": [
    "display (data.head())\n",
    "display(data_wo_subs.head(2))\n",
    "display(data_w_subs.head(2))"
   ]
  },
  {
   "cell_type": "markdown",
   "id": "933ede5a",
   "metadata": {},
   "source": [
    "#####  Визуализируйте информацию о расстоянии и времени поездок для пользователей обеих категорий."
   ]
  },
  {
   "cell_type": "code",
   "execution_count": 31,
   "id": "175ed4c7",
   "metadata": {},
   "outputs": [
    {
     "data": {
      "image/png": "[encoded data removed]",
      "text/plain": [
       "<Figure size 1080x432 with 2 Axes>"
      ]
     },
     "metadata": {
      "needs_background": "light"
     },
     "output_type": "display_data"
    }
   ],
   "source": [
    "#гистограммы расстояния и продолжительности поездок пользователей без подписки\n",
    "fig, ax = plt.subplots(1,2, figsize = (15,6))\n",
    "data_wo_subs.hist(column = 'distance', bins = 50, ax = ax[0])\n",
    "data_wo_subs.hist(column = 'duration', bins = 50, ax = ax[1])\n",
    "\n",
    "plt.show()"
   ]
  },
  {
   "cell_type": "code",
   "execution_count": 32,
   "id": "a6dea2fc",
   "metadata": {},
   "outputs": [
    {
     "data": {
      "image/png": "[encoded data removed]",
      "text/plain": [
       "<Figure size 1080x432 with 2 Axes>"
      ]
     },
     "metadata": {
      "needs_background": "light"
     },
     "output_type": "display_data"
    }
   ],
   "source": [
    "#гистограммы расстояния и продолжительности поездок пользователей с подпиской\n",
    "fig, ax = plt.subplots(1,2, figsize = (15,6))\n",
    "data_w_subs.hist(column = 'distance', bins = 50, ax = ax[0])\n",
    "data_w_subs.hist(column = 'duration', bins = 50, ax = ax[1])\n",
    "\n",
    "plt.show()"
   ]
  },
  {
   "cell_type": "code",
   "execution_count": 33,
   "id": "4e06adc3",
   "metadata": {},
   "outputs": [
    {
     "name": "stdout",
     "output_type": "stream",
     "text": [
      "Описательная статистика для поездок пользователей без подписки\n"
     ]
    },
    {
     "data": {
      "text/html": [
       "<div>\n",
       "<style scoped>\n",
       "    .dataframe tbody tr th:only-of-type {\n",
       "        vertical-align: middle;\n",
       "    }\n",
       "\n",
       "    .dataframe tbody tr th {\n",
       "        vertical-align: top;\n",
       "    }\n",
       "\n",
       "    .dataframe thead th {\n",
       "        text-align: right;\n",
       "    }\n",
       "</style>\n",
       "<table border=\"1\" class=\"dataframe\">\n",
       "  <thead>\n",
       "    <tr style=\"text-align: right;\">\n",
       "      <th></th>\n",
       "      <th>distance</th>\n",
       "      <th>duration</th>\n",
       "    </tr>\n",
       "  </thead>\n",
       "  <tbody>\n",
       "    <tr>\n",
       "      <th>count</th>\n",
       "      <td>11568.000000</td>\n",
       "      <td>11568.000000</td>\n",
       "    </tr>\n",
       "    <tr>\n",
       "      <th>mean</th>\n",
       "      <td>3045.495282</td>\n",
       "      <td>17.390909</td>\n",
       "    </tr>\n",
       "    <tr>\n",
       "      <th>std</th>\n",
       "      <td>1246.173806</td>\n",
       "      <td>6.326803</td>\n",
       "    </tr>\n",
       "    <tr>\n",
       "      <th>min</th>\n",
       "      <td>0.855683</td>\n",
       "      <td>0.500000</td>\n",
       "    </tr>\n",
       "    <tr>\n",
       "      <th>5%</th>\n",
       "      <td>524.185294</td>\n",
       "      <td>7.244460</td>\n",
       "    </tr>\n",
       "    <tr>\n",
       "      <th>25%</th>\n",
       "      <td>2366.562689</td>\n",
       "      <td>12.958437</td>\n",
       "    </tr>\n",
       "    <tr>\n",
       "      <th>50%</th>\n",
       "      <td>3114.648465</td>\n",
       "      <td>17.326890</td>\n",
       "    </tr>\n",
       "    <tr>\n",
       "      <th>75%</th>\n",
       "      <td>3905.697894</td>\n",
       "      <td>21.594071</td>\n",
       "    </tr>\n",
       "    <tr>\n",
       "      <th>95%</th>\n",
       "      <td>4934.728012</td>\n",
       "      <td>28.246500</td>\n",
       "    </tr>\n",
       "    <tr>\n",
       "      <th>max</th>\n",
       "      <td>7211.007745</td>\n",
       "      <td>34.948498</td>\n",
       "    </tr>\n",
       "  </tbody>\n",
       "</table>\n",
       "</div>"
      ],
      "text/plain": [
       "           distance      duration\n",
       "count  11568.000000  11568.000000\n",
       "mean    3045.495282     17.390909\n",
       "std     1246.173806      6.326803\n",
       "min        0.855683      0.500000\n",
       "5%       524.185294      7.244460\n",
       "25%     2366.562689     12.958437\n",
       "50%     3114.648465     17.326890\n",
       "75%     3905.697894     21.594071\n",
       "95%     4934.728012     28.246500\n",
       "max     7211.007745     34.948498"
      ]
     },
     "metadata": {},
     "output_type": "display_data"
    },
    {
     "name": "stdout",
     "output_type": "stream",
     "text": [
      "Описательная статистика для поездок пользователей с подписками\n"
     ]
    },
    {
     "data": {
      "text/html": [
       "<div>\n",
       "<style scoped>\n",
       "    .dataframe tbody tr th:only-of-type {\n",
       "        vertical-align: middle;\n",
       "    }\n",
       "\n",
       "    .dataframe tbody tr th {\n",
       "        vertical-align: top;\n",
       "    }\n",
       "\n",
       "    .dataframe thead th {\n",
       "        text-align: right;\n",
       "    }\n",
       "</style>\n",
       "<table border=\"1\" class=\"dataframe\">\n",
       "  <thead>\n",
       "    <tr style=\"text-align: right;\">\n",
       "      <th></th>\n",
       "      <th>distance</th>\n",
       "      <th>duration</th>\n",
       "    </tr>\n",
       "  </thead>\n",
       "  <tbody>\n",
       "    <tr>\n",
       "      <th>count</th>\n",
       "      <td>6500.000000</td>\n",
       "      <td>6500.000000</td>\n",
       "    </tr>\n",
       "    <tr>\n",
       "      <th>mean</th>\n",
       "      <td>3115.445388</td>\n",
       "      <td>18.541985</td>\n",
       "    </tr>\n",
       "    <tr>\n",
       "      <th>std</th>\n",
       "      <td>836.895330</td>\n",
       "      <td>5.572048</td>\n",
       "    </tr>\n",
       "    <tr>\n",
       "      <th>min</th>\n",
       "      <td>244.210438</td>\n",
       "      <td>3.760353</td>\n",
       "    </tr>\n",
       "    <tr>\n",
       "      <th>5%</th>\n",
       "      <td>1119.722350</td>\n",
       "      <td>10.264039</td>\n",
       "    </tr>\n",
       "    <tr>\n",
       "      <th>25%</th>\n",
       "      <td>2785.444017</td>\n",
       "      <td>14.524654</td>\n",
       "    </tr>\n",
       "    <tr>\n",
       "      <th>50%</th>\n",
       "      <td>3148.637229</td>\n",
       "      <td>18.178153</td>\n",
       "    </tr>\n",
       "    <tr>\n",
       "      <th>75%</th>\n",
       "      <td>3560.574425</td>\n",
       "      <td>21.884129</td>\n",
       "    </tr>\n",
       "    <tr>\n",
       "      <th>95%</th>\n",
       "      <td>4382.285625</td>\n",
       "      <td>28.720878</td>\n",
       "    </tr>\n",
       "    <tr>\n",
       "      <th>max</th>\n",
       "      <td>5699.769662</td>\n",
       "      <td>40.823963</td>\n",
       "    </tr>\n",
       "  </tbody>\n",
       "</table>\n",
       "</div>"
      ],
      "text/plain": [
       "          distance     duration\n",
       "count  6500.000000  6500.000000\n",
       "mean   3115.445388    18.541985\n",
       "std     836.895330     5.572048\n",
       "min     244.210438     3.760353\n",
       "5%     1119.722350    10.264039\n",
       "25%    2785.444017    14.524654\n",
       "50%    3148.637229    18.178153\n",
       "75%    3560.574425    21.884129\n",
       "95%    4382.285625    28.720878\n",
       "max    5699.769662    40.823963"
      ]
     },
     "metadata": {},
     "output_type": "display_data"
    }
   ],
   "source": [
    "print(\"Описательная статистика для поездок пользователей без подписки\")\n",
    "display(data_wo_subs[['distance', 'duration']].describe(percentiles = [.05, .25, .5, .75, .95]))\n",
    "print(\"Описательная статистика для поездок пользователей с подписками\")\n",
    "display(data_w_subs[['distance', 'duration']].describe(percentiles = [.05, .25, .5, .75, .95]))"
   ]
  },
  {
   "cell_type": "markdown",
   "id": "26871e62",
   "metadata": {},
   "source": [
    "- Всего поездок у пользователей без подписок почти в 2 раза больше, чем у пользователей с подписками (11.4 тыс протиы 6.5 тыс поездок, соответственно). При этом, как выяснили выше, всего пользоватлей без подписки незначительно больше, чем пользователей с подпиской, значит пользователь без подписки совершают поездки чаще.\n",
    "- Распределения дальности и продолжительности поездок для обеих категорий пользователей выглядят примерно одинаково\n",
    "- Распределение дальности поездок - бимодальное, с модами 600/1000 и примерно 3000 метров у пользователей без и с подпиской, соответсвтенно. Разброс значений для пользователей без подписки больше, стандартное отклонение - 1200 м, а для выборки с пользователями бещ подписки - 830 метров.\n",
    "- Распределения продолжительности поездок схожи для двух групп пользователей со средним временем поездки около 18 минут и стандартным отклонением около 6 минут."
   ]
  },
  {
   "cell_type": "markdown",
   "id": "402d620f",
   "metadata": {},
   "source": [
    "#### Шаг 5. Подсчёт выручки"
   ]
  },
  {
   "cell_type": "markdown",
   "id": "7b30ee21",
   "metadata": {},
   "source": [
    "##### Создаем датафрейм с агрегированными данными о поездках на основе датафрейма с объединёнными данными из шага 4: \n",
    "найдем суммарное расстояние, количество поездок и суммарное время для каждого пользователя за каждый месяц.\n"
   ]
  },
  {
   "cell_type": "code",
   "execution_count": 34,
   "id": "e22f0ab6",
   "metadata": {},
   "outputs": [
    {
     "data": {
      "text/html": [
       "<div>\n",
       "<style scoped>\n",
       "    .dataframe tbody tr th:only-of-type {\n",
       "        vertical-align: middle;\n",
       "    }\n",
       "\n",
       "    .dataframe tbody tr th {\n",
       "        vertical-align: top;\n",
       "    }\n",
       "\n",
       "    .dataframe thead th {\n",
       "        text-align: right;\n",
       "    }\n",
       "</style>\n",
       "<table border=\"1\" class=\"dataframe\">\n",
       "  <thead>\n",
       "    <tr style=\"text-align: right;\">\n",
       "      <th></th>\n",
       "      <th>user_id</th>\n",
       "      <th>month</th>\n",
       "      <th>distanse_cum</th>\n",
       "      <th>count</th>\n",
       "      <th>duration_cum</th>\n",
       "    </tr>\n",
       "  </thead>\n",
       "  <tbody>\n",
       "    <tr>\n",
       "      <th>0</th>\n",
       "      <td>1</td>\n",
       "      <td>1</td>\n",
       "      <td>7027.511294</td>\n",
       "      <td>2</td>\n",
       "      <td>42.0</td>\n",
       "    </tr>\n",
       "    <tr>\n",
       "      <th>1</th>\n",
       "      <td>1</td>\n",
       "      <td>4</td>\n",
       "      <td>754.159807</td>\n",
       "      <td>1</td>\n",
       "      <td>7.0</td>\n",
       "    </tr>\n",
       "    <tr>\n",
       "      <th>2</th>\n",
       "      <td>1</td>\n",
       "      <td>8</td>\n",
       "      <td>6723.470560</td>\n",
       "      <td>2</td>\n",
       "      <td>46.0</td>\n",
       "    </tr>\n",
       "    <tr>\n",
       "      <th>3</th>\n",
       "      <td>1</td>\n",
       "      <td>10</td>\n",
       "      <td>5809.911100</td>\n",
       "      <td>2</td>\n",
       "      <td>32.0</td>\n",
       "    </tr>\n",
       "    <tr>\n",
       "      <th>4</th>\n",
       "      <td>1</td>\n",
       "      <td>11</td>\n",
       "      <td>7003.499363</td>\n",
       "      <td>3</td>\n",
       "      <td>56.0</td>\n",
       "    </tr>\n",
       "  </tbody>\n",
       "</table>\n",
       "</div>"
      ],
      "text/plain": [
       "   user_id  month  distanse_cum  count  duration_cum\n",
       "0        1      1   7027.511294      2          42.0\n",
       "1        1      4    754.159807      1           7.0\n",
       "2        1      8   6723.470560      2          46.0\n",
       "3        1     10   5809.911100      2          32.0\n",
       "4        1     11   7003.499363      3          56.0"
      ]
     },
     "metadata": {},
     "output_type": "display_data"
    },
    {
     "data": {
      "text/html": [
       "<div>\n",
       "<style scoped>\n",
       "    .dataframe tbody tr th:only-of-type {\n",
       "        vertical-align: middle;\n",
       "    }\n",
       "\n",
       "    .dataframe tbody tr th {\n",
       "        vertical-align: top;\n",
       "    }\n",
       "\n",
       "    .dataframe thead th {\n",
       "        text-align: right;\n",
       "    }\n",
       "</style>\n",
       "<table border=\"1\" class=\"dataframe\">\n",
       "  <thead>\n",
       "    <tr style=\"text-align: right;\">\n",
       "      <th></th>\n",
       "      <th>user_id</th>\n",
       "      <th>month</th>\n",
       "      <th>distanse_cum</th>\n",
       "      <th>count</th>\n",
       "      <th>duration_cum</th>\n",
       "    </tr>\n",
       "  </thead>\n",
       "  <tbody>\n",
       "    <tr>\n",
       "      <th>0</th>\n",
       "      <td>700</td>\n",
       "      <td>1</td>\n",
       "      <td>2515.690719</td>\n",
       "      <td>1</td>\n",
       "      <td>15.0</td>\n",
       "    </tr>\n",
       "    <tr>\n",
       "      <th>1</th>\n",
       "      <td>700</td>\n",
       "      <td>2</td>\n",
       "      <td>13446.659764</td>\n",
       "      <td>5</td>\n",
       "      <td>89.0</td>\n",
       "    </tr>\n",
       "    <tr>\n",
       "      <th>2</th>\n",
       "      <td>700</td>\n",
       "      <td>3</td>\n",
       "      <td>3798.334905</td>\n",
       "      <td>1</td>\n",
       "      <td>19.0</td>\n",
       "    </tr>\n",
       "    <tr>\n",
       "      <th>3</th>\n",
       "      <td>700</td>\n",
       "      <td>4</td>\n",
       "      <td>2984.551206</td>\n",
       "      <td>1</td>\n",
       "      <td>16.0</td>\n",
       "    </tr>\n",
       "    <tr>\n",
       "      <th>4</th>\n",
       "      <td>700</td>\n",
       "      <td>6</td>\n",
       "      <td>5927.650988</td>\n",
       "      <td>2</td>\n",
       "      <td>29.0</td>\n",
       "    </tr>\n",
       "  </tbody>\n",
       "</table>\n",
       "</div>"
      ],
      "text/plain": [
       "   user_id  month  distanse_cum  count  duration_cum\n",
       "0      700      1   2515.690719      1          15.0\n",
       "1      700      2  13446.659764      5          89.0\n",
       "2      700      3   3798.334905      1          19.0\n",
       "3      700      4   2984.551206      1          16.0\n",
       "4      700      6   5927.650988      2          29.0"
      ]
     },
     "metadata": {},
     "output_type": "display_data"
    }
   ],
   "source": [
    "data_agg_w_subs = (\n",
    "    data_w_subs\n",
    "    .groupby(['user_id', 'month'])\n",
    "    .agg(distanse_cum = ('distance', 'sum'), count = ('distance', 'count'), duration_cum = ('duration_ceil', 'sum'))\n",
    "    .sort_values(by =['user_id', 'month'])\n",
    "    .reset_index()\n",
    ")\n",
    "\n",
    "display(data_agg_w_subs.head())\n",
    "\n",
    "\n",
    "data_agg_wo_subs = (\n",
    "    data_wo_subs\n",
    "    .groupby(['user_id', 'month'])\n",
    "    .agg(distanse_cum = ('distance', 'sum'), count = ('distance', 'count'), duration_cum = ('duration_ceil', 'sum'))\n",
    "    .sort_values(by =['user_id', 'month'])\n",
    "    .reset_index()\n",
    ")\n",
    "\n",
    "display(data_agg_wo_subs.head())"
   ]
  },
  {
   "cell_type": "code",
   "execution_count": 35,
   "id": "c90e8110",
   "metadata": {},
   "outputs": [
    {
     "data": {
      "text/plain": [
       "user_id         0\n",
       "month           0\n",
       "distanse_cum    0\n",
       "count           0\n",
       "duration_cum    0\n",
       "dtype: int64"
      ]
     },
     "metadata": {},
     "output_type": "display_data"
    },
    {
     "data": {
      "text/plain": [
       "user_id         0\n",
       "month           0\n",
       "distanse_cum    0\n",
       "count           0\n",
       "duration_cum    0\n",
       "dtype: int64"
      ]
     },
     "metadata": {},
     "output_type": "display_data"
    }
   ],
   "source": [
    "# проверка на пропуски в сводной таблице\n",
    "display(data_agg_w_subs.isna().sum())\n",
    "display(data_agg_wo_subs.isna().sum())"
   ]
  },
  {
   "cell_type": "markdown",
   "id": "e60c2f26",
   "metadata": {},
   "source": [
    "#####  В этот же датафрейм добавим столбец с помесячной выручкой, которую принёс каждый пользователь. \n",
    "\n",
    "***Помесячная выручка считается по формуле:***\n",
    "\n",
    "*стоимость старта поездки × количество поездок + стоимость одной минуты поездки × общая продолжительность всех поездок в минутах + стоимость подписки.*"
   ]
  },
  {
   "cell_type": "markdown",
   "id": "5e6d2fe5",
   "metadata": {},
   "source": [
    "***без подписки***\n",
    "- абонентская плата отсутствует;\n",
    "- стоимость одной минуты поездки — 8 рублей;\n",
    "- стоимость старта (начала поездки) — 50 рублей;\n",
    "\n",
    "***с подпиской Ultra***\n",
    "- абонентская плата — 199 рублей в месяц;\n",
    "- стоимость одной минуты поездки — 6 рублей;\n",
    "- стоимость старта — бесплатно."
   ]
  },
  {
   "cell_type": "code",
   "execution_count": 36,
   "id": "20d5783c",
   "metadata": {},
   "outputs": [
    {
     "data": {
      "text/html": [
       "<div>\n",
       "<style scoped>\n",
       "    .dataframe tbody tr th:only-of-type {\n",
       "        vertical-align: middle;\n",
       "    }\n",
       "\n",
       "    .dataframe tbody tr th {\n",
       "        vertical-align: top;\n",
       "    }\n",
       "\n",
       "    .dataframe thead th {\n",
       "        text-align: right;\n",
       "    }\n",
       "</style>\n",
       "<table border=\"1\" class=\"dataframe\">\n",
       "  <thead>\n",
       "    <tr style=\"text-align: right;\">\n",
       "      <th></th>\n",
       "      <th>user_id</th>\n",
       "      <th>month</th>\n",
       "      <th>distanse_cum</th>\n",
       "      <th>count</th>\n",
       "      <th>duration_cum</th>\n",
       "      <th>month_revenue</th>\n",
       "    </tr>\n",
       "  </thead>\n",
       "  <tbody>\n",
       "    <tr>\n",
       "      <th>0</th>\n",
       "      <td>1</td>\n",
       "      <td>1</td>\n",
       "      <td>7027.511294</td>\n",
       "      <td>2</td>\n",
       "      <td>42.0</td>\n",
       "      <td>451.0</td>\n",
       "    </tr>\n",
       "    <tr>\n",
       "      <th>1</th>\n",
       "      <td>1</td>\n",
       "      <td>4</td>\n",
       "      <td>754.159807</td>\n",
       "      <td>1</td>\n",
       "      <td>7.0</td>\n",
       "      <td>241.0</td>\n",
       "    </tr>\n",
       "    <tr>\n",
       "      <th>2</th>\n",
       "      <td>1</td>\n",
       "      <td>8</td>\n",
       "      <td>6723.470560</td>\n",
       "      <td>2</td>\n",
       "      <td>46.0</td>\n",
       "      <td>475.0</td>\n",
       "    </tr>\n",
       "    <tr>\n",
       "      <th>3</th>\n",
       "      <td>1</td>\n",
       "      <td>10</td>\n",
       "      <td>5809.911100</td>\n",
       "      <td>2</td>\n",
       "      <td>32.0</td>\n",
       "      <td>391.0</td>\n",
       "    </tr>\n",
       "    <tr>\n",
       "      <th>4</th>\n",
       "      <td>1</td>\n",
       "      <td>11</td>\n",
       "      <td>7003.499363</td>\n",
       "      <td>3</td>\n",
       "      <td>56.0</td>\n",
       "      <td>535.0</td>\n",
       "    </tr>\n",
       "  </tbody>\n",
       "</table>\n",
       "</div>"
      ],
      "text/plain": [
       "   user_id  month  distanse_cum  count  duration_cum  month_revenue\n",
       "0        1      1   7027.511294      2          42.0          451.0\n",
       "1        1      4    754.159807      1           7.0          241.0\n",
       "2        1      8   6723.470560      2          46.0          475.0\n",
       "3        1     10   5809.911100      2          32.0          391.0\n",
       "4        1     11   7003.499363      3          56.0          535.0"
      ]
     },
     "execution_count": 36,
     "metadata": {},
     "output_type": "execute_result"
    }
   ],
   "source": [
    "start_price = 0\n",
    "price_per_min = 6\n",
    "subs_price = 199\n",
    "\n",
    "data_agg_w_subs['month_revenue'] = start_price*data_agg_w_subs['count'] + \\\n",
    "                                    price_per_min*data_agg_w_subs['duration_cum'] +\\\n",
    "                                    subs_price\n",
    "data_agg_w_subs.head()"
   ]
  },
  {
   "cell_type": "code",
   "execution_count": 37,
   "id": "62a3d04e",
   "metadata": {},
   "outputs": [
    {
     "data": {
      "text/html": [
       "<div>\n",
       "<style scoped>\n",
       "    .dataframe tbody tr th:only-of-type {\n",
       "        vertical-align: middle;\n",
       "    }\n",
       "\n",
       "    .dataframe tbody tr th {\n",
       "        vertical-align: top;\n",
       "    }\n",
       "\n",
       "    .dataframe thead th {\n",
       "        text-align: right;\n",
       "    }\n",
       "</style>\n",
       "<table border=\"1\" class=\"dataframe\">\n",
       "  <thead>\n",
       "    <tr style=\"text-align: right;\">\n",
       "      <th></th>\n",
       "      <th>user_id</th>\n",
       "      <th>month</th>\n",
       "      <th>distanse_cum</th>\n",
       "      <th>count</th>\n",
       "      <th>duration_cum</th>\n",
       "      <th>month_revenue</th>\n",
       "    </tr>\n",
       "  </thead>\n",
       "  <tbody>\n",
       "    <tr>\n",
       "      <th>0</th>\n",
       "      <td>700</td>\n",
       "      <td>1</td>\n",
       "      <td>2515.690719</td>\n",
       "      <td>1</td>\n",
       "      <td>15.0</td>\n",
       "      <td>170.0</td>\n",
       "    </tr>\n",
       "    <tr>\n",
       "      <th>1</th>\n",
       "      <td>700</td>\n",
       "      <td>2</td>\n",
       "      <td>13446.659764</td>\n",
       "      <td>5</td>\n",
       "      <td>89.0</td>\n",
       "      <td>962.0</td>\n",
       "    </tr>\n",
       "    <tr>\n",
       "      <th>2</th>\n",
       "      <td>700</td>\n",
       "      <td>3</td>\n",
       "      <td>3798.334905</td>\n",
       "      <td>1</td>\n",
       "      <td>19.0</td>\n",
       "      <td>202.0</td>\n",
       "    </tr>\n",
       "    <tr>\n",
       "      <th>3</th>\n",
       "      <td>700</td>\n",
       "      <td>4</td>\n",
       "      <td>2984.551206</td>\n",
       "      <td>1</td>\n",
       "      <td>16.0</td>\n",
       "      <td>178.0</td>\n",
       "    </tr>\n",
       "    <tr>\n",
       "      <th>4</th>\n",
       "      <td>700</td>\n",
       "      <td>6</td>\n",
       "      <td>5927.650988</td>\n",
       "      <td>2</td>\n",
       "      <td>29.0</td>\n",
       "      <td>332.0</td>\n",
       "    </tr>\n",
       "  </tbody>\n",
       "</table>\n",
       "</div>"
      ],
      "text/plain": [
       "   user_id  month  distanse_cum  count  duration_cum  month_revenue\n",
       "0      700      1   2515.690719      1          15.0          170.0\n",
       "1      700      2  13446.659764      5          89.0          962.0\n",
       "2      700      3   3798.334905      1          19.0          202.0\n",
       "3      700      4   2984.551206      1          16.0          178.0\n",
       "4      700      6   5927.650988      2          29.0          332.0"
      ]
     },
     "execution_count": 37,
     "metadata": {},
     "output_type": "execute_result"
    }
   ],
   "source": [
    "start_price = 50\n",
    "price_per_min = 8\n",
    "subs_price = 0\n",
    "\n",
    "data_agg_wo_subs['month_revenue'] = start_price*data_agg_wo_subs['count'] + \\\n",
    "                                    price_per_min*np.ceil(data_agg_wo_subs['duration_cum']) +\\\n",
    "                                    subs_price\n",
    "data_agg_wo_subs.head()"
   ]
  },
  {
   "cell_type": "code",
   "execution_count": 38,
   "id": "75de54a6",
   "metadata": {},
   "outputs": [
    {
     "data": {
      "text/html": [
       "<div>\n",
       "<style scoped>\n",
       "    .dataframe tbody tr th:only-of-type {\n",
       "        vertical-align: middle;\n",
       "    }\n",
       "\n",
       "    .dataframe tbody tr th {\n",
       "        vertical-align: top;\n",
       "    }\n",
       "\n",
       "    .dataframe thead th {\n",
       "        text-align: right;\n",
       "    }\n",
       "</style>\n",
       "<table border=\"1\" class=\"dataframe\">\n",
       "  <thead>\n",
       "    <tr style=\"text-align: right;\">\n",
       "      <th></th>\n",
       "      <th>user_id</th>\n",
       "      <th>month</th>\n",
       "      <th>distanse_cum</th>\n",
       "      <th>count</th>\n",
       "      <th>duration_cum</th>\n",
       "      <th>month_revenue</th>\n",
       "    </tr>\n",
       "  </thead>\n",
       "  <tbody>\n",
       "    <tr>\n",
       "      <th>0</th>\n",
       "      <td>1</td>\n",
       "      <td>1</td>\n",
       "      <td>7027.511294</td>\n",
       "      <td>2</td>\n",
       "      <td>42.0</td>\n",
       "      <td>451.0</td>\n",
       "    </tr>\n",
       "    <tr>\n",
       "      <th>1</th>\n",
       "      <td>1</td>\n",
       "      <td>4</td>\n",
       "      <td>754.159807</td>\n",
       "      <td>1</td>\n",
       "      <td>7.0</td>\n",
       "      <td>241.0</td>\n",
       "    </tr>\n",
       "    <tr>\n",
       "      <th>2</th>\n",
       "      <td>1</td>\n",
       "      <td>8</td>\n",
       "      <td>6723.470560</td>\n",
       "      <td>2</td>\n",
       "      <td>46.0</td>\n",
       "      <td>475.0</td>\n",
       "    </tr>\n",
       "    <tr>\n",
       "      <th>3</th>\n",
       "      <td>1</td>\n",
       "      <td>10</td>\n",
       "      <td>5809.911100</td>\n",
       "      <td>2</td>\n",
       "      <td>32.0</td>\n",
       "      <td>391.0</td>\n",
       "    </tr>\n",
       "    <tr>\n",
       "      <th>4</th>\n",
       "      <td>1</td>\n",
       "      <td>11</td>\n",
       "      <td>7003.499363</td>\n",
       "      <td>3</td>\n",
       "      <td>56.0</td>\n",
       "      <td>535.0</td>\n",
       "    </tr>\n",
       "    <tr>\n",
       "      <th>...</th>\n",
       "      <td>...</td>\n",
       "      <td>...</td>\n",
       "      <td>...</td>\n",
       "      <td>...</td>\n",
       "      <td>...</td>\n",
       "      <td>...</td>\n",
       "    </tr>\n",
       "    <tr>\n",
       "      <th>4528</th>\n",
       "      <td>699</td>\n",
       "      <td>6</td>\n",
       "      <td>4072.797406</td>\n",
       "      <td>1</td>\n",
       "      <td>17.0</td>\n",
       "      <td>301.0</td>\n",
       "    </tr>\n",
       "    <tr>\n",
       "      <th>4529</th>\n",
       "      <td>699</td>\n",
       "      <td>8</td>\n",
       "      <td>7018.324143</td>\n",
       "      <td>2</td>\n",
       "      <td>45.0</td>\n",
       "      <td>469.0</td>\n",
       "    </tr>\n",
       "    <tr>\n",
       "      <th>4530</th>\n",
       "      <td>699</td>\n",
       "      <td>9</td>\n",
       "      <td>6364.861911</td>\n",
       "      <td>2</td>\n",
       "      <td>31.0</td>\n",
       "      <td>385.0</td>\n",
       "    </tr>\n",
       "    <tr>\n",
       "      <th>4531</th>\n",
       "      <td>699</td>\n",
       "      <td>10</td>\n",
       "      <td>4707.845501</td>\n",
       "      <td>1</td>\n",
       "      <td>16.0</td>\n",
       "      <td>295.0</td>\n",
       "    </tr>\n",
       "    <tr>\n",
       "      <th>4532</th>\n",
       "      <td>699</td>\n",
       "      <td>12</td>\n",
       "      <td>3202.890770</td>\n",
       "      <td>1</td>\n",
       "      <td>26.0</td>\n",
       "      <td>355.0</td>\n",
       "    </tr>\n",
       "  </tbody>\n",
       "</table>\n",
       "<p>4533 rows × 6 columns</p>\n",
       "</div>"
      ],
      "text/plain": [
       "      user_id  month  distanse_cum  count  duration_cum  month_revenue\n",
       "0           1      1   7027.511294      2          42.0          451.0\n",
       "1           1      4    754.159807      1           7.0          241.0\n",
       "2           1      8   6723.470560      2          46.0          475.0\n",
       "3           1     10   5809.911100      2          32.0          391.0\n",
       "4           1     11   7003.499363      3          56.0          535.0\n",
       "...       ...    ...           ...    ...           ...            ...\n",
       "4528      699      6   4072.797406      1          17.0          301.0\n",
       "4529      699      8   7018.324143      2          45.0          469.0\n",
       "4530      699      9   6364.861911      2          31.0          385.0\n",
       "4531      699     10   4707.845501      1          16.0          295.0\n",
       "4532      699     12   3202.890770      1          26.0          355.0\n",
       "\n",
       "[4533 rows x 6 columns]"
      ]
     },
     "execution_count": 38,
     "metadata": {},
     "output_type": "execute_result"
    }
   ],
   "source": [
    "data_agg_w_subs"
   ]
  },
  {
   "cell_type": "markdown",
   "id": "41545ac0",
   "metadata": {},
   "source": [
    "#### Шаг 6. Проверка гипотез"
   ]
  },
  {
   "cell_type": "markdown",
   "id": "b625b7f5",
   "metadata": {},
   "source": [
    "##### Важно понять, тратят ли пользователи с подпиской больше времени на поездки? \n",
    "Если да, то пользователи с подпиской могут быть «выгоднее» для компании. Проверим гипотезу. Используем исходные данные о продолжительности каждой сессии — отдельно для подписчиков и тех, у кого нет подписки.\n"
   ]
  },
  {
   "cell_type": "markdown",
   "id": "8c5c75ac",
   "metadata": {},
   "source": [
    "Для проверки гипотезы будем использовать правосторонний t-тест для незавсимых выборок с уровнем значимости 5%\n",
    "\n",
    "**H0 гипотеза**: средние значения продолжительности поездок у пользователей с подпиской и без равны\n",
    "\n",
    "**H1 гипотеза**: у пользователей с подпиской продолжительность поездок выше"
   ]
  },
  {
   "cell_type": "code",
   "execution_count": 39,
   "id": "dd323a84",
   "metadata": {},
   "outputs": [
    {
     "name": "stdout",
     "output_type": "stream",
     "text": [
      "Среднее время поездки у пользователей с подпиской 18.54198516280583\n",
      "Среднее время поездки у пользователей без подписки 17.39090929866399\n",
      "Отвергаем нулевую гипотезу (о равенстве средних)\n",
      "p-value: 1.2804098316645618e-34\n"
     ]
    }
   ],
   "source": [
    "# для проверки гипотезы используем правосторонний t-тест для незавсимых выборок с уровнем значимости 5%\n",
    "alpha = 0.05\n",
    "\n",
    "print('Среднее время поездки у пользователей с подпиской', data_w_subs['duration'].mean())\n",
    "print('Среднее время поездки у пользователей без подписки', data_wo_subs['duration'].mean())\n",
    "\n",
    "results = st.ttest_ind(data_w_subs['duration'], data_wo_subs['duration'], alternative = 'greater')\n",
    "\n",
    "if results.pvalue < alpha:\n",
    "    print('Отвергаем нулевую гипотезу (о равенстве средних)')\n",
    "else:\n",
    "    print('Не можем отвергнуть нулевую гипотезу')\n",
    "\n",
    "print('p-value:', results.pvalue)"
   ]
  },
  {
   "cell_type": "markdown",
   "id": "6abefca9",
   "metadata": {},
   "source": [
    "t-тест показал, что мы не можем отвергнуть нулевую гипотезу о равенстве двух средних для продолжительности поездок у пользователей с подписками и без, а значит ***не можем подтвердить предположение о том, что пользователи с подпиской в среднем тратят больше времени на поездки.***"
   ]
  },
  {
   "cell_type": "markdown",
   "id": "a0321737",
   "metadata": {},
   "source": [
    "#####  Можно ли сказать, что среднее расстояние, которое проезжают пользователи с подпиской за одну поездку, не превышает 3130 метров? \n",
    "*Расстояние одной поездки в 3130 метров — оптимальное с точки зрения износа самоката.*"
   ]
  },
  {
   "cell_type": "markdown",
   "id": "a8dbfafe",
   "metadata": {},
   "source": [
    "Для проверки гипотезы будем использовать одновыборочный правосторонний t-тест с уровнем значимости 5%\n",
    "\n",
    "**H0 гипотеза**: среднее значение дальности поездок у пользователей с подпиской равно 3130 метров\n",
    "\n",
    "**H1 гипотеза**: расстояние поездок у пользователей с подпиской превышает 3130 метров"
   ]
  },
  {
   "cell_type": "code",
   "execution_count": 40,
   "id": "97a64a5e",
   "metadata": {},
   "outputs": [
    {
     "name": "stdout",
     "output_type": "stream",
     "text": [
      "Среднее расстояние: 3115.4453880370247\n",
      "p-value: 0.9195368847849785\n",
      "Не можем отвергнуть нулевую гипотезу\n"
     ]
    }
   ],
   "source": [
    "# для проверки гипотезы используем одновыборочный правосторонний t-тест с уровнем значимости 5%\n",
    "value = 3130\n",
    "alpha = 0.05\n",
    "\n",
    "sample = data_w_subs['distance']\n",
    "\n",
    "print(\"Среднее расстояние:\", sample.mean())\n",
    "\n",
    "results = st.ttest_1samp(sample, value, alternative = 'greater')\n",
    "\n",
    "print(\"p-value:\", results.pvalue)\n",
    "\n",
    "if results.pvalue < alpha:\n",
    "    print('Отвергаем нулевую гипотезу (о равенстве истинного среднего значению 3130 метров)')\n",
    "else:\n",
    "    print('Не можем отвергнуть нулевую гипотезу')\n",
    "\n"
   ]
  },
  {
   "cell_type": "markdown",
   "id": "a1d4b1a9",
   "metadata": {},
   "source": [
    "Не можем отвергнуть нулевую гипотезу (о равенстве истинного среднего значению 3130 метров) "
   ]
  },
  {
   "cell_type": "markdown",
   "id": "e1915e6b",
   "metadata": {},
   "source": [
    "##### Проверим гипотезу о том, будет ли помесячная выручка от пользователей с подпиской по месяцам выше, чем выручка от пользователей без подписки. "
   ]
  },
  {
   "cell_type": "markdown",
   "id": "b86eb8b1",
   "metadata": {},
   "source": [
    "Для проверки гипотезы будем использовать правосторонний t-тест для двух завсимых выборок с уровнем значимости 5%\n",
    "\n",
    "**H0 гипотеза**: средние значения выручки за месяц от пользователей с подпиской и без равны\n",
    "\n",
    "**H1 гипотеза**:  помесячная выручка от пользователей с подпиской по месяцам выше, чем выручка от пользователей без подписки"
   ]
  },
  {
   "cell_type": "code",
   "execution_count": 41,
   "id": "75fa3e77",
   "metadata": {},
   "outputs": [
    {
     "name": "stdout",
     "output_type": "stream",
     "text": [
      "Средняя выручка за месяц от пользователей с подпиской 362.7921906022502\n",
      "Средняя выручка за месяц от пользователей без подписки 328.6413651073845\n",
      "p-value 1.8850394384715216e-31\n",
      "Отвергаем нулевую гипотезу (о равенстве истинного средних значений двух выборок)\n"
     ]
    }
   ],
   "source": [
    "# для проверки гипотезы используем правосторонний t-тест для двух завсимых выборок с уровнем значимости 5%\n",
    "alpha = .05\n",
    "\n",
    "print('Средняя выручка за месяц от пользователей с подпиской', data_agg_w_subs['month_revenue'].mean())\n",
    "print('Средняя выручка за месяц от пользователей без подписки', data_agg_wo_subs['month_revenue'].mean())\n",
    "\n",
    "results = st.ttest_ind(data_agg_w_subs['month_revenue'], data_agg_wo_subs['month_revenue'], alternative = 'greater')\n",
    "\n",
    "print('p-value', results.pvalue)\n",
    "\n",
    "if results.pvalue < alpha:\n",
    "    print('Отвергаем нулевую гипотезу (о равенстве истинного средних значений двух выборок)')\n",
    "else:\n",
    "    print('Не можем отвергнуть нулевую гипотезу')\n"
   ]
  },
  {
   "cell_type": "markdown",
   "id": "8951b5fe",
   "metadata": {},
   "source": [
    "Отвергаем нулевую гипотезу (о равенстве истинного средних значений двух выборок) в пользу альтернативной гипотезы: помесячная выручка от пользователей с подпиской по месяцам выше, чем выручка от пользователей без подписки. "
   ]
  },
  {
   "cell_type": "code",
   "execution_count": 42,
   "id": "3d04c1ce",
   "metadata": {},
   "outputs": [
    {
     "data": {
      "image/png": "[encoded data removed]",
      "text/plain": [
       "<Figure size 864x432 with 1 Axes>"
      ]
     },
     "metadata": {
      "needs_background": "light"
     },
     "output_type": "display_data"
    }
   ],
   "source": [
    "ax = data_agg_w_subs['month_revenue'].plot(kind = 'hist', bins = 20, grid = True, figsize = (12,6), alpha = .3)\n",
    "data_agg_wo_subs['month_revenue'].plot(kind = 'hist', bins = 20, grid = True, ax= ax,  alpha = .3, title = \"выручка от пользователей без и c подпиской\");\n"
   ]
  },
  {
   "cell_type": "markdown",
   "id": "d77cb701",
   "metadata": {},
   "source": [
    "*На гистограмме с помесячной выручкой от пользователей обеих групп также видно, что пользователи с подпиской (на гистограмме голубым) приносят компании гораздо в среднем больше дохода, чем пользователи без подписки (на графике - оранжевым).*"
   ]
  },
  {
   "cell_type": "code",
   "execution_count": 45,
   "id": "99061a22",
   "metadata": {},
   "outputs": [
    {
     "data": {
      "image/png": "[encoded data removed]",
      "text/plain": [
       "<Figure size 864x432 with 1 Axes>"
      ]
     },
     "metadata": {
      "needs_background": "light"
     },
     "output_type": "display_data"
    }
   ],
   "source": [
    "import matplotlib.pyplot as plt\n",
    "\n",
    "# Построение гистограммы для выручки\n",
    "ax = data_agg_w_subs['month_revenue'].plot(kind='hist', bins=20, grid=True, figsize=(12, 6), alpha=0.3)\n",
    "data_agg_wo_subs['month_revenue'].plot(kind='hist', bins=20, grid=True, ax=ax, alpha=0.3)\n",
    "\n",
    "# Добавление легенды\n",
    "ax.legend(['С подпиской', 'Без подписки'])\n",
    "\n",
    "# Добавление заголовка\n",
    "plt.title('Выручка от пользователей без и с подпиской')\n",
    "\n",
    "plt.show()\n"
   ]
  },
  {
   "cell_type": "markdown",
   "id": "d463ef10",
   "metadata": {},
   "source": [
    "##### Представим такую ситуацию: \n",
    "*техническая команда сервиса обновила сервера, с которыми взаимодействует мобильное приложение. Она надеется, что из-за этого количество обращений в техподдержку значимо снизилось. Некоторый файл содержит для каждого пользователя данные о количестве обращений до обновления и после него. Какой тест вам понадобился бы для проверки этой гипотезы?*"
   ]
  },
  {
   "cell_type": "markdown",
   "id": "ab67a526",
   "metadata": {},
   "source": [
    "Для проверки этой гипотезы понадобился бы двухвыборочный t-тест для зависимых выборок  проверяет одностороннюю гипотезу о том, что до изменения (первая выборка) среднее значение переменной в генеральной совокупности было больше, чем после изменения (вторая выборка) - **st.ttest_rel(sample1, sample2, alternative = 'greater')**"
   ]
  },
  {
   "cell_type": "markdown",
   "id": "951f4198",
   "metadata": {},
   "source": [
    "#### Общие выводы"
   ]
  },
  {
   "cell_type": "markdown",
   "id": "9118f78d",
   "metadata": {},
   "source": [
    "В рамках исследования данных сервиса аренды самокатов изучили данные о пользователях и совершенных этими пользователями поездках. Данные были очищены от дубликатов (удалена 31 запись из датасета с данными пользователей) и выбросов (95 записей в данных с поездками с неправдоподобно маленькой продолжительностью поездок). По объединенным и агрегированным данным были проверены несколько статистических гипотез, которые могут помочь бизнесу, и сделаны следующие выводы: \n",
    "\n",
    "- ***тратят ли пользователи с подпиской больше времени на поездки*** - не смогли подтвердить данное предположение на данных\n",
    "\n",
    "*Поскольку стоимость поездки напрямую зависит от продолжительности поездки, будет экономически выгодно мотивировать пользователей пользоваться самокатами дольше - совершать более длительные поездки*\n",
    "\n",
    "- ***расстояние, которое проезжают пользователи с подпиской за одну поездку, не превышает 3130 метров*** - подтвердили предположение на данных\n",
    "\n",
    "*3130 метров - оптмальное расстояние с т.з. износа самоката, необходимо следить, чтобы и в будущем это условие выполнялось*\n",
    "- ***помесячная выручка от пользователей с подпиской по месяцам выше, чем выручка от пользователей без подписки*** - предположение подтверждается на данных\n",
    "\n",
    "*Значит, необходимо мотивировать пользователей покупать подписку*"
   ]
  }
 ],
 "metadata": {
  "ExecuteTimeLog": [
   {
    "duration": 50,
    "start_time": "2024-01-19T22:14:51.586Z"
   },
   {
    "duration": 367,
    "start_time": "2024-01-19T22:14:54.417Z"
   },
   {
    "duration": 86,
    "start_time": "2024-01-19T22:14:55.699Z"
   },
   {
    "duration": 114,
    "start_time": "2024-01-19T22:15:20.920Z"
   },
   {
    "duration": 13,
    "start_time": "2024-01-19T22:15:25.003Z"
   },
   {
    "duration": 88,
    "start_time": "2024-01-19T22:16:45.382Z"
   },
   {
    "duration": 100,
    "start_time": "2024-01-19T22:17:41.579Z"
   },
   {
    "duration": 119,
    "start_time": "2024-01-19T22:18:46.263Z"
   },
   {
    "duration": 33,
    "start_time": "2024-01-19T22:19:22.176Z"
   },
   {
    "duration": 38,
    "start_time": "2024-01-19T22:21:05.269Z"
   },
   {
    "duration": 2,
    "start_time": "2024-01-19T22:21:13.165Z"
   },
   {
    "duration": 43,
    "start_time": "2024-01-19T22:21:13.169Z"
   },
   {
    "duration": 42,
    "start_time": "2024-01-19T22:21:13.214Z"
   },
   {
    "duration": 38,
    "start_time": "2024-01-19T22:21:15.311Z"
   },
   {
    "duration": 18,
    "start_time": "2024-01-19T22:23:10.330Z"
   },
   {
    "duration": 62,
    "start_time": "2024-01-19T22:23:14.783Z"
   },
   {
    "duration": 22,
    "start_time": "2024-01-19T22:23:21.869Z"
   },
   {
    "duration": 10,
    "start_time": "2024-01-19T22:24:40.206Z"
   },
   {
    "duration": 10,
    "start_time": "2024-01-19T22:25:23.110Z"
   },
   {
    "duration": 9,
    "start_time": "2024-01-19T22:25:35.261Z"
   },
   {
    "duration": 10,
    "start_time": "2024-01-19T22:25:46.966Z"
   },
   {
    "duration": 10,
    "start_time": "2024-01-19T22:25:58.952Z"
   },
   {
    "duration": 9,
    "start_time": "2024-01-19T22:26:32.692Z"
   },
   {
    "duration": 10,
    "start_time": "2024-01-19T22:27:49.438Z"
   },
   {
    "duration": 11,
    "start_time": "2024-01-19T22:27:56.872Z"
   },
   {
    "duration": 16,
    "start_time": "2024-01-19T22:28:11.706Z"
   },
   {
    "duration": 19,
    "start_time": "2024-01-19T22:28:27.165Z"
   },
   {
    "duration": 15,
    "start_time": "2024-01-19T22:28:31.031Z"
   },
   {
    "duration": 14,
    "start_time": "2024-01-19T22:28:39.798Z"
   },
   {
    "duration": 26,
    "start_time": "2024-01-19T22:29:02.144Z"
   },
   {
    "duration": 45,
    "start_time": "2024-01-19T22:29:46.144Z"
   },
   {
    "duration": 10,
    "start_time": "2024-01-19T22:30:05.272Z"
   },
   {
    "duration": 4,
    "start_time": "2024-01-19T22:31:05.920Z"
   },
   {
    "duration": 4,
    "start_time": "2024-01-19T22:31:10.205Z"
   },
   {
    "duration": 13,
    "start_time": "2024-01-19T22:31:12.887Z"
   },
   {
    "duration": 4,
    "start_time": "2024-01-19T22:31:15.981Z"
   },
   {
    "duration": 10,
    "start_time": "2024-01-19T22:31:33.338Z"
   },
   {
    "duration": 15,
    "start_time": "2024-01-19T22:31:46.921Z"
   },
   {
    "duration": 6,
    "start_time": "2024-01-19T22:31:53.746Z"
   },
   {
    "duration": 16,
    "start_time": "2024-01-19T22:32:17.132Z"
   },
   {
    "duration": 9,
    "start_time": "2024-01-19T22:32:19.202Z"
   },
   {
    "duration": 4,
    "start_time": "2024-01-19T22:35:30.793Z"
   },
   {
    "duration": 10,
    "start_time": "2024-01-19T22:36:07.987Z"
   },
   {
    "duration": 16,
    "start_time": "2024-01-19T22:36:17.182Z"
   },
   {
    "duration": 7,
    "start_time": "2024-01-19T22:36:21.150Z"
   },
   {
    "duration": 19,
    "start_time": "2024-01-19T22:38:28.665Z"
   },
   {
    "duration": 9,
    "start_time": "2024-01-19T22:38:44.265Z"
   },
   {
    "duration": 32,
    "start_time": "2024-01-19T22:39:39.378Z"
   },
   {
    "duration": 6,
    "start_time": "2024-01-19T22:40:36.999Z"
   },
   {
    "duration": 11,
    "start_time": "2024-01-19T22:41:32.252Z"
   },
   {
    "duration": 22,
    "start_time": "2024-01-19T22:46:15.204Z"
   },
   {
    "duration": 74,
    "start_time": "2024-01-19T22:47:03.234Z"
   },
   {
    "duration": 13,
    "start_time": "2024-01-19T22:47:08.392Z"
   },
   {
    "duration": 18,
    "start_time": "2024-01-19T22:47:51.897Z"
   },
   {
    "duration": 26,
    "start_time": "2024-01-19T23:00:23.385Z"
   },
   {
    "duration": 23,
    "start_time": "2024-01-19T23:00:37.392Z"
   },
   {
    "duration": 26,
    "start_time": "2024-01-19T23:00:58.718Z"
   },
   {
    "duration": 25,
    "start_time": "2024-01-19T23:02:27.396Z"
   },
   {
    "duration": 9,
    "start_time": "2024-01-19T23:02:50.194Z"
   },
   {
    "duration": 42,
    "start_time": "2024-01-19T23:03:32.906Z"
   },
   {
    "duration": 9,
    "start_time": "2024-01-19T23:05:44.667Z"
   },
   {
    "duration": 2,
    "start_time": "2024-01-19T23:05:51.200Z"
   },
   {
    "duration": 4,
    "start_time": "2024-01-19T23:05:56.238Z"
   },
   {
    "duration": 11,
    "start_time": "2024-01-19T23:06:29.028Z"
   },
   {
    "duration": 12,
    "start_time": "2024-01-19T23:08:24.848Z"
   },
   {
    "duration": 51,
    "start_time": "2024-01-20T21:08:12.602Z"
   },
   {
    "duration": 400,
    "start_time": "2024-01-20T21:08:19.753Z"
   },
   {
    "duration": 97,
    "start_time": "2024-01-20T21:08:20.155Z"
   },
   {
    "duration": 92,
    "start_time": "2024-01-20T21:08:20.253Z"
   },
   {
    "duration": 63,
    "start_time": "2024-01-20T21:08:20.347Z"
   },
   {
    "duration": 15,
    "start_time": "2024-01-20T21:08:20.412Z"
   },
   {
    "duration": 14,
    "start_time": "2024-01-20T21:08:20.428Z"
   },
   {
    "duration": 16,
    "start_time": "2024-01-20T21:08:20.443Z"
   },
   {
    "duration": 12,
    "start_time": "2024-01-20T21:08:20.460Z"
   },
   {
    "duration": 8,
    "start_time": "2024-01-20T21:08:20.473Z"
   },
   {
    "duration": 6,
    "start_time": "2024-01-20T21:08:22.421Z"
   },
   {
    "duration": 26772,
    "start_time": "2024-01-20T21:08:51.565Z"
   },
   {
    "duration": 198,
    "start_time": "2024-01-20T21:09:53.188Z"
   },
   {
    "duration": 6,
    "start_time": "2024-01-20T21:11:17.227Z"
   },
   {
    "duration": 135,
    "start_time": "2024-01-20T21:12:21.072Z"
   },
   {
    "duration": 163,
    "start_time": "2024-01-20T21:12:39.521Z"
   },
   {
    "duration": 111,
    "start_time": "2024-01-20T21:13:06.589Z"
   },
   {
    "duration": 258,
    "start_time": "2024-01-20T21:13:34.245Z"
   },
   {
    "duration": 319,
    "start_time": "2024-01-20T21:14:56.850Z"
   },
   {
    "duration": 84,
    "start_time": "2024-01-20T21:15:02.187Z"
   },
   {
    "duration": 411,
    "start_time": "2024-01-20T21:21:45.960Z"
   },
   {
    "duration": 43,
    "start_time": "2024-01-20T21:21:46.373Z"
   },
   {
    "duration": 54,
    "start_time": "2024-01-20T21:21:46.418Z"
   },
   {
    "duration": 29,
    "start_time": "2024-01-20T21:21:46.474Z"
   },
   {
    "duration": 20,
    "start_time": "2024-01-20T21:21:46.504Z"
   },
   {
    "duration": 15,
    "start_time": "2024-01-20T21:21:46.525Z"
   },
   {
    "duration": 13,
    "start_time": "2024-01-20T21:21:46.541Z"
   },
   {
    "duration": 24,
    "start_time": "2024-01-20T21:21:46.555Z"
   },
   {
    "duration": 14,
    "start_time": "2024-01-20T21:21:46.581Z"
   },
   {
    "duration": 186,
    "start_time": "2024-01-20T21:21:46.598Z"
   },
   {
    "duration": 275,
    "start_time": "2024-01-20T21:21:46.786Z"
   },
   {
    "duration": 93,
    "start_time": "2024-01-20T21:21:47.062Z"
   },
   {
    "duration": 6,
    "start_time": "2024-01-20T21:21:47.157Z"
   },
   {
    "duration": 28,
    "start_time": "2024-01-20T21:21:47.164Z"
   },
   {
    "duration": 33,
    "start_time": "2024-01-20T21:21:47.193Z"
   },
   {
    "duration": 45,
    "start_time": "2024-01-20T21:21:47.228Z"
   },
   {
    "duration": 11,
    "start_time": "2024-01-20T21:21:47.275Z"
   },
   {
    "duration": 36,
    "start_time": "2024-01-20T21:21:47.288Z"
   },
   {
    "duration": 77,
    "start_time": "2024-01-20T21:21:52.707Z"
   },
   {
    "duration": 9,
    "start_time": "2024-01-20T21:22:01.525Z"
   },
   {
    "duration": 8,
    "start_time": "2024-01-20T21:22:15.549Z"
   },
   {
    "duration": 11,
    "start_time": "2024-01-20T21:22:25.987Z"
   },
   {
    "duration": 9,
    "start_time": "2024-01-20T21:22:35.670Z"
   },
   {
    "duration": 10,
    "start_time": "2024-01-20T21:23:12.317Z"
   },
   {
    "duration": 7,
    "start_time": "2024-01-20T21:23:18.780Z"
   },
   {
    "duration": 81,
    "start_time": "2024-01-20T21:24:27.223Z"
   },
   {
    "duration": 12,
    "start_time": "2024-01-20T21:24:33.522Z"
   },
   {
    "duration": 8,
    "start_time": "2024-01-20T21:24:52.658Z"
   },
   {
    "duration": 9,
    "start_time": "2024-01-20T21:25:14.776Z"
   },
   {
    "duration": 11,
    "start_time": "2024-01-20T21:27:09.626Z"
   },
   {
    "duration": 141,
    "start_time": "2024-01-20T21:27:40.496Z"
   },
   {
    "duration": 8,
    "start_time": "2024-01-20T21:28:03.990Z"
   },
   {
    "duration": 9,
    "start_time": "2024-01-20T21:28:19.360Z"
   },
   {
    "duration": 1108,
    "start_time": "2024-01-20T21:30:18.922Z"
   },
   {
    "duration": 1300,
    "start_time": "2024-01-20T21:30:37.504Z"
   },
   {
    "duration": 7,
    "start_time": "2024-01-20T21:31:28.243Z"
   },
   {
    "duration": 5,
    "start_time": "2024-01-20T21:31:37.069Z"
   },
   {
    "duration": 5,
    "start_time": "2024-01-20T21:32:20.364Z"
   },
   {
    "duration": 7,
    "start_time": "2024-01-20T21:33:53.208Z"
   },
   {
    "duration": 12,
    "start_time": "2024-01-20T21:39:27.453Z"
   },
   {
    "duration": 6,
    "start_time": "2024-01-20T21:39:33.547Z"
   },
   {
    "duration": 6,
    "start_time": "2024-01-20T21:39:47.658Z"
   },
   {
    "duration": 6,
    "start_time": "2024-01-20T21:39:51.985Z"
   },
   {
    "duration": 3,
    "start_time": "2024-01-20T21:40:30.874Z"
   },
   {
    "duration": 131,
    "start_time": "2024-01-20T21:40:30.880Z"
   },
   {
    "duration": 50,
    "start_time": "2024-01-20T21:40:31.013Z"
   },
   {
    "duration": 30,
    "start_time": "2024-01-20T21:40:31.065Z"
   },
   {
    "duration": 20,
    "start_time": "2024-01-20T21:40:31.096Z"
   },
   {
    "duration": 20,
    "start_time": "2024-01-20T21:40:31.123Z"
   },
   {
    "duration": 26,
    "start_time": "2024-01-20T21:40:31.145Z"
   },
   {
    "duration": 26,
    "start_time": "2024-01-20T21:40:31.172Z"
   },
   {
    "duration": 14,
    "start_time": "2024-01-20T21:40:31.200Z"
   },
   {
    "duration": 161,
    "start_time": "2024-01-20T21:40:31.216Z"
   },
   {
    "duration": 288,
    "start_time": "2024-01-20T21:40:31.379Z"
   },
   {
    "duration": 92,
    "start_time": "2024-01-20T21:40:31.669Z"
   },
   {
    "duration": 6,
    "start_time": "2024-01-20T21:40:31.763Z"
   },
   {
    "duration": 53,
    "start_time": "2024-01-20T21:40:31.771Z"
   },
   {
    "duration": 11,
    "start_time": "2024-01-20T21:40:31.826Z"
   },
   {
    "duration": 60,
    "start_time": "2024-01-20T21:40:31.838Z"
   },
   {
    "duration": 15,
    "start_time": "2024-01-20T21:40:31.900Z"
   },
   {
    "duration": 22,
    "start_time": "2024-01-20T21:40:31.917Z"
   },
   {
    "duration": 25,
    "start_time": "2024-01-20T21:40:31.941Z"
   },
   {
    "duration": 30,
    "start_time": "2024-01-20T21:40:31.967Z"
   },
   {
    "duration": 7,
    "start_time": "2024-01-20T21:40:33.490Z"
   },
   {
    "duration": 250,
    "start_time": "2024-01-20T21:43:21.813Z"
   },
   {
    "duration": 151,
    "start_time": "2024-01-20T21:44:27.858Z"
   },
   {
    "duration": 157,
    "start_time": "2024-01-20T21:44:45.299Z"
   },
   {
    "duration": 157,
    "start_time": "2024-01-20T21:44:53.997Z"
   },
   {
    "duration": 163,
    "start_time": "2024-01-20T21:44:58.496Z"
   },
   {
    "duration": 163,
    "start_time": "2024-01-20T21:45:08.735Z"
   },
   {
    "duration": 6,
    "start_time": "2024-01-20T21:45:34.590Z"
   },
   {
    "duration": 153,
    "start_time": "2024-01-20T21:46:13.892Z"
   },
   {
    "duration": 160,
    "start_time": "2024-01-20T21:46:21.747Z"
   },
   {
    "duration": 152,
    "start_time": "2024-01-20T21:46:37.331Z"
   },
   {
    "duration": 1246,
    "start_time": "2024-01-21T12:39:51.752Z"
   },
   {
    "duration": 1141,
    "start_time": "2024-01-21T12:40:15.561Z"
   },
   {
    "duration": 111,
    "start_time": "2024-01-21T12:40:16.703Z"
   },
   {
    "duration": 94,
    "start_time": "2024-01-21T12:40:16.816Z"
   },
   {
    "duration": 71,
    "start_time": "2024-01-21T12:40:16.911Z"
   },
   {
    "duration": 16,
    "start_time": "2024-01-21T12:40:16.985Z"
   },
   {
    "duration": 11,
    "start_time": "2024-01-21T12:40:17.002Z"
   },
   {
    "duration": 18,
    "start_time": "2024-01-21T12:40:17.015Z"
   },
   {
    "duration": 11,
    "start_time": "2024-01-21T12:40:17.035Z"
   },
   {
    "duration": 25,
    "start_time": "2024-01-21T12:40:17.047Z"
   },
   {
    "duration": 166,
    "start_time": "2024-01-21T12:40:17.075Z"
   },
   {
    "duration": 286,
    "start_time": "2024-01-21T12:40:17.242Z"
   },
   {
    "duration": 96,
    "start_time": "2024-01-21T12:40:17.529Z"
   },
   {
    "duration": 6,
    "start_time": "2024-01-21T12:40:17.627Z"
   },
   {
    "duration": 36,
    "start_time": "2024-01-21T12:40:17.634Z"
   },
   {
    "duration": 12,
    "start_time": "2024-01-21T12:40:17.671Z"
   },
   {
    "duration": 164,
    "start_time": "2024-01-21T12:40:17.685Z"
   },
   {
    "duration": 157,
    "start_time": "2024-01-21T12:40:17.850Z"
   },
   {
    "duration": 40,
    "start_time": "2024-01-21T12:40:18.008Z"
   },
   {
    "duration": 41,
    "start_time": "2024-01-21T12:40:18.049Z"
   },
   {
    "duration": 12,
    "start_time": "2024-01-21T12:40:18.092Z"
   },
   {
    "duration": 10,
    "start_time": "2024-01-21T12:40:18.105Z"
   },
   {
    "duration": 5,
    "start_time": "2024-01-21T12:40:18.116Z"
   },
   {
    "duration": 5,
    "start_time": "2024-01-21T12:40:18.122Z"
   },
   {
    "duration": 183,
    "start_time": "2024-01-21T12:40:18.129Z"
   },
   {
    "duration": 189,
    "start_time": "2024-01-21T12:40:18.314Z"
   },
   {
    "duration": 8,
    "start_time": "2024-01-21T12:48:19.191Z"
   },
   {
    "duration": 7,
    "start_time": "2024-01-21T12:49:37.144Z"
   },
   {
    "duration": 272,
    "start_time": "2024-01-21T12:53:02.318Z"
   },
   {
    "duration": 143,
    "start_time": "2024-01-21T12:58:30.217Z"
   },
   {
    "duration": 207,
    "start_time": "2024-01-21T12:58:41.290Z"
   },
   {
    "duration": 157,
    "start_time": "2024-01-21T13:00:09.735Z"
   },
   {
    "duration": 162,
    "start_time": "2024-01-21T13:04:42.664Z"
   },
   {
    "duration": 149,
    "start_time": "2024-01-21T13:04:53.595Z"
   },
   {
    "duration": 130,
    "start_time": "2024-01-21T13:04:57.175Z"
   },
   {
    "duration": 72,
    "start_time": "2024-01-21T13:05:01.878Z"
   },
   {
    "duration": 123,
    "start_time": "2024-01-21T13:05:44.371Z"
   },
   {
    "duration": 5,
    "start_time": "2024-01-21T13:06:44.681Z"
   },
   {
    "duration": 272,
    "start_time": "2024-01-21T13:07:32.510Z"
   },
   {
    "duration": 260,
    "start_time": "2024-01-21T13:08:40.458Z"
   },
   {
    "duration": 300,
    "start_time": "2024-01-21T13:08:51.572Z"
   },
   {
    "duration": 342,
    "start_time": "2024-01-21T13:08:56.181Z"
   },
   {
    "duration": 132,
    "start_time": "2024-01-21T13:09:29.421Z"
   },
   {
    "duration": 160,
    "start_time": "2024-01-21T13:09:42.578Z"
   },
   {
    "duration": 6,
    "start_time": "2024-01-21T13:10:06.919Z"
   },
   {
    "duration": 7,
    "start_time": "2024-01-21T13:10:19.781Z"
   },
   {
    "duration": 6,
    "start_time": "2024-01-21T13:10:50.017Z"
   },
   {
    "duration": 293,
    "start_time": "2024-01-21T13:11:07.217Z"
   },
   {
    "duration": 5,
    "start_time": "2024-01-21T13:12:06.355Z"
   },
   {
    "duration": 8,
    "start_time": "2024-01-21T13:12:17.250Z"
   },
   {
    "duration": 7,
    "start_time": "2024-01-21T13:12:40.857Z"
   },
   {
    "duration": 12,
    "start_time": "2024-01-21T13:13:25.535Z"
   },
   {
    "duration": 7,
    "start_time": "2024-01-21T13:13:31.313Z"
   },
   {
    "duration": 8,
    "start_time": "2024-01-21T13:14:18.084Z"
   },
   {
    "duration": 10,
    "start_time": "2024-01-21T13:15:50.578Z"
   },
   {
    "duration": 9,
    "start_time": "2024-01-21T13:15:57.839Z"
   },
   {
    "duration": 8,
    "start_time": "2024-01-21T13:16:03.323Z"
   },
   {
    "duration": 5,
    "start_time": "2024-01-21T13:16:12.975Z"
   },
   {
    "duration": 73,
    "start_time": "2024-01-21T13:18:56.436Z"
   },
   {
    "duration": 138,
    "start_time": "2024-01-21T13:21:01.579Z"
   },
   {
    "duration": 131,
    "start_time": "2024-01-21T13:22:29.099Z"
   },
   {
    "duration": 143,
    "start_time": "2024-01-21T13:22:48.685Z"
   },
   {
    "duration": 174,
    "start_time": "2024-01-21T13:23:00.962Z"
   },
   {
    "duration": 199,
    "start_time": "2024-01-21T13:23:06.706Z"
   },
   {
    "duration": 275,
    "start_time": "2024-01-21T13:23:26.785Z"
   },
   {
    "duration": 169,
    "start_time": "2024-01-21T13:23:32.637Z"
   },
   {
    "duration": 190,
    "start_time": "2024-01-21T13:23:36.056Z"
   },
   {
    "duration": 8,
    "start_time": "2024-01-21T13:23:58.961Z"
   },
   {
    "duration": 8,
    "start_time": "2024-01-21T13:24:09.415Z"
   },
   {
    "duration": 6,
    "start_time": "2024-01-21T13:24:13.737Z"
   },
   {
    "duration": 5,
    "start_time": "2024-01-21T13:24:20.150Z"
   },
   {
    "duration": 5,
    "start_time": "2024-01-21T13:25:12.736Z"
   },
   {
    "duration": 8,
    "start_time": "2024-01-21T13:25:16.108Z"
   },
   {
    "duration": 20,
    "start_time": "2024-01-21T13:25:39.571Z"
   },
   {
    "duration": 681,
    "start_time": "2024-01-21T13:25:53.406Z"
   },
   {
    "duration": 7,
    "start_time": "2024-01-21T13:26:00.778Z"
   },
   {
    "duration": 11,
    "start_time": "2024-01-21T13:26:09.515Z"
   },
   {
    "duration": 6,
    "start_time": "2024-01-21T13:26:11.849Z"
   },
   {
    "duration": 6,
    "start_time": "2024-01-21T13:26:26.207Z"
   },
   {
    "duration": 6,
    "start_time": "2024-01-21T13:26:44.052Z"
   },
   {
    "duration": 8,
    "start_time": "2024-01-21T13:26:51.980Z"
   },
   {
    "duration": 7,
    "start_time": "2024-01-21T13:26:57.179Z"
   },
   {
    "duration": 7,
    "start_time": "2024-01-21T13:27:37.098Z"
   },
   {
    "duration": 13,
    "start_time": "2024-01-21T13:28:10.677Z"
   },
   {
    "duration": 45,
    "start_time": "2024-01-21T13:28:38.958Z"
   },
   {
    "duration": 13,
    "start_time": "2024-01-21T13:28:56.509Z"
   },
   {
    "duration": 28,
    "start_time": "2024-01-21T13:29:30.676Z"
   },
   {
    "duration": 325,
    "start_time": "2024-01-21T13:31:50.731Z"
   },
   {
    "duration": 321,
    "start_time": "2024-01-21T13:32:02.121Z"
   },
   {
    "duration": 340,
    "start_time": "2024-01-21T13:32:23.241Z"
   },
   {
    "duration": 291,
    "start_time": "2024-01-21T13:32:31.870Z"
   },
   {
    "duration": 512,
    "start_time": "2024-01-21T13:32:41.742Z"
   },
   {
    "duration": 396,
    "start_time": "2024-01-21T13:32:49.436Z"
   },
   {
    "duration": 7,
    "start_time": "2024-01-21T13:35:43.521Z"
   },
   {
    "duration": 12,
    "start_time": "2024-01-21T13:36:03.066Z"
   },
   {
    "duration": 82,
    "start_time": "2024-01-21T13:36:52.300Z"
   },
   {
    "duration": 8,
    "start_time": "2024-01-21T13:36:55.935Z"
   },
   {
    "duration": 1188,
    "start_time": "2024-01-21T13:37:18.963Z"
   },
   {
    "duration": 8,
    "start_time": "2024-01-21T13:37:23.400Z"
   },
   {
    "duration": 7,
    "start_time": "2024-01-21T13:37:42.357Z"
   },
   {
    "duration": 14,
    "start_time": "2024-01-21T13:37:48.461Z"
   },
   {
    "duration": 6,
    "start_time": "2024-01-21T13:37:51.123Z"
   },
   {
    "duration": 15,
    "start_time": "2024-01-21T13:39:19.340Z"
   },
   {
    "duration": 10,
    "start_time": "2024-01-21T13:39:39.756Z"
   },
   {
    "duration": 10,
    "start_time": "2024-01-21T13:40:00.815Z"
   },
   {
    "duration": 10,
    "start_time": "2024-01-21T13:40:11.220Z"
   },
   {
    "duration": 13,
    "start_time": "2024-01-21T13:40:50.493Z"
   },
   {
    "duration": 9,
    "start_time": "2024-01-21T13:42:55.908Z"
   },
   {
    "duration": 119,
    "start_time": "2024-01-21T13:43:06.829Z"
   },
   {
    "duration": 8,
    "start_time": "2024-01-21T13:43:27.453Z"
   },
   {
    "duration": 8,
    "start_time": "2024-01-21T13:43:56.310Z"
   },
   {
    "duration": 9,
    "start_time": "2024-01-21T13:44:11.018Z"
   },
   {
    "duration": 107,
    "start_time": "2024-01-21T13:44:14.370Z"
   },
   {
    "duration": 9,
    "start_time": "2024-01-21T13:44:17.686Z"
   },
   {
    "duration": 8,
    "start_time": "2024-01-21T13:44:26.124Z"
   },
   {
    "duration": 8,
    "start_time": "2024-01-21T13:44:51.433Z"
   },
   {
    "duration": 11,
    "start_time": "2024-01-21T13:47:59.691Z"
   },
   {
    "duration": 13,
    "start_time": "2024-01-21T13:48:09.080Z"
   },
   {
    "duration": 18,
    "start_time": "2024-01-21T13:48:37.706Z"
   },
   {
    "duration": 147,
    "start_time": "2024-01-21T13:55:50.150Z"
   },
   {
    "duration": 14,
    "start_time": "2024-01-21T13:56:00.005Z"
   },
   {
    "duration": 80,
    "start_time": "2024-01-21T13:56:34.845Z"
   },
   {
    "duration": 133,
    "start_time": "2024-01-21T13:56:40.459Z"
   },
   {
    "duration": 141,
    "start_time": "2024-01-21T13:56:44.531Z"
   },
   {
    "duration": 9,
    "start_time": "2024-01-21T13:58:20.040Z"
   },
   {
    "duration": 8,
    "start_time": "2024-01-21T13:58:30.846Z"
   },
   {
    "duration": 11,
    "start_time": "2024-01-21T14:08:11.877Z"
   },
   {
    "duration": 5,
    "start_time": "2024-01-21T14:15:32.252Z"
   },
   {
    "duration": 3,
    "start_time": "2024-01-21T14:15:37.442Z"
   },
   {
    "duration": 14,
    "start_time": "2024-01-21T14:15:39.982Z"
   },
   {
    "duration": 18,
    "start_time": "2024-01-21T14:16:09.127Z"
   },
   {
    "duration": 7,
    "start_time": "2024-01-21T14:16:17.969Z"
   },
   {
    "duration": 4,
    "start_time": "2024-01-21T14:16:22.515Z"
   },
   {
    "duration": 1268,
    "start_time": "2024-01-21T20:30:30.706Z"
   },
   {
    "duration": 103,
    "start_time": "2024-01-21T20:33:42.507Z"
   },
   {
    "duration": 3,
    "start_time": "2024-01-21T20:33:47.351Z"
   },
   {
    "duration": 173,
    "start_time": "2024-01-21T20:33:47.358Z"
   },
   {
    "duration": 173,
    "start_time": "2024-01-21T20:33:47.533Z"
   },
   {
    "duration": 68,
    "start_time": "2024-01-21T20:33:47.708Z"
   },
   {
    "duration": 16,
    "start_time": "2024-01-21T20:33:47.778Z"
   },
   {
    "duration": 11,
    "start_time": "2024-01-21T20:33:47.795Z"
   },
   {
    "duration": 7,
    "start_time": "2024-01-21T20:33:47.808Z"
   },
   {
    "duration": 31,
    "start_time": "2024-01-21T20:33:47.817Z"
   },
   {
    "duration": 179,
    "start_time": "2024-01-21T20:33:47.850Z"
   },
   {
    "duration": 291,
    "start_time": "2024-01-21T20:33:48.031Z"
   },
   {
    "duration": 9,
    "start_time": "2024-01-21T20:33:48.324Z"
   },
   {
    "duration": 102,
    "start_time": "2024-01-21T20:33:48.334Z"
   },
   {
    "duration": 215,
    "start_time": "2024-01-21T20:33:48.438Z"
   },
   {
    "duration": 9,
    "start_time": "2024-01-21T20:33:48.655Z"
   },
   {
    "duration": 11,
    "start_time": "2024-01-21T20:33:51.117Z"
   },
   {
    "duration": 18,
    "start_time": "2024-01-21T20:37:00.467Z"
   },
   {
    "duration": 211,
    "start_time": "2024-01-21T20:37:30.171Z"
   },
   {
    "duration": 10,
    "start_time": "2024-01-21T20:37:32.990Z"
   },
   {
    "duration": 16,
    "start_time": "2024-01-21T20:37:42.390Z"
   },
   {
    "duration": 143,
    "start_time": "2024-01-21T20:37:48.584Z"
   },
   {
    "duration": 4,
    "start_time": "2024-01-21T20:38:00.443Z"
   },
   {
    "duration": 33,
    "start_time": "2024-01-21T20:38:10.474Z"
   },
   {
    "duration": 220,
    "start_time": "2024-01-21T20:40:16.386Z"
   },
   {
    "duration": 209,
    "start_time": "2024-01-21T20:40:58.117Z"
   },
   {
    "duration": 9,
    "start_time": "2024-01-21T20:41:06.463Z"
   },
   {
    "duration": 3,
    "start_time": "2024-01-21T20:41:20.009Z"
   },
   {
    "duration": 61,
    "start_time": "2024-01-21T20:41:20.014Z"
   },
   {
    "duration": 46,
    "start_time": "2024-01-21T20:41:20.077Z"
   },
   {
    "duration": 29,
    "start_time": "2024-01-21T20:41:20.124Z"
   },
   {
    "duration": 15,
    "start_time": "2024-01-21T20:41:20.155Z"
   },
   {
    "duration": 28,
    "start_time": "2024-01-21T20:41:20.171Z"
   },
   {
    "duration": 8,
    "start_time": "2024-01-21T20:41:20.200Z"
   },
   {
    "duration": 10,
    "start_time": "2024-01-21T20:41:20.210Z"
   },
   {
    "duration": 229,
    "start_time": "2024-01-21T20:41:20.222Z"
   },
   {
    "duration": 281,
    "start_time": "2024-01-21T20:41:20.453Z"
   },
   {
    "duration": 8,
    "start_time": "2024-01-21T20:41:20.737Z"
   },
   {
    "duration": 93,
    "start_time": "2024-01-21T20:41:20.747Z"
   },
   {
    "duration": 211,
    "start_time": "2024-01-21T20:41:20.841Z"
   },
   {
    "duration": 9,
    "start_time": "2024-01-21T20:41:21.054Z"
   },
   {
    "duration": 29,
    "start_time": "2024-01-21T20:41:21.064Z"
   },
   {
    "duration": 18,
    "start_time": "2024-01-21T20:41:21.095Z"
   },
   {
    "duration": 239,
    "start_time": "2024-01-21T20:41:21.114Z"
   },
   {
    "duration": 9,
    "start_time": "2024-01-21T20:41:21.355Z"
   },
   {
    "duration": 31,
    "start_time": "2024-01-21T20:41:21.366Z"
   },
   {
    "duration": 147,
    "start_time": "2024-01-21T20:41:21.399Z"
   },
   {
    "duration": 5,
    "start_time": "2024-01-21T20:41:21.548Z"
   },
   {
    "duration": 38,
    "start_time": "2024-01-21T20:41:21.554Z"
   },
   {
    "duration": 11,
    "start_time": "2024-01-21T20:41:29.272Z"
   },
   {
    "duration": 328,
    "start_time": "2024-01-21T20:41:33.236Z"
   },
   {
    "duration": 496,
    "start_time": "2024-01-21T20:41:50.911Z"
   },
   {
    "duration": 387,
    "start_time": "2024-01-21T20:42:55.471Z"
   },
   {
    "duration": 17,
    "start_time": "2024-01-21T20:45:24.234Z"
   },
   {
    "duration": 28,
    "start_time": "2024-01-21T20:45:35.328Z"
   },
   {
    "duration": 31,
    "start_time": "2024-01-21T20:47:04.414Z"
   },
   {
    "duration": 32,
    "start_time": "2024-01-21T20:48:34.910Z"
   },
   {
    "duration": 33,
    "start_time": "2024-01-21T21:01:22.876Z"
   },
   {
    "duration": 47,
    "start_time": "2024-01-21T21:05:16.100Z"
   },
   {
    "duration": 12,
    "start_time": "2024-01-21T21:05:41.296Z"
   },
   {
    "duration": 13,
    "start_time": "2024-01-21T21:05:45.307Z"
   },
   {
    "duration": 8,
    "start_time": "2024-01-21T21:10:26.235Z"
   },
   {
    "duration": 8,
    "start_time": "2024-01-21T21:11:00.654Z"
   },
   {
    "duration": 7,
    "start_time": "2024-01-21T21:11:13.429Z"
   },
   {
    "duration": 78,
    "start_time": "2024-01-21T21:11:28.603Z"
   },
   {
    "duration": 7,
    "start_time": "2024-01-21T21:11:35.393Z"
   },
   {
    "duration": 8,
    "start_time": "2024-01-21T21:11:41.071Z"
   },
   {
    "duration": 6,
    "start_time": "2024-01-21T21:17:07.233Z"
   },
   {
    "duration": 6,
    "start_time": "2024-01-21T21:18:49.575Z"
   },
   {
    "duration": 6,
    "start_time": "2024-01-21T21:19:37.263Z"
   },
   {
    "duration": 8,
    "start_time": "2024-01-21T21:24:27.881Z"
   },
   {
    "duration": 17,
    "start_time": "2024-01-21T21:26:59.219Z"
   },
   {
    "duration": 309,
    "start_time": "2024-01-21T21:27:16.708Z"
   },
   {
    "duration": 645,
    "start_time": "2024-01-21T21:28:27.972Z"
   },
   {
    "duration": 92,
    "start_time": "2024-01-21T21:29:39.637Z"
   },
   {
    "duration": 87,
    "start_time": "2024-01-21T21:30:02.684Z"
   },
   {
    "duration": 265,
    "start_time": "2024-01-21T21:30:27.652Z"
   },
   {
    "duration": 428,
    "start_time": "2024-01-21T21:30:39.307Z"
   },
   {
    "duration": 126,
    "start_time": "2024-01-21T21:32:00.173Z"
   },
   {
    "duration": 161,
    "start_time": "2024-01-21T21:32:13.651Z"
   },
   {
    "duration": 86,
    "start_time": "2024-01-21T21:32:33.040Z"
   },
   {
    "duration": 158,
    "start_time": "2024-01-21T21:32:38.139Z"
   },
   {
    "duration": 218,
    "start_time": "2024-01-21T21:32:51.655Z"
   },
   {
    "duration": 251,
    "start_time": "2024-01-21T21:33:51.850Z"
   },
   {
    "duration": 246,
    "start_time": "2024-01-21T21:34:20.835Z"
   },
   {
    "duration": 247,
    "start_time": "2024-01-21T21:35:56.933Z"
   },
   {
    "duration": 207,
    "start_time": "2024-01-21T21:36:29.086Z"
   },
   {
    "duration": 236,
    "start_time": "2024-01-21T21:37:31.966Z"
   },
   {
    "duration": 242,
    "start_time": "2024-01-21T21:37:41.077Z"
   },
   {
    "duration": 220,
    "start_time": "2024-01-21T21:37:52.169Z"
   },
   {
    "duration": 327,
    "start_time": "2024-01-21T21:38:31.818Z"
   },
   {
    "duration": 1056,
    "start_time": "2024-01-21T22:06:20.694Z"
   },
   {
    "duration": 108,
    "start_time": "2024-01-21T22:06:21.752Z"
   },
   {
    "duration": 51,
    "start_time": "2024-01-21T22:06:21.873Z"
   },
   {
    "duration": 45,
    "start_time": "2024-01-21T22:06:21.927Z"
   },
   {
    "duration": 21,
    "start_time": "2024-01-21T22:06:21.976Z"
   },
   {
    "duration": 11,
    "start_time": "2024-01-21T22:06:22.003Z"
   },
   {
    "duration": 16,
    "start_time": "2024-01-21T22:06:22.016Z"
   },
   {
    "duration": 11,
    "start_time": "2024-01-21T22:06:22.034Z"
   },
   {
    "duration": 212,
    "start_time": "2024-01-21T22:06:22.047Z"
   },
   {
    "duration": 319,
    "start_time": "2024-01-21T22:06:22.261Z"
   },
   {
    "duration": 11,
    "start_time": "2024-01-21T22:06:22.587Z"
   },
   {
    "duration": 94,
    "start_time": "2024-01-21T22:06:22.601Z"
   },
   {
    "duration": 241,
    "start_time": "2024-01-21T22:06:22.699Z"
   },
   {
    "duration": 11,
    "start_time": "2024-01-21T22:06:22.942Z"
   },
   {
    "duration": 34,
    "start_time": "2024-01-21T22:06:22.955Z"
   },
   {
    "duration": 24,
    "start_time": "2024-01-21T22:06:22.993Z"
   },
   {
    "duration": 257,
    "start_time": "2024-01-21T22:06:23.018Z"
   },
   {
    "duration": 12,
    "start_time": "2024-01-21T22:06:23.277Z"
   },
   {
    "duration": 37,
    "start_time": "2024-01-21T22:06:23.291Z"
   },
   {
    "duration": 206,
    "start_time": "2024-01-21T22:06:23.330Z"
   },
   {
    "duration": 7,
    "start_time": "2024-01-21T22:06:23.538Z"
   },
   {
    "duration": 73,
    "start_time": "2024-01-21T22:06:23.547Z"
   },
   {
    "duration": 15,
    "start_time": "2024-01-21T22:06:23.622Z"
   },
   {
    "duration": 517,
    "start_time": "2024-01-21T22:06:23.639Z"
   },
   {
    "duration": 448,
    "start_time": "2024-01-21T22:06:24.158Z"
   },
   {
    "duration": 41,
    "start_time": "2024-01-21T22:06:24.608Z"
   },
   {
    "duration": 56,
    "start_time": "2024-01-21T22:06:24.674Z"
   },
   {
    "duration": 14,
    "start_time": "2024-01-21T22:06:24.732Z"
   },
   {
    "duration": 52,
    "start_time": "2024-01-21T22:06:24.749Z"
   },
   {
    "duration": 16,
    "start_time": "2024-01-21T22:06:24.803Z"
   },
   {
    "duration": 36,
    "start_time": "2024-01-21T22:06:24.821Z"
   },
   {
    "duration": 14,
    "start_time": "2024-01-21T22:06:24.859Z"
   },
   {
    "duration": 277,
    "start_time": "2024-01-21T22:06:24.878Z"
   },
   {
    "duration": 21,
    "start_time": "2024-01-21T22:08:43.908Z"
   },
   {
    "duration": 1252,
    "start_time": "2024-01-22T06:24:52.473Z"
   },
   {
    "duration": 145,
    "start_time": "2024-01-22T06:24:53.727Z"
   },
   {
    "duration": 29,
    "start_time": "2024-01-22T06:24:53.874Z"
   },
   {
    "duration": 154,
    "start_time": "2024-01-22T06:24:53.915Z"
   },
   {
    "duration": 18,
    "start_time": "2024-01-22T06:24:54.071Z"
   },
   {
    "duration": 68,
    "start_time": "2024-01-22T06:24:54.091Z"
   },
   {
    "duration": 20,
    "start_time": "2024-01-22T06:24:54.161Z"
   },
   {
    "duration": 6,
    "start_time": "2024-01-22T06:26:22.332Z"
   },
   {
    "duration": 5,
    "start_time": "2024-01-22T06:26:26.470Z"
   },
   {
    "duration": 8,
    "start_time": "2024-01-22T06:27:01.277Z"
   },
   {
    "duration": 6,
    "start_time": "2024-01-22T06:27:46.941Z"
   },
   {
    "duration": 162,
    "start_time": "2024-01-22T06:34:50.307Z"
   },
   {
    "duration": 207,
    "start_time": "2024-01-22T06:35:07.927Z"
   },
   {
    "duration": 143,
    "start_time": "2024-01-22T06:35:11.998Z"
   },
   {
    "duration": 143,
    "start_time": "2024-01-22T06:35:27.563Z"
   },
   {
    "duration": 150,
    "start_time": "2024-01-22T06:35:38.610Z"
   },
   {
    "duration": 148,
    "start_time": "2024-01-22T06:35:50.708Z"
   },
   {
    "duration": 89,
    "start_time": "2024-01-22T06:41:35.923Z"
   },
   {
    "duration": 3,
    "start_time": "2024-01-22T06:45:37.630Z"
   },
   {
    "duration": 53,
    "start_time": "2024-01-22T06:45:37.634Z"
   },
   {
    "duration": 24,
    "start_time": "2024-01-22T06:45:37.689Z"
   },
   {
    "duration": 34,
    "start_time": "2024-01-22T06:45:37.715Z"
   },
   {
    "duration": 16,
    "start_time": "2024-01-22T06:45:37.751Z"
   },
   {
    "duration": 18,
    "start_time": "2024-01-22T06:45:37.768Z"
   },
   {
    "duration": 26,
    "start_time": "2024-01-22T06:45:37.788Z"
   },
   {
    "duration": 13,
    "start_time": "2024-01-22T06:45:37.816Z"
   },
   {
    "duration": 14,
    "start_time": "2024-01-22T06:45:37.831Z"
   },
   {
    "duration": 24,
    "start_time": "2024-01-22T06:45:37.846Z"
   },
   {
    "duration": 12,
    "start_time": "2024-01-22T06:45:37.873Z"
   },
   {
    "duration": 29,
    "start_time": "2024-01-22T06:45:37.887Z"
   },
   {
    "duration": 165,
    "start_time": "2024-01-22T06:45:37.917Z"
   },
   {
    "duration": 265,
    "start_time": "2024-01-22T06:45:38.084Z"
   },
   {
    "duration": 8,
    "start_time": "2024-01-22T06:45:38.351Z"
   },
   {
    "duration": 203,
    "start_time": "2024-01-22T06:45:38.360Z"
   },
   {
    "duration": 200,
    "start_time": "2024-01-22T06:45:38.565Z"
   },
   {
    "duration": 9,
    "start_time": "2024-01-22T06:45:38.766Z"
   },
   {
    "duration": 57,
    "start_time": "2024-01-22T06:45:38.777Z"
   },
   {
    "duration": 79,
    "start_time": "2024-01-22T06:45:38.836Z"
   },
   {
    "duration": 252,
    "start_time": "2024-01-22T06:45:38.917Z"
   },
   {
    "duration": 8,
    "start_time": "2024-01-22T06:45:39.171Z"
   },
   {
    "duration": 37,
    "start_time": "2024-01-22T06:45:39.180Z"
   },
   {
    "duration": 128,
    "start_time": "2024-01-22T06:45:39.219Z"
   },
   {
    "duration": 4,
    "start_time": "2024-01-22T06:45:39.349Z"
   },
   {
    "duration": 57,
    "start_time": "2024-01-22T06:45:39.354Z"
   },
   {
    "duration": 18,
    "start_time": "2024-01-22T06:45:39.412Z"
   },
   {
    "duration": 408,
    "start_time": "2024-01-22T06:45:39.432Z"
   },
   {
    "duration": 347,
    "start_time": "2024-01-22T06:45:39.843Z"
   },
   {
    "duration": 37,
    "start_time": "2024-01-22T06:45:40.192Z"
   },
   {
    "duration": 83,
    "start_time": "2024-01-22T06:45:40.230Z"
   },
   {
    "duration": 10,
    "start_time": "2024-01-22T06:45:56.355Z"
   },
   {
    "duration": 4,
    "start_time": "2024-01-22T06:46:31.083Z"
   },
   {
    "duration": 118,
    "start_time": "2024-01-22T06:46:48.753Z"
   },
   {
    "duration": 4,
    "start_time": "2024-01-22T06:46:54.015Z"
   },
   {
    "duration": 4,
    "start_time": "2024-01-22T06:47:33.033Z"
   },
   {
    "duration": 10,
    "start_time": "2024-01-22T06:47:52.840Z"
   },
   {
    "duration": 11,
    "start_time": "2024-01-22T06:48:08.120Z"
   },
   {
    "duration": 13,
    "start_time": "2024-01-22T06:48:13.819Z"
   },
   {
    "duration": 15,
    "start_time": "2024-01-22T06:49:53.590Z"
   },
   {
    "duration": 210,
    "start_time": "2024-01-22T06:55:37.242Z"
   },
   {
    "duration": 258,
    "start_time": "2024-01-22T06:56:13.829Z"
   },
   {
    "duration": 202,
    "start_time": "2024-01-22T06:56:29.206Z"
   },
   {
    "duration": 207,
    "start_time": "2024-01-22T06:56:39.816Z"
   },
   {
    "duration": 227,
    "start_time": "2024-01-22T06:56:49.355Z"
   },
   {
    "duration": 202,
    "start_time": "2024-01-22T06:56:57.716Z"
   },
   {
    "duration": 3,
    "start_time": "2024-01-22T06:57:13.707Z"
   },
   {
    "duration": 38,
    "start_time": "2024-01-22T06:57:13.712Z"
   },
   {
    "duration": 16,
    "start_time": "2024-01-22T06:57:13.752Z"
   },
   {
    "duration": 52,
    "start_time": "2024-01-22T06:57:13.770Z"
   },
   {
    "duration": 16,
    "start_time": "2024-01-22T06:57:13.824Z"
   },
   {
    "duration": 29,
    "start_time": "2024-01-22T06:57:13.841Z"
   },
   {
    "duration": 16,
    "start_time": "2024-01-22T06:57:13.871Z"
   },
   {
    "duration": 40,
    "start_time": "2024-01-22T06:57:13.889Z"
   },
   {
    "duration": 10,
    "start_time": "2024-01-22T06:57:13.930Z"
   },
   {
    "duration": 4,
    "start_time": "2024-01-22T06:57:13.941Z"
   },
   {
    "duration": 7,
    "start_time": "2024-01-22T06:57:13.947Z"
   },
   {
    "duration": 9,
    "start_time": "2024-01-22T06:57:13.956Z"
   },
   {
    "duration": 173,
    "start_time": "2024-01-22T06:57:13.966Z"
   },
   {
    "duration": 307,
    "start_time": "2024-01-22T06:57:14.140Z"
   },
   {
    "duration": 8,
    "start_time": "2024-01-22T06:57:14.448Z"
   },
   {
    "duration": 114,
    "start_time": "2024-01-22T06:57:14.457Z"
   },
   {
    "duration": 214,
    "start_time": "2024-01-22T06:57:14.572Z"
   },
   {
    "duration": 18,
    "start_time": "2024-01-22T06:57:14.788Z"
   },
   {
    "duration": 37,
    "start_time": "2024-01-22T06:57:14.808Z"
   },
   {
    "duration": 23,
    "start_time": "2024-01-22T06:57:14.847Z"
   },
   {
    "duration": 243,
    "start_time": "2024-01-22T06:57:14.871Z"
   },
   {
    "duration": 8,
    "start_time": "2024-01-22T06:57:15.116Z"
   },
   {
    "duration": 49,
    "start_time": "2024-01-22T06:57:15.126Z"
   },
   {
    "duration": 265,
    "start_time": "2024-01-22T06:57:15.176Z"
   },
   {
    "duration": 12,
    "start_time": "2024-01-22T06:57:23.246Z"
   },
   {
    "duration": 3,
    "start_time": "2024-01-22T07:00:36.406Z"
   },
   {
    "duration": 5,
    "start_time": "2024-01-22T07:00:38.681Z"
   },
   {
    "duration": 2,
    "start_time": "2024-01-22T07:01:01.717Z"
   },
   {
    "duration": 130,
    "start_time": "2024-01-22T07:01:01.721Z"
   },
   {
    "duration": 74,
    "start_time": "2024-01-22T07:01:01.853Z"
   },
   {
    "duration": 203,
    "start_time": "2024-01-22T07:01:01.928Z"
   },
   {
    "duration": 73,
    "start_time": "2024-01-22T07:01:02.132Z"
   },
   {
    "duration": 28,
    "start_time": "2024-01-22T07:01:02.206Z"
   },
   {
    "duration": 64,
    "start_time": "2024-01-22T07:01:02.235Z"
   },
   {
    "duration": 25,
    "start_time": "2024-01-22T07:01:02.301Z"
   },
   {
    "duration": 41,
    "start_time": "2024-01-22T07:01:02.329Z"
   },
   {
    "duration": 9,
    "start_time": "2024-01-22T07:01:02.371Z"
   },
   {
    "duration": 34,
    "start_time": "2024-01-22T07:01:02.382Z"
   },
   {
    "duration": 22,
    "start_time": "2024-01-22T07:01:02.417Z"
   },
   {
    "duration": 155,
    "start_time": "2024-01-22T07:01:02.440Z"
   },
   {
    "duration": 265,
    "start_time": "2024-01-22T07:01:02.597Z"
   },
   {
    "duration": 7,
    "start_time": "2024-01-22T07:01:02.864Z"
   },
   {
    "duration": 103,
    "start_time": "2024-01-22T07:01:02.872Z"
   },
   {
    "duration": 216,
    "start_time": "2024-01-22T07:01:02.976Z"
   },
   {
    "duration": 11,
    "start_time": "2024-01-22T07:01:03.197Z"
   },
   {
    "duration": 34,
    "start_time": "2024-01-22T07:01:03.209Z"
   },
   {
    "duration": 20,
    "start_time": "2024-01-22T07:01:03.244Z"
   },
   {
    "duration": 222,
    "start_time": "2024-01-22T07:01:03.266Z"
   },
   {
    "duration": 18,
    "start_time": "2024-01-22T07:01:03.490Z"
   },
   {
    "duration": 14,
    "start_time": "2024-01-22T07:01:03.510Z"
   },
   {
    "duration": 163,
    "start_time": "2024-01-22T07:01:03.527Z"
   },
   {
    "duration": 13,
    "start_time": "2024-01-22T07:01:03.692Z"
   },
   {
    "duration": 207,
    "start_time": "2024-01-22T07:01:27.898Z"
   },
   {
    "duration": 357,
    "start_time": "2024-01-22T07:02:27.562Z"
   },
   {
    "duration": 270,
    "start_time": "2024-01-22T07:02:56.407Z"
   },
   {
    "duration": 319,
    "start_time": "2024-01-22T07:04:08.356Z"
   },
   {
    "duration": 349,
    "start_time": "2024-01-22T07:04:23.715Z"
   },
   {
    "duration": 322,
    "start_time": "2024-01-22T07:04:38.989Z"
   },
   {
    "duration": 338,
    "start_time": "2024-01-22T07:06:01.485Z"
   },
   {
    "duration": 393,
    "start_time": "2024-01-22T07:06:06.588Z"
   },
   {
    "duration": 326,
    "start_time": "2024-01-22T07:06:30.236Z"
   },
   {
    "duration": 284,
    "start_time": "2024-01-22T07:07:47.307Z"
   },
   {
    "duration": 331,
    "start_time": "2024-01-22T07:08:03.214Z"
   },
   {
    "duration": 3,
    "start_time": "2024-01-22T07:10:39.988Z"
   },
   {
    "duration": 67,
    "start_time": "2024-01-22T07:10:39.993Z"
   },
   {
    "duration": 90,
    "start_time": "2024-01-22T07:10:40.062Z"
   },
   {
    "duration": 58,
    "start_time": "2024-01-22T07:10:40.154Z"
   },
   {
    "duration": 23,
    "start_time": "2024-01-22T07:10:40.215Z"
   },
   {
    "duration": 23,
    "start_time": "2024-01-22T07:10:40.240Z"
   },
   {
    "duration": 19,
    "start_time": "2024-01-22T07:10:40.265Z"
   },
   {
    "duration": 23,
    "start_time": "2024-01-22T07:10:40.286Z"
   },
   {
    "duration": 36,
    "start_time": "2024-01-22T07:10:40.311Z"
   },
   {
    "duration": 49,
    "start_time": "2024-01-22T07:10:40.348Z"
   },
   {
    "duration": 45,
    "start_time": "2024-01-22T07:10:40.409Z"
   },
   {
    "duration": 30,
    "start_time": "2024-01-22T07:10:40.456Z"
   },
   {
    "duration": 185,
    "start_time": "2024-01-22T07:10:40.488Z"
   },
   {
    "duration": 278,
    "start_time": "2024-01-22T07:10:40.675Z"
   },
   {
    "duration": 8,
    "start_time": "2024-01-22T07:10:40.954Z"
   },
   {
    "duration": 218,
    "start_time": "2024-01-22T07:10:40.964Z"
   },
   {
    "duration": 353,
    "start_time": "2024-01-22T07:10:41.184Z"
   },
   {
    "duration": 9,
    "start_time": "2024-01-22T07:10:41.539Z"
   },
   {
    "duration": 31,
    "start_time": "2024-01-22T07:10:41.549Z"
   },
   {
    "duration": 39,
    "start_time": "2024-01-22T07:10:41.582Z"
   },
   {
    "duration": 326,
    "start_time": "2024-01-22T07:10:41.622Z"
   },
   {
    "duration": 8,
    "start_time": "2024-01-22T07:10:41.950Z"
   },
   {
    "duration": 35,
    "start_time": "2024-01-22T07:10:41.960Z"
   },
   {
    "duration": 130,
    "start_time": "2024-01-22T07:10:41.997Z"
   },
   {
    "duration": 3,
    "start_time": "2024-01-22T07:10:42.128Z"
   },
   {
    "duration": 4,
    "start_time": "2024-01-22T07:11:20.345Z"
   },
   {
    "duration": 24,
    "start_time": "2024-01-22T07:11:23.919Z"
   },
   {
    "duration": 4,
    "start_time": "2024-01-22T07:11:45.462Z"
   },
   {
    "duration": 3,
    "start_time": "2024-01-22T07:12:24.279Z"
   },
   {
    "duration": 4,
    "start_time": "2024-01-22T07:12:59.073Z"
   },
   {
    "duration": 4,
    "start_time": "2024-01-22T07:13:23.225Z"
   },
   {
    "duration": 4,
    "start_time": "2024-01-22T07:14:19.929Z"
   },
   {
    "duration": 43,
    "start_time": "2024-01-22T07:16:11.810Z"
   },
   {
    "duration": 42,
    "start_time": "2024-01-22T07:16:30.978Z"
   },
   {
    "duration": 29,
    "start_time": "2024-01-22T07:16:42.211Z"
   },
   {
    "duration": 42,
    "start_time": "2024-01-22T07:16:44.592Z"
   },
   {
    "duration": 33,
    "start_time": "2024-01-22T07:16:51.209Z"
   },
   {
    "duration": 26,
    "start_time": "2024-01-22T07:17:28.819Z"
   },
   {
    "duration": 7,
    "start_time": "2024-01-22T07:18:15.370Z"
   },
   {
    "duration": 10,
    "start_time": "2024-01-22T07:19:10.776Z"
   },
   {
    "duration": 11,
    "start_time": "2024-01-22T07:23:52.763Z"
   },
   {
    "duration": 6,
    "start_time": "2024-01-22T07:24:47.539Z"
   },
   {
    "duration": 6,
    "start_time": "2024-01-22T07:26:39.938Z"
   },
   {
    "duration": 6,
    "start_time": "2024-01-22T07:27:07.633Z"
   },
   {
    "duration": 3,
    "start_time": "2024-01-22T07:28:36.452Z"
   },
   {
    "duration": 53,
    "start_time": "2024-01-22T07:28:36.457Z"
   },
   {
    "duration": 15,
    "start_time": "2024-01-22T07:28:36.512Z"
   },
   {
    "duration": 33,
    "start_time": "2024-01-22T07:28:36.529Z"
   },
   {
    "duration": 16,
    "start_time": "2024-01-22T07:28:36.564Z"
   },
   {
    "duration": 26,
    "start_time": "2024-01-22T07:28:36.582Z"
   },
   {
    "duration": 13,
    "start_time": "2024-01-22T07:28:36.610Z"
   },
   {
    "duration": 17,
    "start_time": "2024-01-22T07:28:36.625Z"
   },
   {
    "duration": 21,
    "start_time": "2024-01-22T07:28:36.644Z"
   },
   {
    "duration": 8,
    "start_time": "2024-01-22T07:28:36.667Z"
   },
   {
    "duration": 30,
    "start_time": "2024-01-22T07:28:36.678Z"
   },
   {
    "duration": 22,
    "start_time": "2024-01-22T07:28:36.710Z"
   },
   {
    "duration": 34,
    "start_time": "2024-01-22T07:28:36.734Z"
   },
   {
    "duration": 175,
    "start_time": "2024-01-22T07:28:36.769Z"
   },
   {
    "duration": 288,
    "start_time": "2024-01-22T07:28:36.946Z"
   },
   {
    "duration": 7,
    "start_time": "2024-01-22T07:28:37.236Z"
   },
   {
    "duration": 175,
    "start_time": "2024-01-22T07:28:37.245Z"
   },
   {
    "duration": 469,
    "start_time": "2024-01-22T07:28:37.424Z"
   },
   {
    "duration": 9,
    "start_time": "2024-01-22T07:28:37.906Z"
   },
   {
    "duration": 17,
    "start_time": "2024-01-22T07:28:37.916Z"
   },
   {
    "duration": 20,
    "start_time": "2024-01-22T07:28:37.935Z"
   },
   {
    "duration": 384,
    "start_time": "2024-01-22T07:28:37.956Z"
   },
   {
    "duration": 9,
    "start_time": "2024-01-22T07:28:38.342Z"
   },
   {
    "duration": 16,
    "start_time": "2024-01-22T07:28:38.352Z"
   },
   {
    "duration": 182,
    "start_time": "2024-01-22T07:28:38.370Z"
   },
   {
    "duration": 3,
    "start_time": "2024-01-22T07:28:38.554Z"
   },
   {
    "duration": 27,
    "start_time": "2024-01-22T07:28:38.558Z"
   },
   {
    "duration": 5,
    "start_time": "2024-01-22T07:30:16.291Z"
   },
   {
    "duration": 10,
    "start_time": "2024-01-22T07:30:20.784Z"
   },
   {
    "duration": 38,
    "start_time": "2024-01-22T07:30:24.674Z"
   },
   {
    "duration": 46,
    "start_time": "2024-01-22T07:30:57.073Z"
   },
   {
    "duration": 10,
    "start_time": "2024-01-22T07:31:01.906Z"
   },
   {
    "duration": 3,
    "start_time": "2024-01-22T07:32:26.657Z"
   },
   {
    "duration": 74,
    "start_time": "2024-01-22T07:32:26.661Z"
   },
   {
    "duration": 72,
    "start_time": "2024-01-22T07:32:26.737Z"
   },
   {
    "duration": 53,
    "start_time": "2024-01-22T07:32:26.811Z"
   },
   {
    "duration": 35,
    "start_time": "2024-01-22T07:32:26.867Z"
   },
   {
    "duration": 55,
    "start_time": "2024-01-22T07:32:26.904Z"
   },
   {
    "duration": 52,
    "start_time": "2024-01-22T07:32:26.961Z"
   },
   {
    "duration": 30,
    "start_time": "2024-01-22T07:32:27.015Z"
   },
   {
    "duration": 41,
    "start_time": "2024-01-22T07:32:27.046Z"
   },
   {
    "duration": 32,
    "start_time": "2024-01-22T07:32:27.088Z"
   },
   {
    "duration": 59,
    "start_time": "2024-01-22T07:32:27.123Z"
   },
   {
    "duration": 38,
    "start_time": "2024-01-22T07:32:27.184Z"
   },
   {
    "duration": 40,
    "start_time": "2024-01-22T07:32:27.224Z"
   },
   {
    "duration": 180,
    "start_time": "2024-01-22T07:32:27.266Z"
   },
   {
    "duration": 275,
    "start_time": "2024-01-22T07:32:27.447Z"
   },
   {
    "duration": 7,
    "start_time": "2024-01-22T07:32:27.724Z"
   },
   {
    "duration": 107,
    "start_time": "2024-01-22T07:32:27.733Z"
   },
   {
    "duration": 346,
    "start_time": "2024-01-22T07:32:27.842Z"
   },
   {
    "duration": 17,
    "start_time": "2024-01-22T07:32:28.190Z"
   },
   {
    "duration": 24,
    "start_time": "2024-01-22T07:32:28.208Z"
   },
   {
    "duration": 26,
    "start_time": "2024-01-22T07:32:28.233Z"
   },
   {
    "duration": 460,
    "start_time": "2024-01-22T07:32:28.261Z"
   },
   {
    "duration": 9,
    "start_time": "2024-01-22T07:32:28.722Z"
   },
   {
    "duration": 45,
    "start_time": "2024-01-22T07:32:28.732Z"
   },
   {
    "duration": 145,
    "start_time": "2024-01-22T07:32:28.779Z"
   },
   {
    "duration": 3,
    "start_time": "2024-01-22T07:32:28.925Z"
   },
   {
    "duration": 33,
    "start_time": "2024-01-22T07:32:28.929Z"
   },
   {
    "duration": 4,
    "start_time": "2024-01-22T07:32:28.964Z"
   },
   {
    "duration": 33,
    "start_time": "2024-01-22T07:32:28.972Z"
   },
   {
    "duration": 37,
    "start_time": "2024-01-22T07:32:29.007Z"
   },
   {
    "duration": 396,
    "start_time": "2024-01-22T07:32:29.045Z"
   },
   {
    "duration": 388,
    "start_time": "2024-01-22T07:32:29.443Z"
   },
   {
    "duration": 30,
    "start_time": "2024-01-22T07:32:29.833Z"
   },
   {
    "duration": 62,
    "start_time": "2024-01-22T07:32:29.864Z"
   },
   {
    "duration": 8,
    "start_time": "2024-01-22T07:32:29.928Z"
   },
   {
    "duration": 34,
    "start_time": "2024-01-22T07:32:29.937Z"
   },
   {
    "duration": 18,
    "start_time": "2024-01-22T07:32:29.972Z"
   },
   {
    "duration": 27,
    "start_time": "2024-01-22T07:32:29.991Z"
   },
   {
    "duration": 7,
    "start_time": "2024-01-22T07:38:05.346Z"
   },
   {
    "duration": 7,
    "start_time": "2024-01-22T07:39:53.872Z"
   },
   {
    "duration": 229,
    "start_time": "2024-01-22T07:40:04.581Z"
   },
   {
    "duration": 229,
    "start_time": "2024-01-22T07:40:33.682Z"
   },
   {
    "duration": 218,
    "start_time": "2024-01-22T07:41:42.525Z"
   },
   {
    "duration": 249,
    "start_time": "2024-01-22T07:41:51.563Z"
   },
   {
    "duration": 227,
    "start_time": "2024-01-22T07:42:08.037Z"
   },
   {
    "duration": 335,
    "start_time": "2024-01-22T07:42:11.377Z"
   },
   {
    "duration": 247,
    "start_time": "2024-01-22T07:44:19.692Z"
   },
   {
    "duration": 245,
    "start_time": "2024-01-22T07:44:55.418Z"
   },
   {
    "duration": 234,
    "start_time": "2024-01-22T07:45:07.518Z"
   },
   {
    "duration": 219,
    "start_time": "2024-01-22T07:45:20.839Z"
   },
   {
    "duration": 88,
    "start_time": "2024-01-22T07:45:47.730Z"
   },
   {
    "duration": 2,
    "start_time": "2024-01-22T07:51:56.562Z"
   },
   {
    "duration": 46,
    "start_time": "2024-01-22T07:51:56.566Z"
   },
   {
    "duration": 23,
    "start_time": "2024-01-22T07:51:56.614Z"
   },
   {
    "duration": 44,
    "start_time": "2024-01-22T07:51:56.638Z"
   },
   {
    "duration": 23,
    "start_time": "2024-01-22T07:51:56.684Z"
   },
   {
    "duration": 18,
    "start_time": "2024-01-22T07:51:56.709Z"
   },
   {
    "duration": 14,
    "start_time": "2024-01-22T07:51:56.728Z"
   },
   {
    "duration": 13,
    "start_time": "2024-01-22T07:51:56.743Z"
   },
   {
    "duration": 20,
    "start_time": "2024-01-22T07:51:56.758Z"
   },
   {
    "duration": 26,
    "start_time": "2024-01-22T07:51:56.779Z"
   },
   {
    "duration": 8,
    "start_time": "2024-01-22T07:51:56.809Z"
   },
   {
    "duration": 16,
    "start_time": "2024-01-22T07:51:56.818Z"
   },
   {
    "duration": 28,
    "start_time": "2024-01-22T07:51:56.836Z"
   },
   {
    "duration": 160,
    "start_time": "2024-01-22T07:51:56.866Z"
   },
   {
    "duration": 264,
    "start_time": "2024-01-22T07:51:57.027Z"
   },
   {
    "duration": 9,
    "start_time": "2024-01-22T07:51:57.293Z"
   },
   {
    "duration": 117,
    "start_time": "2024-01-22T07:51:57.310Z"
   },
   {
    "duration": 341,
    "start_time": "2024-01-22T07:51:57.429Z"
   },
   {
    "duration": 9,
    "start_time": "2024-01-22T07:51:57.772Z"
   },
   {
    "duration": 20,
    "start_time": "2024-01-22T07:51:57.794Z"
   },
   {
    "duration": 24,
    "start_time": "2024-01-22T07:51:57.815Z"
   },
   {
    "duration": 423,
    "start_time": "2024-01-22T07:51:57.841Z"
   },
   {
    "duration": 8,
    "start_time": "2024-01-22T07:51:58.265Z"
   },
   {
    "duration": 34,
    "start_time": "2024-01-22T07:51:58.274Z"
   },
   {
    "duration": 134,
    "start_time": "2024-01-22T07:51:58.309Z"
   },
   {
    "duration": 2,
    "start_time": "2024-01-22T07:51:58.444Z"
   },
   {
    "duration": 36,
    "start_time": "2024-01-22T07:51:58.447Z"
   },
   {
    "duration": 4,
    "start_time": "2024-01-22T07:51:58.484Z"
   },
   {
    "duration": 22,
    "start_time": "2024-01-22T07:51:58.491Z"
   },
   {
    "duration": 47,
    "start_time": "2024-01-22T07:51:58.515Z"
   },
   {
    "duration": 378,
    "start_time": "2024-01-22T07:51:58.563Z"
   },
   {
    "duration": 378,
    "start_time": "2024-01-22T07:51:58.943Z"
   },
   {
    "duration": 31,
    "start_time": "2024-01-22T07:51:59.323Z"
   },
   {
    "duration": 72,
    "start_time": "2024-01-22T07:51:59.355Z"
   },
   {
    "duration": 9,
    "start_time": "2024-01-22T07:51:59.428Z"
   },
   {
    "duration": 13,
    "start_time": "2024-01-22T07:51:59.438Z"
   },
   {
    "duration": 45,
    "start_time": "2024-01-22T07:51:59.452Z"
   },
   {
    "duration": 15,
    "start_time": "2024-01-22T07:51:59.506Z"
   },
   {
    "duration": 983,
    "start_time": "2024-01-22T07:52:12.865Z"
   },
   {
    "duration": 78,
    "start_time": "2024-01-22T07:52:13.849Z"
   },
   {
    "duration": 21,
    "start_time": "2024-01-22T07:52:13.928Z"
   },
   {
    "duration": 59,
    "start_time": "2024-01-22T07:52:13.951Z"
   },
   {
    "duration": 17,
    "start_time": "2024-01-22T07:52:14.011Z"
   },
   {
    "duration": 34,
    "start_time": "2024-01-22T07:52:14.029Z"
   },
   {
    "duration": 52,
    "start_time": "2024-01-22T07:52:14.064Z"
   },
   {
    "duration": 40,
    "start_time": "2024-01-22T07:52:14.117Z"
   },
   {
    "duration": 42,
    "start_time": "2024-01-22T07:52:14.159Z"
   },
   {
    "duration": 23,
    "start_time": "2024-01-22T07:52:14.203Z"
   },
   {
    "duration": 32,
    "start_time": "2024-01-22T07:52:14.228Z"
   },
   {
    "duration": 40,
    "start_time": "2024-01-22T07:52:14.261Z"
   },
   {
    "duration": 18,
    "start_time": "2024-01-22T07:52:14.302Z"
   },
   {
    "duration": 157,
    "start_time": "2024-01-22T07:52:14.321Z"
   },
   {
    "duration": 266,
    "start_time": "2024-01-22T07:52:14.480Z"
   },
   {
    "duration": 8,
    "start_time": "2024-01-22T07:52:14.747Z"
   },
   {
    "duration": 97,
    "start_time": "2024-01-22T07:52:14.757Z"
   },
   {
    "duration": 358,
    "start_time": "2024-01-22T07:52:14.855Z"
   },
   {
    "duration": 8,
    "start_time": "2024-01-22T07:52:15.215Z"
   },
   {
    "duration": 47,
    "start_time": "2024-01-22T07:52:15.225Z"
   },
   {
    "duration": 51,
    "start_time": "2024-01-22T07:52:15.273Z"
   },
   {
    "duration": 351,
    "start_time": "2024-01-22T07:52:15.325Z"
   },
   {
    "duration": 8,
    "start_time": "2024-01-22T07:52:15.677Z"
   },
   {
    "duration": 36,
    "start_time": "2024-01-22T07:52:15.694Z"
   },
   {
    "duration": 141,
    "start_time": "2024-01-22T07:52:15.732Z"
   },
   {
    "duration": 3,
    "start_time": "2024-01-22T07:52:15.874Z"
   },
   {
    "duration": 36,
    "start_time": "2024-01-22T07:52:15.878Z"
   },
   {
    "duration": 4,
    "start_time": "2024-01-22T07:52:15.917Z"
   },
   {
    "duration": 30,
    "start_time": "2024-01-22T07:52:15.923Z"
   },
   {
    "duration": 53,
    "start_time": "2024-01-22T07:52:15.954Z"
   },
   {
    "duration": 436,
    "start_time": "2024-01-22T07:52:16.009Z"
   },
   {
    "duration": 373,
    "start_time": "2024-01-22T07:52:16.446Z"
   },
   {
    "duration": 29,
    "start_time": "2024-01-22T07:52:16.821Z"
   },
   {
    "duration": 64,
    "start_time": "2024-01-22T07:52:16.851Z"
   },
   {
    "duration": 8,
    "start_time": "2024-01-22T07:52:16.916Z"
   },
   {
    "duration": 31,
    "start_time": "2024-01-22T07:52:16.925Z"
   },
   {
    "duration": 19,
    "start_time": "2024-01-22T07:52:16.957Z"
   },
   {
    "duration": 27,
    "start_time": "2024-01-22T07:52:16.978Z"
   },
   {
    "duration": 29,
    "start_time": "2024-01-22T07:52:17.007Z"
   },
   {
    "duration": 20,
    "start_time": "2024-01-22T07:52:17.037Z"
   },
   {
    "duration": 16,
    "start_time": "2024-01-22T07:52:17.058Z"
   },
   {
    "duration": 238,
    "start_time": "2024-01-22T07:52:17.075Z"
   },
   {
    "duration": 84,
    "start_time": "2024-01-22T07:54:42.040Z"
   },
   {
    "duration": 96,
    "start_time": "2024-01-22T07:54:56.419Z"
   },
   {
    "duration": 1130,
    "start_time": "2024-01-22T08:04:54.888Z"
   },
   {
    "duration": 53,
    "start_time": "2024-01-22T08:04:56.020Z"
   },
   {
    "duration": 67,
    "start_time": "2024-01-22T08:04:56.074Z"
   },
   {
    "duration": 78,
    "start_time": "2024-01-22T08:04:56.143Z"
   },
   {
    "duration": 34,
    "start_time": "2024-01-22T08:04:56.222Z"
   },
   {
    "duration": 51,
    "start_time": "2024-01-22T08:04:56.257Z"
   },
   {
    "duration": 28,
    "start_time": "2024-01-22T08:04:56.310Z"
   },
   {
    "duration": 39,
    "start_time": "2024-01-22T08:04:56.339Z"
   },
   {
    "duration": 36,
    "start_time": "2024-01-22T08:04:56.380Z"
   },
   {
    "duration": 43,
    "start_time": "2024-01-22T08:04:56.419Z"
   },
   {
    "duration": 47,
    "start_time": "2024-01-22T08:04:56.464Z"
   },
   {
    "duration": 49,
    "start_time": "2024-01-22T08:04:56.512Z"
   },
   {
    "duration": 47,
    "start_time": "2024-01-22T08:04:56.563Z"
   },
   {
    "duration": 212,
    "start_time": "2024-01-22T08:04:56.612Z"
   },
   {
    "duration": 259,
    "start_time": "2024-01-22T08:04:56.825Z"
   },
   {
    "duration": 23,
    "start_time": "2024-01-22T08:04:57.085Z"
   },
   {
    "duration": 109,
    "start_time": "2024-01-22T08:04:57.109Z"
   },
   {
    "duration": 328,
    "start_time": "2024-01-22T08:04:57.220Z"
   },
   {
    "duration": 8,
    "start_time": "2024-01-22T08:04:57.549Z"
   },
   {
    "duration": 71,
    "start_time": "2024-01-22T08:04:57.558Z"
   },
   {
    "duration": 46,
    "start_time": "2024-01-22T08:04:57.630Z"
   },
   {
    "duration": 405,
    "start_time": "2024-01-22T08:04:57.677Z"
   },
   {
    "duration": 22,
    "start_time": "2024-01-22T08:04:58.083Z"
   },
   {
    "duration": 70,
    "start_time": "2024-01-22T08:04:58.109Z"
   },
   {
    "duration": 160,
    "start_time": "2024-01-22T08:04:58.180Z"
   },
   {
    "duration": 2,
    "start_time": "2024-01-22T08:04:58.342Z"
   },
   {
    "duration": 80,
    "start_time": "2024-01-22T08:04:58.345Z"
   },
   {
    "duration": 30,
    "start_time": "2024-01-22T08:04:58.428Z"
   },
   {
    "duration": 61,
    "start_time": "2024-01-22T08:04:58.459Z"
   },
   {
    "duration": 72,
    "start_time": "2024-01-22T08:04:58.521Z"
   },
   {
    "duration": 504,
    "start_time": "2024-01-22T08:04:58.606Z"
   },
   {
    "duration": 374,
    "start_time": "2024-01-22T08:04:59.111Z"
   },
   {
    "duration": 38,
    "start_time": "2024-01-22T08:04:59.486Z"
   },
   {
    "duration": 53,
    "start_time": "2024-01-22T08:04:59.526Z"
   },
   {
    "duration": 31,
    "start_time": "2024-01-22T08:04:59.580Z"
   },
   {
    "duration": 96,
    "start_time": "2024-01-22T08:04:59.613Z"
   },
   {
    "duration": 75,
    "start_time": "2024-01-22T08:04:59.711Z"
   },
   {
    "duration": 64,
    "start_time": "2024-01-22T08:04:59.788Z"
   },
   {
    "duration": 71,
    "start_time": "2024-01-22T08:04:59.853Z"
   },
   {
    "duration": 43,
    "start_time": "2024-01-22T08:04:59.926Z"
   },
   {
    "duration": 111,
    "start_time": "2024-01-22T08:04:59.971Z"
   },
   {
    "duration": 319,
    "start_time": "2024-01-22T08:05:00.083Z"
   },
   {
    "duration": 1083,
    "start_time": "2024-01-22T10:42:17.741Z"
   },
   {
    "duration": 122,
    "start_time": "2024-01-22T10:42:18.826Z"
   },
   {
    "duration": 29,
    "start_time": "2024-01-22T10:42:18.950Z"
   },
   {
    "duration": 64,
    "start_time": "2024-01-22T10:42:18.982Z"
   },
   {
    "duration": 18,
    "start_time": "2024-01-22T10:42:19.047Z"
   },
   {
    "duration": 57,
    "start_time": "2024-01-22T10:42:19.066Z"
   },
   {
    "duration": 20,
    "start_time": "2024-01-22T10:42:19.124Z"
   },
   {
    "duration": 13,
    "start_time": "2024-01-22T10:42:19.146Z"
   },
   {
    "duration": 40,
    "start_time": "2024-01-22T10:42:19.161Z"
   },
   {
    "duration": 7,
    "start_time": "2024-01-22T10:42:19.204Z"
   },
   {
    "duration": 15,
    "start_time": "2024-01-22T10:42:19.213Z"
   },
   {
    "duration": 30,
    "start_time": "2024-01-22T10:42:19.229Z"
   },
   {
    "duration": 14,
    "start_time": "2024-01-22T10:42:19.260Z"
   },
   {
    "duration": 170,
    "start_time": "2024-01-22T10:42:19.275Z"
   },
   {
    "duration": 281,
    "start_time": "2024-01-22T10:42:19.446Z"
   },
   {
    "duration": 8,
    "start_time": "2024-01-22T10:42:19.729Z"
   },
   {
    "duration": 114,
    "start_time": "2024-01-22T10:42:19.738Z"
   },
   {
    "duration": 328,
    "start_time": "2024-01-22T10:42:19.853Z"
   },
   {
    "duration": 8,
    "start_time": "2024-01-22T10:42:20.183Z"
   },
   {
    "duration": 36,
    "start_time": "2024-01-22T10:42:20.193Z"
   },
   {
    "duration": 20,
    "start_time": "2024-01-22T10:42:20.231Z"
   },
   {
    "duration": 343,
    "start_time": "2024-01-22T10:42:20.252Z"
   },
   {
    "duration": 8,
    "start_time": "2024-01-22T10:42:20.597Z"
   },
   {
    "duration": 23,
    "start_time": "2024-01-22T10:42:20.607Z"
   },
   {
    "duration": 135,
    "start_time": "2024-01-22T10:42:20.632Z"
   },
   {
    "duration": 3,
    "start_time": "2024-01-22T10:42:20.769Z"
   },
   {
    "duration": 55,
    "start_time": "2024-01-22T10:42:20.773Z"
   },
   {
    "duration": 11,
    "start_time": "2024-01-22T10:42:20.831Z"
   },
   {
    "duration": 27,
    "start_time": "2024-01-22T10:42:20.843Z"
   },
   {
    "duration": 40,
    "start_time": "2024-01-22T10:42:20.872Z"
   },
   {
    "duration": 454,
    "start_time": "2024-01-22T10:42:20.914Z"
   },
   {
    "duration": 409,
    "start_time": "2024-01-22T10:42:21.370Z"
   },
   {
    "duration": 45,
    "start_time": "2024-01-22T10:42:21.781Z"
   },
   {
    "duration": 52,
    "start_time": "2024-01-22T10:42:21.827Z"
   },
   {
    "duration": 9,
    "start_time": "2024-01-22T10:42:21.880Z"
   },
   {
    "duration": 44,
    "start_time": "2024-01-22T10:42:21.890Z"
   },
   {
    "duration": 53,
    "start_time": "2024-01-22T10:42:21.936Z"
   },
   {
    "duration": 28,
    "start_time": "2024-01-22T10:42:21.991Z"
   },
   {
    "duration": 20,
    "start_time": "2024-01-22T10:42:22.021Z"
   },
   {
    "duration": 41,
    "start_time": "2024-01-22T10:42:22.043Z"
   },
   {
    "duration": 63,
    "start_time": "2024-01-22T10:42:22.086Z"
   },
   {
    "duration": 273,
    "start_time": "2024-01-22T10:42:22.151Z"
   },
   {
    "duration": 179,
    "start_time": "2024-01-22T10:46:55.090Z"
   },
   {
    "duration": 14,
    "start_time": "2024-01-22T10:49:20.537Z"
   },
   {
    "duration": 248,
    "start_time": "2024-01-22T10:50:46.553Z"
   }
  ],
  "kernelspec": {
   "display_name": "Python 3 (ipykernel)",
   "language": "python",
   "name": "python3"
  },
  "language_info": {
   "codemirror_mode": {
    "name": "ipython",
    "version": 3
   },
   "file_extension": ".py",
   "mimetype": "text/x-python",
   "name": "python",
   "nbconvert_exporter": "python",
   "pygments_lexer": "ipython3",
   "version": "3.9.5"
  },
  "toc": {
   "base_numbering": 1,
   "nav_menu": {},
   "number_sections": true,
   "sideBar": true,
   "skip_h1_title": true,
   "title_cell": "Table of Contents",
   "title_sidebar": "Contents",
   "toc_cell": false,
   "toc_position": {},
   "toc_section_display": true,
   "toc_window_display": true
  }
 },
 "nbformat": 4,
 "nbformat_minor": 5
}
